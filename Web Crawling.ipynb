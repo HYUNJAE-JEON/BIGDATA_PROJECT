{
  "nbformat": 4,
  "nbformat_minor": 0,
  "metadata": {
    "colab": {
      "name": "aSSIST SIE 크롤링 실습",
      "provenance": [],
      "collapsed_sections": [],
      "include_colab_link": true
    },
    "kernelspec": {
      "name": "python3",
      "display_name": "Python 3"
    }
  },
  "cells": [
    {
      "cell_type": "markdown",
      "metadata": {
        "id": "view-in-github",
        "colab_type": "text"
      },
      "source": [
        "<a href=\"https://colab.research.google.com/github/HYUNJAE-JEON/HYUNJAE-Python-Exercise/blob/master/Web%20Crawling.ipynb\" target=\"_parent\"><img src=\"https://colab.research.google.com/assets/colab-badge.svg\" alt=\"Open In Colab\"/></a>"
      ]
    },
    {
      "cell_type": "markdown",
      "metadata": {
        "id": "emRNCxZGMwh0"
      },
      "source": [
        "# **<< aSSIST 크롤링 실습 코드 자료 >>** \n",
        "by. 디지털혁신처 박지혜"
      ]
    },
    {
      "cell_type": "markdown",
      "metadata": {
        "id": "npmShzbtMdrt"
      },
      "source": [
        "안녕하세요! aSSIST 구성원 여러분들. \n",
        "이 시트는 업무자동화의 첫걸음, 크롤링을 여러분께 설명하기 위한 자료입니다.\n",
        "\n",
        "여러분의 업무에 이용해보세요! "
      ]
    },
    {
      "cell_type": "markdown",
      "metadata": {
        "id": "OVRYOcxAMDfD"
      },
      "source": [
        "크롤링을 하기 전에 미리 준비해놓아야하는 준비물 같은 것이 있어요! \n",
        "우리가 크롤링을 할 수 있도록 도와주는 기능인데요, 옆에 [  ]에 마우스 커서를 가져가면 화살표가 보일거에요!\n",
        "이제부터 그것만 클릭하면 여러분은 크롤링을 활용하여 업무를 하실 수 있게 됩니다."
      ]
    },
    {
      "cell_type": "code",
      "metadata": {
        "id": "TPxsr0f24SO2",
        "colab": {
          "base_uri": "https://localhost:8080/"
        },
        "outputId": "ad3feddb-0025-4b07-f0ae-bdc71547d8b0"
      },
      "source": [
        "!pip install beautifulsoup4\n",
        "!pip install link\n",
        "!pip install requests\n",
        "!pip install find\n",
        "!pip install links"
      ],
      "execution_count": null,
      "outputs": [
        {
          "output_type": "stream",
          "text": [
            "Requirement already satisfied: beautifulsoup4 in /usr/local/lib/python3.6/dist-packages (4.6.3)\n",
            "Collecting link\n",
            "  Downloading https://files.pythonhosted.org/packages/1c/39/f6ff6e57230eab4eda382fc343356ae90c5e45acb2cf227c0103e63094c8/link-2.0.2.tar.gz\n",
            "Requirement already satisfied: requests>=2.0.0 in /usr/local/lib/python3.6/dist-packages (from link) (2.23.0)\n",
            "Requirement already satisfied: requests_oauthlib>=0.4.0 in /usr/local/lib/python3.6/dist-packages (from link) (1.3.0)\n",
            "Requirement already satisfied: pandas in /usr/local/lib/python3.6/dist-packages (from link) (1.1.4)\n",
            "Collecting xmltodict\n",
            "  Downloading https://files.pythonhosted.org/packages/28/fd/30d5c1d3ac29ce229f6bdc40bbc20b28f716e8b363140c26eff19122d8a5/xmltodict-0.12.0-py2.py3-none-any.whl\n",
            "Requirement already satisfied: six in /usr/local/lib/python3.6/dist-packages (from link) (1.15.0)\n",
            "Requirement already satisfied: urllib3!=1.25.0,!=1.25.1,<1.26,>=1.21.1 in /usr/local/lib/python3.6/dist-packages (from requests>=2.0.0->link) (1.24.3)\n",
            "Requirement already satisfied: chardet<4,>=3.0.2 in /usr/local/lib/python3.6/dist-packages (from requests>=2.0.0->link) (3.0.4)\n",
            "Requirement already satisfied: certifi>=2017.4.17 in /usr/local/lib/python3.6/dist-packages (from requests>=2.0.0->link) (2020.6.20)\n",
            "Requirement already satisfied: idna<3,>=2.5 in /usr/local/lib/python3.6/dist-packages (from requests>=2.0.0->link) (2.10)\n",
            "Requirement already satisfied: oauthlib>=3.0.0 in /usr/local/lib/python3.6/dist-packages (from requests_oauthlib>=0.4.0->link) (3.1.0)\n",
            "Requirement already satisfied: pytz>=2017.2 in /usr/local/lib/python3.6/dist-packages (from pandas->link) (2018.9)\n",
            "Requirement already satisfied: python-dateutil>=2.7.3 in /usr/local/lib/python3.6/dist-packages (from pandas->link) (2.8.1)\n",
            "Requirement already satisfied: numpy>=1.15.4 in /usr/local/lib/python3.6/dist-packages (from pandas->link) (1.18.5)\n",
            "Building wheels for collected packages: link\n",
            "  Building wheel for link (setup.py) ... \u001b[?25l\u001b[?25hdone\n",
            "  Created wheel for link: filename=link-2.0.2-cp36-none-any.whl size=44086 sha256=d7a07b106958ce22837c3b240ffea4f5fa62e15fe77697820c707643824f1121\n",
            "  Stored in directory: /root/.cache/pip/wheels/85/66/13/b2300f91d0191808578a8bc0d5041e2d52ffb76ad60edd1fb1\n",
            "Successfully built link\n",
            "Installing collected packages: xmltodict, link\n",
            "Successfully installed link-2.0.2 xmltodict-0.12.0\n",
            "Requirement already satisfied: requests in /usr/local/lib/python3.6/dist-packages (2.23.0)\n",
            "Requirement already satisfied: certifi>=2017.4.17 in /usr/local/lib/python3.6/dist-packages (from requests) (2020.6.20)\n",
            "Requirement already satisfied: chardet<4,>=3.0.2 in /usr/local/lib/python3.6/dist-packages (from requests) (3.0.4)\n",
            "Requirement already satisfied: idna<3,>=2.5 in /usr/local/lib/python3.6/dist-packages (from requests) (2.10)\n",
            "Requirement already satisfied: urllib3!=1.25.0,!=1.25.1,<1.26,>=1.21.1 in /usr/local/lib/python3.6/dist-packages (from requests) (1.24.3)\n",
            "Collecting find\n",
            "  Downloading https://files.pythonhosted.org/packages/fd/ec/300fb7fe428858a278f6a12e69437522e34cfff7a569c4011c6f9f69c467/find-2020.7.1.tar.gz\n",
            "Building wheels for collected packages: find\n",
            "  Building wheel for find (setup.py) ... \u001b[?25l\u001b[?25hdone\n",
            "  Created wheel for find: filename=find-0.0.0-cp36-none-any.whl size=1343 sha256=2ef2f1fef3649c204a055da5edb04b399a3194205509560505ae0148250064a3\n",
            "  Stored in directory: /root/.cache/pip/wheels/35/2b/1f/c2edd9b11b3cca6110d47b3e2af3c89f3dc1305af43f0b3e43\n",
            "Successfully built find\n",
            "Installing collected packages: find\n",
            "Successfully installed find-0.0.0\n",
            "Collecting links\n",
            "  Downloading https://files.pythonhosted.org/packages/66/bd/46336acc684ad54414d63523ce2ca83bc66f2f69bcb3cdb915d37c227af4/Links-1.0.tar.gz\n",
            "Building wheels for collected packages: links\n",
            "  Building wheel for links (setup.py) ... \u001b[?25l\u001b[?25hdone\n",
            "  Created wheel for links: filename=Links-1.0-cp36-none-any.whl size=1493 sha256=91987626de8a3f66518ca51250cd9ecd49ac2c5196e190c15d83fda44b3c6aa7\n",
            "  Stored in directory: /root/.cache/pip/wheels/2b/cb/5a/33764c8c3b4f823bd4fd5c5c8a3e61c7bf3fe17516806d3cef\n",
            "Successfully built links\n",
            "Installing collected packages: links\n",
            "Successfully installed links-1.0\n"
          ],
          "name": "stdout"
        }
      ]
    },
    {
      "cell_type": "markdown",
      "metadata": {
        "id": "y74FH_QRL1Y7"
      },
      "source": [
        "# **크롤링 준비 완료!! 이제 직접 클릭만으로 크롤링을 해봅시다!!**"
      ]
    },
    {
      "cell_type": "markdown",
      "metadata": {
        "id": "XMSxEXXHNxfT"
      },
      "source": [
        "1. 크롤링의 기능 이해하기(1)"
      ]
    },
    {
      "cell_type": "code",
      "metadata": {
        "id": "vlLXLHUq4-uc",
        "colab": {
          "base_uri": "https://localhost:8080/"
        },
        "outputId": "844d2d81-9018-4228-ca44-b873eb9191b0"
      },
      "source": [
        "#원하는 정보 크롤링 1(크롤링의 기능)\n",
        "\n",
        "import requests\n",
        "from bs4 import BeautifulSoup\n",
        "\n",
        "def get_subjects():\n",
        "  subjects=[]\n",
        "\n",
        "  req = requests.get(\"https://basicenglishspeaking.com/daily-english-conversation-topics/\")\n",
        "  html = req.text\n",
        "  soup=BeautifulSoup(html,'html.parser')\n",
        "  divs= soup.findAll('div',{'class' : \"thrv_wrapper thrv-columns\"})\n",
        "\n",
        "  for div in divs:\n",
        "    links =div.findAll('a')\n",
        "\n",
        "    for link in links:\n",
        "      subject = link.text\n",
        "      subjects.append(subject)\n",
        "    return subjects\n",
        "\n",
        "subjects = get_subjects()\n",
        "\n",
        "print('총', len(subjects), '개의 주제를 찾았습니다.')\n",
        "print(subjects)"
      ],
      "execution_count": null,
      "outputs": [
        {
          "output_type": "stream",
          "text": [
            "총 75 개의 주제를 찾았습니다.\n",
            "['Family', 'Restaurant', 'Books', 'Travel', 'Website', 'Accident', 'Childhood memory', 'Favorite rooms', 'Presents', 'Historical place', 'Newspaper/ Magazine', 'A memorable event', 'A favorite subject', 'A museum', 'A favorite movie', 'A foreign country', 'Parties', 'A teacher', 'A friend', 'A hotel', 'A letter', 'Hobbies', 'Music', 'Shopping', 'Holiday', 'Animals', 'A practical skill', 'Sport', 'A School', 'Festival', 'Food', 'Household appliance', 'A music band', 'Weather', 'Neighbor', 'Natural scenery', 'Outdoor activities', 'Law', 'Pollution', 'Traffic jam', 'TV program', 'Architect/ Building', 'Electronic Media', 'Job/ Career', 'Competition/ contest', 'A garden', 'Hometown', 'Clothing', 'Advertisement', 'A project', 'A wedding', 'A Coffee shop', 'Culture', 'Transport', 'Politician', 'Communication', 'Business', 'Computer', 'Exercise', 'Goal/ ambition', 'Art', 'Fashion', 'Jewelry', 'Cosmetic', 'Indoor Game', 'Phone conversation', 'Learning A Second language', 'A\\xa0Creative Person', 'A celebrity', 'A Health Problem', 'Technological advancements', 'A Landmark', 'Handcraft Items', 'Plastic Surgery', 'Success']\n"
          ],
          "name": "stdout"
        }
      ]
    },
    {
      "cell_type": "markdown",
      "metadata": {
        "id": "Dk0kqzN5N5O7"
      },
      "source": [
        "2. 크롤링의 기능 이해하기 (2)"
      ]
    },
    {
      "cell_type": "code",
      "metadata": {
        "id": "GZbIpio15g2g",
        "colab": {
          "base_uri": "https://localhost:8080/"
        },
        "outputId": "7ac1e92f-7f25-4c19-dc2e-7d11fba1f092"
      },
      "source": [
        "#원하는 정보 크롤링 2\n",
        "\n",
        "class Conversation:\n",
        "  def __init__(self,question,answer):\n",
        "    self.question=question\n",
        "    self.answer=answer\n",
        "\n",
        "  def __str__(self):\n",
        "    return '질문: '  +self.question + '\\n답변: ' + self.answer + '\\n'\n",
        "\n",
        "conversations = []\n",
        "i=1\n",
        "\n",
        "for sub in subjects:\n",
        "  print(\"(\",i,\"/\",len(subjects),')',sub)\n",
        "  req = requests.get(\"https://basicenglishspeaking.com/\" + sub)\n",
        "  html = req.text\n",
        "  soup=BeautifulSoup(html,'html.parser')\n",
        "\n",
        "  qnas=soup.findAll('div',{'class':'sc_player_container1'})\n",
        "\n",
        "  for qna in qnas:\n",
        "    if qnas.index(qna) %2 == 0:\n",
        "      q= qna.next_sibling\n",
        "    else: \n",
        "      a= qna.next_sibling\n",
        "      c= Conversation(q,a)\n",
        "      conversations.append(c)\n",
        "\n",
        "  i+=1\n",
        "  if i==10:\n",
        "    break;\n",
        "\n",
        "print('총', len(conversations), '개의 주제를 찾았습니다.')\n",
        "for c in conversations:\n",
        "  print(str(c))\n"
      ],
      "execution_count": null,
      "outputs": [
        {
          "output_type": "stream",
          "text": [
            "( 1 / 75 ) Family\n",
            "( 2 / 75 ) Restaurant\n",
            "( 3 / 75 ) Books\n",
            "( 4 / 75 ) Travel\n",
            "( 5 / 75 ) Website\n",
            "( 6 / 75 ) Accident\n",
            "( 7 / 75 ) Childhood memory\n",
            "( 8 / 75 ) Favorite rooms\n",
            "( 9 / 75 ) Presents\n",
            "총 64 개의 주제를 찾았습니다.\n",
            "질문: How many people are there in your family?\n",
            "답변: There are 5 people in my family: my father, mother, brother, sister, and me.\n",
            "\n",
            "질문: Does your family live in a house or an apartment?\n",
            "답변: We live in a house in the countryside.\n",
            "\n",
            "질문: What does your father do?\n",
            "답변: My father is a doctor. He works at the local hospital.\n",
            "\n",
            "질문: How old is your mother?\n",
            "답변: She is 40 years old, 1 year younger than my father.\n",
            "\n",
            "질문: Do you have any siblings? What’s his/her name?\n",
            "답변: Yes, I do. I have 1 elder brother, David, and 1 younger sister, Mary.\n",
            "\n",
            "질문: Are you the oldest amongst your brothers and sisters?\n",
            "답변: No, I’m not. I’m the second child in my family.\n",
            "\n",
            "질문: What do your mother/father like?\n",
            "답변: My father likes playing football and my mother likes cooking.\n",
            "\n",
            "질문: Do your parents let you stay out late?\n",
            "답변: Of course not. They always ask me to get home before 10 pm each night.\n",
            "\n",
            "질문: Do you stay with your parents?\n",
            "답변: Right now, no, but I used to.\n",
            "\n",
            "질문: Does your family usually have dinner together?\n",
            "답변: Yes, we do. My mom always prepares delicious meals for us.\n",
            "\n",
            "질문: How often do you eat out? Who do you go with?\n",
            "답변: I often eat out on weekends, when I hang out with my friends.\n",
            "\n",
            "질문: What restaurant do you usually visit?\n",
            "답변: Well, there are not many restaurants in my neighborhood, so my best choice is the deli in convenient stores like the Circle K, Mini-Stop, B-smart.\n",
            "\n",
            "질문: What type of food do you enjoy to eat? Western or Asian?\n",
            "답변: I’m interested in Asian food, Western food is not my thing.\n",
            "\n",
            "질문: How much do you usually pay when you eat out?\n",
            "답변: It’s not very expensive, just around $5 for each meal.\n",
            "\n",
            "질문: Do you enjoy spicy food?\n",
            "답변: Yes, I do, especially on cold days.\n",
            "\n",
            "질문: Are the servers there friendly to you?\n",
            "답변: Yes, they are. Most of them are really helpful.\n",
            "\n",
            "질문: Have you ever tried Italian food?\n",
            "답변: Yes, at least once, when I was in my friend’s wedding party.\n",
            "\n",
            "질문: Are you concerned about calories when eating out?\n",
            "답변: Yes, I am. I’m on diet now, so this really matters to me.\n",
            "\n",
            "질문: Are fast food restaurants like KFC or McDonald’s famous in your country?\n",
            "답변: Yes, they are. The youth in my country are big fans of fast food.\n",
            "\n",
            "질문: Do you often drink alcohol when eating out?\n",
            "답변: No, not often. Just when I have parties with my friends.\n",
            "\n",
            "질문: How often do you read books?\n",
            "답변: I read books almost every night before I go to bed.\n",
            "\n",
            "질문: What’s your favorite type of book?\n",
            "답변: I love reading about different cultures.\n",
            "\n",
            "질문: What can you learn from books?\n",
            "답변: Books can broaden my horizon about thousands of things around the world, and books are also my best friends.\n",
            "\n",
            "질문: Where do you read books?\n",
            "답변: I read books at home, sometimes in the library.\n",
            "\n",
            "질문: What’s the most interesting book you have ever read?\n",
            "답변: I think that would be \n",
            "\n",
            "질문: How long does it take you to finish a book?\n",
            "답변: Well, it depends on the length of the book, but it usually takes me a week to finish a 300-page book.\n",
            "\n",
            "질문: Do you usually bring books with you when you travel?\n",
            "답변: Yes, I do. When I’m at the airport or bus station, I read books to kill time.\n",
            "\n",
            "질문: Is there any bookstore or library in your area?\n",
            "답변: Unfortunately, there are none near my house. The nearest one is 3 kilometers away.\n",
            "\n",
            "질문: How many places have you traveled to?\n",
            "답변: I’ve visited all the provinces throughout my country.\n",
            "\n",
            "질문: Who do you usually go with?\n",
            "답변: I often go with my family, sometimes with my best friends.\n",
            "\n",
            "질문: What’s your favorite tourist attraction?\n",
            "답변: That would be Venice city in Italy. I love riding the gondola along the canals while watching Italian people live their daily lives.\n",
            "\n",
            "질문: Have you ever been abroad?\n",
            "답변: Yes, I have. I came to Italy last year for a business trip.\n",
            "\n",
            "질문: What language do you use when traveling?\n",
            "답변: English, but sometimes I have to use body language since not all people are good at English.\n",
            "\n",
            "질문: What do you usually do during your trip?\n",
            "답변: I often go sightseeing, take pictures, mingle with the local people and sample the local cuisine.\n",
            "\n",
            "질문: What do you do to prepare for your trip?\n",
            "답변: Before the trip, I search for information about the location, weather, famous tourist attractions, transportation, local cuisine and prices on the internet.\n",
            "\n",
            "질문: What do you usually bring when you travel?\n",
            "답변: I usually pack my suitcase with some necessary items such as clothes, medicine, food, a map, and a camera.\n",
            "\n",
            "질문: Do you prefer traveling by car, train or plane?\n",
            "답변: I prefer planes although it can be a little expensive. Planes are much faster than any other mode of transport.\n",
            "\n",
            "질문: Do you prefer traveling alone or joining a guided tour?\n",
            "답변: I love backpacking with my friends who share the same interests as me.\n",
            "\n",
            "질문: What type of websites do you often search for?\n",
            "답변: It varies depending on my goal. I prefer entertainment and education websites such as facebook.com, wikipedia.org and VOA Special English.\n",
            "\n",
            "질문: How long have you been using them?\n",
            "답변: I have been using these websites since I was a freshman at university.\n",
            "\n",
            "질문: What do you visit those websites for?\n",
            "답변: I use them to study online or relax after working.\n",
            "\n",
            "질문: What’s your favorite website?\n",
            "답변: I think it’s probably youtube.com.\n",
            "\n",
            "질문: Can you read websites in English?\n",
            "답변: Yes, I can. Most useful websites are written in English.\n",
            "\n",
            "질문: What’s the most popular website in your country?\n",
            "답변: I’m not quite sure, but I guess it would be facebook.com.\n",
            "\n",
            "질문: Do you think the youth should use websites as a reliable source of knowledge?\n",
            "답변: Not always, they should choose their sources carefully.\n",
            "\n",
            "질문: Have you ever been in any traffic accident?\n",
            "답변: Yes, three years ago.\n",
            "\n",
            "질문: What happened?\n",
            "답변: I was hit by a car while crossing the road.\n",
            "\n",
            "질문: How did you feel then?\n",
            "답변: I felt really terrible because of my injuries.\n",
            "\n",
            "질문: Who was involved in the accident?\n",
            "답변: The car driver, his family (inside the car), and me.\n",
            "\n",
            "질문: Did the insurance company pay for repair service?\n",
            "답변: I was walking so I did not require any car repair services.\n",
            "\n",
            "질문: Did you need a lawyer?\n",
            "답변: I hurt my lower back just a little, so I didn’t call a lawyer.\n",
            "\n",
            "질문: Did you report the issue to the police?\n",
            "답변: No, we didn’t want to get the police involved.\n",
            "\n",
            "질문: Were you sent to the hospital after the accident?\n",
            "답변: No, the injury wasn’t really serious.\n",
            "\n",
            "질문: Do you have a driving license?\n",
            "답변: Yes, I do. I always keep it in my purse.\n",
            "\n",
            "질문: Why should people obey traffic regulations?\n",
            "답변: To protect themselves and others. The best ways are to wear a helmet, wait for traffic lights and stay in the appropriate vehicle/pedestrian lanes.\n",
            "\n",
            "질문: What kind of presents are popular in your country?\n",
            "답변: It depends on the receivers. For children, toys are the best choice. For youth, souvenirs are recommended.\n",
            "\n",
            "질문: Who gave presents to you? On what occasions?\n",
            "답변: I have received many presents, most of which were from my friends. They gave me gifts on my birthday.\n",
            "\n",
            "질문: What was your last present?\n",
            "답변: It was a hand-made doll, given by my best friend when I moved to another city.\n",
            "\n",
            "질문: What was the one you like best?\n",
            "답변: I loved my book Nepal a lot. It was given to me on my 23rd birthday by my brother.\n",
            "\n",
            "질문: Did you ever get a present you didn’t like?\n",
            "답변: Yes, I have, but I still treasure and take care of them.\n",
            "\n",
            "질문: How do you thank people who give you presents?\n",
            "답변: I gave them presents that they would like.\n",
            "\n",
            "질문: What are the times of the year that people give presents in your country?\n",
            "답변: Some special occasions are birthdays, weddings, graduation, New Year’s day, Valentine’s day, housewarming ceremonies, etc.\n",
            "\n",
            "질문: Who was the last person you gave a present to?\n",
            "답변: My mom, I bought her a coat on a business trip to Bangkok.\n",
            "\n",
            "질문: Is giving presents important in daily life?\n",
            "답변: Yes, it is. It’s one of the best ways to show your love and gratitude to someone.\n",
            "\n"
          ],
          "name": "stdout"
        }
      ]
    },
    {
      "cell_type": "markdown",
      "metadata": {
        "id": "zoFQG9geN8Oz"
      },
      "source": [
        "# 3. 크롤링 활용"
      ]
    },
    {
      "cell_type": "code",
      "metadata": {
        "id": "qOJImbpU5iBN",
        "colab": {
          "base_uri": "https://localhost:8080/"
        },
        "outputId": "f6533f1d-cd32-4db9-82b0-9f7c158664c1"
      },
      "source": [
        "#웹크롤링 적용(aSSIST 공지사항)\n",
        "\n",
        "import requests\n",
        "from bs4 import BeautifulSoup\n",
        "\n",
        "\n",
        "request =requests.get(\"http://www.assist.ac.kr/common/board/board_list.php?bid=notice\")\n",
        "\n",
        "html=request.text\n",
        "\n",
        "soup=BeautifulSoup(html,'html.parser')\n",
        "\n",
        "links = soup.select('td > a')\n",
        "\n",
        "for link in links:\n",
        "  if link.has_attr(\"href\"):\n",
        "    if link.get('href').find(\"notice\")!=-1:\n",
        "      print(link.text,'\\n')"
      ],
      "execution_count": null,
      "outputs": [
        {
          "output_type": "stream",
          "text": [
            "aSSIST 경영대학원 온라인 강의, 높은 강의 만족도 기록 \n",
            "\n",
            "신종 코로나 바이러스 감염증 예방수칙, 행동수칙, 자가격리대상자(가족, 동거인) 생활수칙 \n",
            "\n",
            "2020학년도 후기 크립토 MBA 홍보마케팅 대행 용역기관 선정 공고의 건  \n",
            "\n",
            "다중이용시설 이용 학생 및 교직원 적극검사 안내 \n",
            "\n",
            "개인정보처리방침 변경 안내 \n",
            "\n",
            "2020학년도 하반기 전임교원 초빙 공고 \n",
            "\n",
            "코로나19 감염병 학생안내(개강연기) \n",
            "\n",
            "신종 코로나바이러스 관련 안내 \n",
            "\n",
            "신종 코로나 바이러스 감염증 예방수칙 및 FAQ \n",
            "\n",
            "2020학년도 크립토 MBA 홍보마케팅 대행 용역기관 선정 공고의 건 \n",
            "\n",
            "2019년 교육부 재난안전한국훈련 \n",
            "\n",
            "국민참여 지진대피훈련(제413차 민방위의 날 훈련) \n",
            "\n",
            "[2018 알토대 MBA(LG)] 2019학년도 해외연수 여행사선정 입찰공고  \n",
            "\n",
            "개인정보처리방침 변경 안내 \n",
            "\n",
            "2019학년도 크립토 MBA 홍보마케팅 대행 용역기관 선정 공고의 건 \n",
            "\n"
          ],
          "name": "stdout"
        }
      ]
    },
    {
      "cell_type": "code",
      "metadata": {
        "id": "9D-mCOC4F9iG",
        "colab": {
          "base_uri": "https://localhost:8080/"
        },
        "outputId": "1d754a61-c6ba-45cf-de45-4ece21dc635f"
      },
      "source": [
        "#바로 사용 가능!!⭐\n",
        "#웹크롤링 적용 2탄(aSSIST 공지사항)\n",
        "\n",
        "import requests\n",
        "from bs4 import BeautifulSoup\n",
        "\n",
        "pageNum=1\n",
        "count =1\n",
        "\n",
        "i= input('몇 페이지까지 크롤링 할까요?: ')\n",
        "\n",
        "lastpage= int(i)+1\n",
        "\n",
        "while pageNum < lastpage : \n",
        "  url= f'http://www.assist.ac.kr/common/board/board_list.php?page={pageNum}&bid=notice&sfld=&sval='\n",
        "  \n",
        "  request =requests.get(url)\n",
        "  html=request.text\n",
        "  soup=BeautifulSoup(html,'html.parser')\n",
        "\n",
        "  links = soup.select('td > a')\n",
        "\n",
        "  print('\\n',f'---------{count} 페이지 결과입니다.---------')\n",
        "  for link in links:\n",
        "    if link.has_attr(\"href\"):\n",
        "      if link.get('href').find(\"notice\")!=-1:\n",
        "        print(link.text)\n",
        "\n",
        "  pageNum +=1\n",
        "  count+=1"
      ],
      "execution_count": null,
      "outputs": [
        {
          "output_type": "stream",
          "text": [
            "몇 페이지까지 크롤링 할까요?: 3\n",
            "\n",
            " ---------1 페이지 결과입니다.---------\n",
            "aSSIST 경영대학원 온라인 강의, 높은 강의 만족도 기록\n",
            "신종 코로나 바이러스 감염증 예방수칙, 행동수칙, 자가격리대상자(가족, 동거인) 생활수칙\n",
            "2020학년도 후기 크립토 MBA 홍보마케팅 대행 용역기관 선정 공고의 건 \n",
            "다중이용시설 이용 학생 및 교직원 적극검사 안내\n",
            "개인정보처리방침 변경 안내\n",
            "2020학년도 하반기 전임교원 초빙 공고\n",
            "코로나19 감염병 학생안내(개강연기)\n",
            "신종 코로나바이러스 관련 안내\n",
            "신종 코로나 바이러스 감염증 예방수칙 및 FAQ\n",
            "2020학년도 크립토 MBA 홍보마케팅 대행 용역기관 선정 공고의 건\n",
            "2019년 교육부 재난안전한국훈련\n",
            "국민참여 지진대피훈련(제413차 민방위의 날 훈련)\n",
            "[2018 알토대 MBA(LG)] 2019학년도 해외연수 여행사선정 입찰공고 \n",
            "개인정보처리방침 변경 안내\n",
            "2019학년도 크립토 MBA 홍보마케팅 대행 용역기관 선정 공고의 건\n",
            "\n",
            " ---------2 페이지 결과입니다.---------\n",
            "겨울철 재난대비 행동요령\n",
            "입찰공고 (2018-1호) 서울과학종합대학원대학교 환경미화용역\n",
            "2019학년도 상반기 전임교원 신규채용 공고\n",
            "태풍 대비 행동요령 \n",
            "신규 학사행정시스템 구축 사업 입찰 우선협상대상자 선정 공고\n",
            "신규 학사행정시스템 구축 사업 입찰공고\n",
            "2017 알토대 MBA(LG) 2018학년도 해외연수 여행사선정 입찰공고 \n",
            "견적공고(2018-3호) - 핀란드타워 지하 1층 강의장 가구 납품\n",
            "견적공고(2018-2호) - 핀란드타워 지하 1층 강의장 음향장비 납품 및 설치 \n",
            "2017 알토대 EMBA(KB) 해외연수 여행사선정 입찰공고\n",
            "견적공고(2018-1호) - 본관 1층 환경개선 공사\n",
            "개인정보 처리방침 변경 안내\n",
            "2018 국가안전대진단 실시 (2/5~4/13)\n",
            "서울과학종합대학원대학교 일반경쟁입찰공고 제 2017-01호 : 핀란드타워 인테리어 일반경쟁입찰공고\n",
            "2018학년도 하반기 전임교원 신규채용 공고\n",
            "\n",
            " ---------3 페이지 결과입니다.---------\n",
            "2018학년도 디지털 전략기획 MBA 홍보마케팅 대행 용역기관 선정 공고의 건 \n",
            "2016 알토대 EMBA(KB) 해외연수 여행사선정 입찰공고\n",
            "개인정보의 제3자 제공 공고 (병무청)\n",
            "개인정보처리방침 변경 안내\n",
            "2016 알토대 MBA(LG) 2017학년도 해외연수 여행사선정 입찰공고 \n",
            "2017 국가안전 대진단(2.6~3.31)\n",
            "2017학년도 전임교원 신규채용 공고\n",
            "2017학년도 상반기 전임교원 신규채용 공고\n",
            "핀란드타워 인테리어공사 입찰공고\n",
            "서울과학종합대학원대학교 청탁금지법 공무수행사인 공개\n",
            "개인정보의 목적 외 이용 또는 제3자 제공 공고\n",
            "개인정보의 목적 외 이용 또는 제3자 제공 공고\n",
            "i-MBA(LG) 2016학년도 해외연수 여행사선정 입찰공고 \n",
            "네트워크 시스템 구축 사업 입찰 취소 공고\n",
            "네트워크 시스템 구축 사업 입찰공고\n"
          ],
          "name": "stdout"
        }
      ]
    },
    {
      "cell_type": "markdown",
      "metadata": {
        "id": "raHyQMsnOVgi"
      },
      "source": [
        "# 4. 네이버 이미지 긁어오기"
      ]
    },
    {
      "cell_type": "code",
      "metadata": {
        "id": "9UhyyCyCGv-X",
        "colab": {
          "base_uri": "https://localhost:8080/"
        },
        "outputId": "d7cafd4e-2cce-4490-ee26-d5a2de5fec1b"
      },
      "source": [
        "#이미지 크롤링\n",
        "\n",
        "from urllib.request import urlopen\n",
        "from bs4 import BeautifulSoup as bs\n",
        "from urllib.parse import quote_plus\n",
        "\n",
        "baseUrl = 'https://search.naver.com/search.naver?where=image&sm=tab_jum&query='\n",
        "plusUrl = input('검색어를 입력하세요 : ')\n",
        "# url = baseurl + 검색어\n",
        "url = baseUrl + quote_plus(plusUrl)\n",
        "html = urlopen(url)\n",
        "soup = bs(html, \"html.parser\")\n",
        "img = soup.find_all(class_='_img')\n",
        "\n",
        "n = 1\n",
        "for i in img:\n",
        "    imgUrl = i['data-source']\n",
        "    with urlopen(imgUrl) as f:\n",
        "        with open('./img/' + plusUrl + str(n)+'.jpg','wb') as h: \n",
        "            img = f.read()\n",
        "            h.write(img)\n",
        "    n += 1\n",
        "print('다운로드 완료')"
      ],
      "execution_count": null,
      "outputs": [
        {
          "output_type": "stream",
          "text": [
            "검색어를 입력하세요 : 포도\n",
            "다운로드 완료\n"
          ],
          "name": "stdout"
        }
      ]
    },
    {
      "cell_type": "markdown",
      "metadata": {
        "id": "9bnb8mlvObbc"
      },
      "source": [
        "# 5. 네이버 블로그 긁어오기 "
      ]
    },
    {
      "cell_type": "code",
      "metadata": {
        "id": "BtaFAUWMKaKT",
        "colab": {
          "base_uri": "https://localhost:8080/"
        },
        "outputId": "7a6896e8-c5c2-40f8-b96f-a53b1ac365f7"
      },
      "source": [
        "#바로 사용 가능!!⭐\n",
        "#네이버 블로그 크롤링 \n",
        "\n",
        "import urllib.request\n",
        "import requests\n",
        "from bs4 import BeautifulSoup\n",
        "\n",
        "baseurl= 'https://search.naver.com/search.naver?where=post&sm=tab_jum&query='\n",
        "plusurl= input('검색어를 입력하세요: ')\n",
        "request=requests.get(baseurl+plusurl)\n",
        "\n",
        "html=request.text\n",
        "\n",
        "soup=BeautifulSoup(html,'html.parser')\n",
        "\n",
        "total = soup.select('.api_txt_lines.total_tit')\n",
        "\n",
        "\n",
        "for i in total:\n",
        "  print(i.text)\n",
        "  print(i.attrs['href'],'\\n')"
      ],
      "execution_count": null,
      "outputs": [
        {
          "output_type": "stream",
          "text": [
            "검색어를 입력하세요: 사과\n",
            "깍두기 담그기 설탕 없이 사과 갈아서!\n",
            "https://blog.naver.com/bongs1021?Redirect=Log&logNo=222127909188 \n",
            "\n",
            "향긋한 사과향이 퍼지는 사과쿠키.....라임마레시피\n",
            "https://yummycook.blog.me/222142342577 \n",
            "\n",
            "세척사과 난 엔비사과로 픽!\n",
            "https://blog.naver.com/aroomon?Redirect=Log&logNo=222148065304 \n",
            "\n",
            "사과요리, 사과조림 넣은 파운드빵 만들기\n",
            "https://blog.naver.com/yimi0505?Redirect=Log&logNo=222131034537 \n",
            "\n",
            "맛남의광장 백종원 사과식빵파이 or 사과파이 or 애플파이\n",
            "https://cagycagy.blog.me/222120771756 \n",
            "\n",
            "카레 만드는법 사과 반쪽 더해서 풍미도 맛도 맛있게~\n",
            "https://blog.naver.com/psy9133?Redirect=Log&logNo=222128751948 \n",
            "\n",
            "대봉감 익히기 홍시 만들기 사과로 빠르게\n",
            "https://blog.naver.com/keroann?Redirect=Log&logNo=222141049689 \n",
            "\n",
            "사과 브리치즈 샌드위치 홈브런치메뉴\n",
            "https://blog.naver.com/lalacucina?Redirect=Log&logNo=222135894013 \n",
            "\n",
            "젠한국 홈카페 사과파이 만들기 애플파이 레시피\n",
            "https://blog.naver.com/mh950621?Redirect=Log&logNo=222148411213 \n",
            "\n",
            "색이 예쁜 사과잼 만들기 꿀팁\n",
            "https://young07080.blog.me/222115738330 \n",
            "\n",
            "세척사과 고른 건 아삭한 엔비사과니깐.\n",
            "https://blog.naver.com/reser45?Redirect=Log&logNo=222149158833 \n",
            "\n",
            "백종원 사과조림 피자로 변신시켰쥬~!훌륭해요\n",
            "https://blog.naver.com/mijinkim80?Redirect=Log&logNo=222117606244 \n",
            "\n",
            "돼지갈비찜 만들기 사과즙을 더하면\n",
            "https://blog.naver.com/dhdmsdo79?Redirect=Log&logNo=222059341505 \n",
            "\n",
            "소개] 너 이름이 뭐니? :: 참다래·사과·감자, '골든볼' 세쌍둥이?\n",
            "https://blog.naver.com/rda2448?Redirect=Log&logNo=222119803718 \n",
            "\n",
            "엔비사과 간편하고 맛있는 세척사과 쪼아~\n",
            "https://marianne40.blog.me/222149047697 \n",
            "\n",
            "아보카도사과양파죽/중기이유식/맘마유\n",
            "http://mammayoublog.com/222143067591 \n",
            "\n",
            "사과 타르트\n",
            "https://blog.naver.com/marian0?Redirect=Log&logNo=222124963167 \n",
            "\n",
            "[INTERVIEW]청송 사과 청년이 전하는 달콤 아삭한 믿음\n",
            "https://blog.naver.com/gr22nade?Redirect=Log&logNo=222136144061 \n",
            "\n",
            "비타민C가 사과의 17배가 넘는 비타민 폭탄! 가을 제철 과일... \n",
            "https://blog.naver.com/nong-up?Redirect=Log&logNo=222137241749 \n",
            "\n",
            "우거지된장국,고등어구이,사과샐러드,저녁반찬이에요\n",
            "https://blog.naver.com/okybali123?Redirect=Log&logNo=222141959203 \n",
            "\n",
            "맛남의 광장 사과 미나리 생채 무침 별미네!\n",
            "https://mildek.blog.me/222118505391 \n",
            "\n",
            "식빵요리 사과조림 롤샌드위치 만들기!\n",
            "https://blog.naver.com/collier13?Redirect=Log&logNo=222046912111 \n",
            "\n",
            "애플파이~ 식빵과 사과조림만 있으면 맛나게~\n",
            "https://ariel0912.blog.me/222111844242 \n",
            "\n",
            "엔비사과 껍질째 먹는 상큼함이 다르져.\n",
            "https://blog.naver.com/reser45?Redirect=Log&logNo=222136432572 \n",
            "\n",
            "멘보사과 만들기\n",
            "https://blog.naver.com/cream_tree?Redirect=Log&logNo=222122107236 \n",
            "\n",
            "오늘도 엔비사과 해요!\n",
            "https://blog.naver.com/hawamama?Redirect=Log&logNo=222136624953 \n",
            "\n",
            "[국가 연구 개발 우수 성과 100선] 맛 좋고 예쁜 사과, 그... \n",
            "https://blog.naver.com/rda2448?Redirect=Log&logNo=222148819872 \n",
            "\n",
            "사과사세요!! 맛있는 부사가 왔어요!\n",
            "https://blog.naver.com/sessyjubu2?Redirect=Log&logNo=222138821931 \n",
            "\n",
            "미국, 애플 사이다 (사과 주스) 도넛 만들기\n",
            "https://blog.naver.com/sieung?Redirect=Log&logNo=222136449257 \n",
            "\n",
            "사과 듬~뿍 타르트타탕\n",
            "https://blog.naver.com/marian0?Redirect=Log&logNo=222124192965 \n",
            "\n"
          ],
          "name": "stdout"
        }
      ]
    },
    {
      "cell_type": "markdown",
      "metadata": {
        "id": "-HMr6vTKOhKa"
      },
      "source": [
        "# 6. 네이버 뉴스 긁어오기!"
      ]
    },
    {
      "cell_type": "code",
      "metadata": {
        "id": "j-jG_jabLEbd",
        "colab": {
          "base_uri": "https://localhost:8080/"
        },
        "outputId": "48e07c4c-f8a5-4d2d-904d-1c3eb30c6af6"
      },
      "source": [
        "#바로 사용 가능!!⭐\n",
        "#네이버 뉴스 크롤링 \n",
        "\n",
        "import urllib.request\n",
        "import requests\n",
        "from bs4 import BeautifulSoup\n",
        "\n",
        "baseurl =\"https://search.naver.com/search.naver?sm=tab_hty.top&where=news&query=\"\n",
        "plusurl= input('검색어를 입력하세요: ')\n",
        "request=requests.get(baseurl+plusurl)\n",
        "\n",
        "html=request.text\n",
        "\n",
        "soup=BeautifulSoup(html,'html.parser')\n",
        "\n",
        "title= soup.find_all(class_='news_tit')\n",
        "\n",
        "for i in title:\n",
        "  print(i.attrs['title'])\n",
        "  print(i.attrs['href'],'\\n')"
      ],
      "execution_count": null,
      "outputs": [
        {
          "output_type": "stream",
          "text": [
            "검색어를 입력하세요: 사과\n",
            "IBM, 52년 전 성전환 이유로 해고한 직원에 사과\n",
            "http://yna.kr/AKR20201122058300009?did=1195m \n",
            "\n",
            "이성수 SM 대표, 아이린 갑질 언급 \"약간의 논란 있었지만 사과\"\n",
            "https://www.hankyung.com/entertainment/article/2020112267957 \n",
            "\n",
            "[SC리뷰] \"왜 사과하지 않습니까\"…'개천용' 통쾌한 사이다 일침→권상우X배성우, 역전극 다시 시작\n",
            "http://sports.chosun.com/news/ntype.htm?id=202011230100201720013630&servicedate=20201122 \n",
            "\n",
            "원전 당국 \"원자로 헤드 공사 절차대로 된 줄 알아\" 뒤늦은 사과\n",
            "http://yna.kr/AKR20201119102200054?did=1195m \n",
            "\n",
            "'황금진', 청송 넘어 대한민국 명품 사과로\n",
            "http://www.sisajournal.com/news/articleView.html?idxno=207982 \n",
            "\n",
            "SM대표 \"레드벨벳, 논란 있었지만 사과…성숙한 모습으로 곧 돌아온다\"\n",
            "http://www.mydaily.co.kr/new_yk/html/read.php?newsid=202011211809235828&ext=na \n",
            "\n",
            "김진표가 띄운 ‘현금화 유예’에 피해자들 “사과없인 합의없다”\n",
            "http://news.kmib.co.kr/article/view.asp?arcid=0015243639&code=61111111&cp=nv \n",
            "\n",
            "[酒먹방] 혀끝에 감도는 그윽한 오크향과 사과향\n",
            "http://yna.kr/AKR20201014050200805?did=1195m \n",
            "\n",
            "경북도, 친환경 속포장재로 담은 사과 본격 수출\n",
            "http://www.newsis.com/view/?id=NISX20201120_0001241086&cID=10810&pID=10800 \n",
            "\n",
            "제주 한림농협 노조 “직장 내 괴롭힘·부당 노동행위 사과하라” 규탄\n",
            "http://news.kbs.co.kr/news/view.do?ncd=5053064&ref=A \n",
            "\n"
          ],
          "name": "stdout"
        }
      ]
    },
    {
      "cell_type": "markdown",
      "metadata": {
        "id": "acmzd2nyUqUl"
      },
      "source": [
        "# 6-2 네이버 뉴스 크롤링 결과 엑셀 저장하기!"
      ]
    },
    {
      "cell_type": "code",
      "metadata": {
        "id": "idhlUz8zRLt9",
        "colab": {
          "base_uri": "https://localhost:8080/"
        },
        "outputId": "7b9a0b24-f478-4a42-8fbe-449d09a15de1"
      },
      "source": [
        "#바로 사용 가능!!⭐\n",
        "#네이버 뉴스 크롤링 엑셀 시트 저장 \n",
        "\n",
        "import csv\n",
        "from urllib.request import urlopen\n",
        "from urllib.parse import quote_plus\n",
        "from bs4 import BeautifulSoup\n",
        "\n",
        "\n",
        "search= input('검색어를 입력하세요: ')\n",
        "url = f'https://search.naver.com/search.naver?where=news&sm=tab_jum&query={quote_plus(search)}'\n",
        "html = urlopen(url).read()\n",
        "soup= BeautifulSoup(html,'html.parser')\n",
        "\n",
        "total= soup.find_all(class_='news_tit')\n",
        "searchList= []\n",
        "\n",
        "for i in total:\n",
        "  temp = []\n",
        "  temp.append(i.attrs['title'])\n",
        "  temp.append(i.attrs['href'])\n",
        "  searchList.append(temp)\n",
        "  \n",
        "f = open(f'{search}.csv','w',encoding='utf-8',newline='')\n",
        "csvwriter = csv.writer(f)\n",
        "\n",
        "for i in searchList:\n",
        "  csvwriter.writerow(i)\n",
        "\n",
        "f.close()\n",
        "\n",
        "print('엑셀 파일 다운 완료')"
      ],
      "execution_count": null,
      "outputs": [
        {
          "output_type": "stream",
          "text": [
            "검색어를 입력하세요: 가자미\n",
            "엑셀 파일 다운 완료\n"
          ],
          "name": "stdout"
        }
      ]
    },
    {
      "cell_type": "markdown",
      "metadata": {
        "id": "bMKo_S-vOv7T"
      },
      "source": [
        "# 7. 크롤링 결과 엑셀 시트로 저장하기! "
      ]
    },
    {
      "cell_type": "code",
      "metadata": {
        "id": "unAUfDeDLUNF",
        "colab": {
          "base_uri": "https://localhost:8080/"
        },
        "outputId": "019355bb-1a82-4eba-d5ee-cbda82bacdbe"
      },
      "source": [
        "#바로 사용 가능!!⭐\n",
        "#엑셀 시트로 크롤링 결과 다운받기!\n",
        "import csv\n",
        "from urllib.request import urlopen\n",
        "from urllib.parse import quote_plus\n",
        "from bs4 import BeautifulSoup\n",
        "\n",
        "search= input('검색어를 입력하세요: ')\n",
        "url = f'https://search.naver.com/search.naver?where=view&sm=tab_jum&query={quote_plus(search)}'\n",
        "html = urlopen(url).read()\n",
        "soup= BeautifulSoup(html,'html.parser')\n",
        "\n",
        "total = soup.select('.api_txt_lines.total_tit')\n",
        "searchList= []\n",
        "\n",
        "for i in total:\n",
        "  temp = []\n",
        "  temp.append(i.text)\n",
        "  temp.append(i.attrs['href'])\n",
        "  searchList.append(temp)\n",
        "  \n",
        "f = open(f'{search}.csv','w',encoding='utf-8',newline='')\n",
        "csvwriter = csv.writer(f)\n",
        "\n",
        "for i in searchList:\n",
        "  csvwriter.writerow(i)\n",
        "\n",
        "f.close()\n",
        "\n",
        "print('엑셀 파일 다운 완료')"
      ],
      "execution_count": null,
      "outputs": [
        {
          "output_type": "stream",
          "text": [
            "검색어를 입력하세요: 사과\n",
            "엑셀 파일 다운 완료\n"
          ],
          "name": "stdout"
        }
      ]
    },
    {
      "cell_type": "markdown",
      "metadata": {
        "id": "12gP_kMYOl8z"
      },
      "source": [
        "# + 네이버 뉴스 '서울과학종합대학원' 실시간 검색결과 구글 시트\n",
        "by. 김성민 선생님"
      ]
    },
    {
      "cell_type": "code",
      "metadata": {
        "id": "H5oNHU9KLn6D",
        "colab": {
          "base_uri": "https://localhost:8080/",
          "height": 201
        },
        "outputId": "e4ec3555-dfcf-42c4-a0c5-93d4134b7bf3"
      },
      "source": [
        "#바로 사용 가능!!⭐\n",
        "#구글 시트에 '서울과학종합대학원' 검색 결과 실시간 반영\n",
        "#아래 주소를 복사하셔서 인터넷 주소창에 넣어보세요\n",
        "\n",
        "bit.ly/aSSIST크롤링시트"
      ],
      "execution_count": null,
      "outputs": [
        {
          "output_type": "error",
          "ename": "NameError",
          "evalue": "ignored",
          "traceback": [
            "\u001b[0;31m---------------------------------------------------------------------------\u001b[0m",
            "\u001b[0;31mNameError\u001b[0m                                 Traceback (most recent call last)",
            "\u001b[0;32m<ipython-input-24-48a07ab50039>\u001b[0m in \u001b[0;36m<module>\u001b[0;34m()\u001b[0m\n\u001b[1;32m      3\u001b[0m \u001b[0;31m#아래 주소를 복사하셔서 인터넷 주소창에 넣어보세요\u001b[0m\u001b[0;34m\u001b[0m\u001b[0;34m\u001b[0m\u001b[0;34m\u001b[0m\u001b[0m\n\u001b[1;32m      4\u001b[0m \u001b[0;34m\u001b[0m\u001b[0m\n\u001b[0;32m----> 5\u001b[0;31m \u001b[0mbit\u001b[0m\u001b[0;34m.\u001b[0m\u001b[0mly\u001b[0m\u001b[0;34m/\u001b[0m\u001b[0maSSIST크롤링시트\u001b[0m\u001b[0;34m\u001b[0m\u001b[0;34m\u001b[0m\u001b[0m\n\u001b[0m",
            "\u001b[0;31mNameError\u001b[0m: name 'bit' is not defined"
          ]
        }
      ]
    }
  ]
}