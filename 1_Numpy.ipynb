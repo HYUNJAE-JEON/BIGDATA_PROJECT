{
  "nbformat": 4,
  "nbformat_minor": 0,
  "metadata": {
    "kernelspec": {
      "display_name": "Python 3",
      "language": "python",
      "name": "python3"
    },
    "language_info": {
      "codemirror_mode": {
        "name": "ipython",
        "version": 3
      },
      "file_extension": ".py",
      "mimetype": "text/x-python",
      "name": "python",
      "nbconvert_exporter": "python",
      "pygments_lexer": "ipython3",
      "version": "3.8.3"
    },
    "colab": {
      "name": "1. Numpy.ipynb",
      "provenance": [],
      "collapsed_sections": [],
      "include_colab_link": true
    }
  },
  "cells": [
    {
      "cell_type": "markdown",
      "metadata": {
        "id": "view-in-github",
        "colab_type": "text"
      },
      "source": [
        "<a href=\"https://colab.research.google.com/github/HYUNJAE-JEON/HYUNJAE-Python-Exercise/blob/master/1_Numpy.ipynb\" target=\"_parent\"><img src=\"https://colab.research.google.com/assets/colab-badge.svg\" alt=\"Open In Colab\"/></a>"
      ]
    },
    {
      "cell_type": "code",
      "metadata": {
        "id": "9tMo90N2VWO3"
      },
      "source": [
        "# numpy 라이브러리를 np라는 이름으로 사용\n",
        "import numpy as np"
      ],
      "execution_count": null,
      "outputs": []
    },
    {
      "cell_type": "markdown",
      "metadata": {
        "id": "2uhn4iCBVWO9"
      },
      "source": [
        "## numpy 배열( np.ndarray )\n",
        "\n",
        "### 1차원 배열"
      ]
    },
    {
      "cell_type": "code",
      "metadata": {
        "id": "m1Y42mr8VWO-",
        "outputId": "dc972252-85a8-447d-860d-3ed43261d95e",
        "colab": {
          "base_uri": "https://localhost:8080/"
        }
      },
      "source": [
        "# np.array(값) - 내가 넣어주는 값으로 ndarray 생성\n",
        "arr = np.array([1,2,3])\n",
        "print(type(arr), arr)"
      ],
      "execution_count": null,
      "outputs": [
        {
          "output_type": "stream",
          "text": [
            "<class 'numpy.ndarray'> [1 2 3]\n"
          ],
          "name": "stdout"
        }
      ]
    },
    {
      "cell_type": "code",
      "metadata": {
        "id": "0znhWN_IVWPB",
        "outputId": "2f98373e-fb20-4546-b90f-f592757480b9",
        "colab": {
          "base_uri": "https://localhost:8080/"
        }
      },
      "source": [
        "# 배열.shape - 차원의 크기\n",
        "# - 숫자의 개수 = 차원의 개수\n",
        "# - 숫자의 크기 = 차원의 크기\n",
        "# (3,) - 숫자가 1개 => 1차원 배열\n",
        "# 숫자가 3 => 1차원인데 크기가 3(data가 3개)\n",
        "print(arr.shape)"
      ],
      "execution_count": null,
      "outputs": [
        {
          "output_type": "stream",
          "text": [
            "(3,)\n"
          ],
          "name": "stdout"
        }
      ]
    },
    {
      "cell_type": "code",
      "metadata": {
        "id": "0adDaiQkVWPD",
        "outputId": "75ef3eda-5d64-4bf0-e7dc-1fb58bd7f226"
      },
      "source": [
        "# indexing, slicing 사용 가능\n",
        "print(arr[0], arr[1], arr[2])"
      ],
      "execution_count": null,
      "outputs": [
        {
          "output_type": "stream",
          "text": [
            "1 2 3\n"
          ],
          "name": "stdout"
        }
      ]
    },
    {
      "cell_type": "code",
      "metadata": {
        "id": "B7MyD7d7VWPF",
        "outputId": "9d7e5eae-d02a-46d7-a70b-dcdc29db4de2",
        "colab": {
          "base_uri": "https://localhost:8080/"
        }
      },
      "source": [
        "# 값 수정\n",
        "# - arr[index] = 값\n",
        "arr[0] = 5\n",
        "arr, arr.dtype"
      ],
      "execution_count": null,
      "outputs": [
        {
          "output_type": "execute_result",
          "data": {
            "text/plain": [
              "(array([5, 2, 3]), dtype('int64'))"
            ]
          },
          "metadata": {
            "tags": []
          },
          "execution_count": 4
        }
      ]
    },
    {
      "cell_type": "code",
      "metadata": {
        "id": "vLvFuCB0VWPH",
        "outputId": "0fbd65e3-ac61-49af-9c09-191e778f2785",
        "colab": {
          "base_uri": "https://localhost:8080/"
        }
      },
      "source": [
        "# 전체 데이터를 포함할 수 있는 데이터타입으로\n",
        "# 설정이 된다.\n",
        "arr = np.array( [1, 2.1, 3] )\n",
        "arr, arr.dtype"
      ],
      "execution_count": null,
      "outputs": [
        {
          "output_type": "execute_result",
          "data": {
            "text/plain": [
              "(array([1. , 2.1, 3. ]), dtype('float64'))"
            ]
          },
          "metadata": {
            "tags": []
          },
          "execution_count": 5
        }
      ]
    },
    {
      "cell_type": "markdown",
      "metadata": {
        "id": "UGrl4YTBVWPJ"
      },
      "source": [
        "### 2차원 배열"
      ]
    },
    {
      "cell_type": "code",
      "metadata": {
        "id": "LfJ5BY3JVWPJ"
      },
      "source": [
        "arr2 = np.array( [[1,2,3],\n",
        "                  [4,5,6]])"
      ],
      "execution_count": null,
      "outputs": []
    },
    {
      "cell_type": "code",
      "metadata": {
        "id": "r-1TlW6tVWPL",
        "outputId": "731c478d-7ba1-49a2-9ae5-f5830e38a132",
        "colab": {
          "base_uri": "https://localhost:8080/"
        }
      },
      "source": [
        "type(arr2), arr2, arr2.shape\n",
        "# shape - (2,3)\n",
        "# 숫자개수 2개 - 2차원배열\n",
        "# 숫자의 크기가 2와 3\n",
        "# 행의 크기가 2\n",
        "# 열의 크기가 3"
      ],
      "execution_count": null,
      "outputs": [
        {
          "output_type": "execute_result",
          "data": {
            "text/plain": [
              "(numpy.ndarray, array([[1, 2, 3],\n",
              "        [4, 5, 6]]), (2, 3))"
            ]
          },
          "metadata": {
            "tags": []
          },
          "execution_count": 8
        }
      ]
    },
    {
      "cell_type": "code",
      "metadata": {
        "id": "is_c2De0EONt",
        "outputId": "b1b5c548-647c-4a2e-bbe6-8cb4042601e7",
        "colab": {
          "base_uri": "https://localhost:8080/"
        }
      },
      "source": [
        "arr2"
      ],
      "execution_count": null,
      "outputs": [
        {
          "output_type": "execute_result",
          "data": {
            "text/plain": [
              "array([[1, 2, 3],\n",
              "       [4, 5, 6]])"
            ]
          },
          "metadata": {
            "tags": []
          },
          "execution_count": 9
        }
      ]
    },
    {
      "cell_type": "code",
      "metadata": {
        "id": "C1FdUJCLVWPP",
        "outputId": "41ed9888-7818-4ea7-a292-54ea0a82bc6f",
        "colab": {
          "base_uri": "https://localhost:8080/"
        }
      },
      "source": [
        "# indexing, slicing\n",
        "# arr[행의위치, 열의위치]\n",
        "print(arr2[0,0], arr2[0,1], arr2[1,0])"
      ],
      "execution_count": null,
      "outputs": [
        {
          "output_type": "stream",
          "text": [
            "1 2 4\n"
          ],
          "name": "stdout"
        }
      ]
    },
    {
      "cell_type": "code",
      "metadata": {
        "id": "gR0XI3tRVWPQ",
        "outputId": "e95a4fa9-bb1b-4a93-f536-11d2e34906f9",
        "colab": {
          "base_uri": "https://localhost:8080/"
        }
      },
      "source": [
        "# np.arange(최소값, 최대값(미포함), 간격) - 숫자배열 자동생성\n",
        "# np.arange(0, 10, 3) - [ 0, 3, 6, 9 ]\n",
        "arr3 = np.arange(32) # 최소값 자동 0, 간격 자동 1\n",
        "arr3, arr3.shape"
      ],
      "execution_count": null,
      "outputs": [
        {
          "output_type": "execute_result",
          "data": {
            "text/plain": [
              "(array([ 0,  1,  2,  3,  4,  5,  6,  7,  8,  9, 10, 11, 12, 13, 14, 15, 16,\n",
              "        17, 18, 19, 20, 21, 22, 23, 24, 25, 26, 27, 28, 29, 30, 31]), (32,))"
            ]
          },
          "metadata": {
            "tags": []
          },
          "execution_count": 11
        }
      ]
    },
    {
      "cell_type": "code",
      "metadata": {
        "id": "fmnqsW_XVWPS",
        "outputId": "029c4ba9-70d6-4f4a-d442-b45fd2ef8c61",
        "colab": {
          "base_uri": "https://localhost:8080/"
        }
      },
      "source": [
        "# 배열의 모양 수정\n",
        "arr3.reshape(4,8) # arr.reshape(행의개수, 열의개수)"
      ],
      "execution_count": null,
      "outputs": [
        {
          "output_type": "execute_result",
          "data": {
            "text/plain": [
              "array([[ 0,  1,  2,  3,  4,  5,  6,  7],\n",
              "       [ 8,  9, 10, 11, 12, 13, 14, 15],\n",
              "       [16, 17, 18, 19, 20, 21, 22, 23],\n",
              "       [24, 25, 26, 27, 28, 29, 30, 31]])"
            ]
          },
          "metadata": {
            "tags": []
          },
          "execution_count": 12
        }
      ]
    },
    {
      "cell_type": "code",
      "metadata": {
        "id": "VoiRl79HVWPU",
        "outputId": "3004f7aa-98e7-41c9-c922-01e584f8f105"
      },
      "source": [
        "arr3.reshape(2,-1) # 행은 2개, 열은 자동계산"
      ],
      "execution_count": null,
      "outputs": [
        {
          "output_type": "execute_result",
          "data": {
            "text/plain": [
              "array([[ 0,  1,  2,  3,  4,  5,  6,  7,  8,  9, 10, 11, 12, 13, 14, 15],\n",
              "       [16, 17, 18, 19, 20, 21, 22, 23, 24, 25, 26, 27, 28, 29, 30, 31]])"
            ]
          },
          "metadata": {
            "tags": []
          },
          "execution_count": 12
        }
      ]
    },
    {
      "cell_type": "code",
      "metadata": {
        "id": "bQC19qgaVWPW",
        "outputId": "da54d73f-d766-4ce9-f492-fe578be50962"
      },
      "source": [
        "arr3.reshape(-1,4) # 열은 4개, 행은 자동계산"
      ],
      "execution_count": null,
      "outputs": [
        {
          "output_type": "execute_result",
          "data": {
            "text/plain": [
              "array([[ 0,  1,  2,  3],\n",
              "       [ 4,  5,  6,  7],\n",
              "       [ 8,  9, 10, 11],\n",
              "       [12, 13, 14, 15],\n",
              "       [16, 17, 18, 19],\n",
              "       [20, 21, 22, 23],\n",
              "       [24, 25, 26, 27],\n",
              "       [28, 29, 30, 31]])"
            ]
          },
          "metadata": {
            "tags": []
          },
          "execution_count": 13
        }
      ]
    },
    {
      "cell_type": "code",
      "metadata": {
        "id": "nInDSxmvVWPX",
        "outputId": "7c87a766-b7a6-487f-9303-3703f72861a5",
        "colab": {
          "base_uri": "https://localhost:8080/"
        }
      },
      "source": [
        "# 0으로 구성된 배열 생성\n",
        "a = np.zeros( (2,2) )\n",
        "a"
      ],
      "execution_count": null,
      "outputs": [
        {
          "output_type": "execute_result",
          "data": {
            "text/plain": [
              "array([[0., 0.],\n",
              "       [0., 0.]])"
            ]
          },
          "metadata": {
            "tags": []
          },
          "execution_count": 13
        }
      ]
    },
    {
      "cell_type": "code",
      "metadata": {
        "id": "koQw99-PVWPZ",
        "outputId": "a8e35439-1f94-4697-ab56-aa0e17bc4581",
        "colab": {
          "base_uri": "https://localhost:8080/"
        }
      },
      "source": [
        "# 1로 구성된 배열 생성\n",
        "b = np.ones( (3,3) )\n",
        "b"
      ],
      "execution_count": null,
      "outputs": [
        {
          "output_type": "execute_result",
          "data": {
            "text/plain": [
              "array([[1., 1., 1.],\n",
              "       [1., 1., 1.],\n",
              "       [1., 1., 1.]])"
            ]
          },
          "metadata": {
            "tags": []
          },
          "execution_count": 14
        }
      ]
    },
    {
      "cell_type": "code",
      "metadata": {
        "id": "cYtevygcVWPb",
        "outputId": "4e6636f9-d48e-41af-ffb2-81424f714de6",
        "colab": {
          "base_uri": "https://localhost:8080/"
        }
      },
      "source": [
        "# 내가 원하는 값으로 채워진 배열 생성\n",
        "# np.full((배열의모양), 채울값)\n",
        "c = np.full((5,5), -1)\n",
        "c"
      ],
      "execution_count": null,
      "outputs": [
        {
          "output_type": "execute_result",
          "data": {
            "text/plain": [
              "array([[-1, -1, -1, -1, -1],\n",
              "       [-1, -1, -1, -1, -1],\n",
              "       [-1, -1, -1, -1, -1],\n",
              "       [-1, -1, -1, -1, -1],\n",
              "       [-1, -1, -1, -1, -1]])"
            ]
          },
          "metadata": {
            "tags": []
          },
          "execution_count": 15
        }
      ]
    },
    {
      "cell_type": "code",
      "metadata": {
        "id": "oOsjZ5wCVWPd",
        "outputId": "78a28a1e-d2e9-4b80-8b0c-5ee128131ab3",
        "colab": {
          "base_uri": "https://localhost:8080/"
        }
      },
      "source": [
        "# 항등행렬 - 행, 열의 위치가 같으면 1, 다르면 0\n",
        "d = np.eye(3) # 행, 열의 개수(무조건 같은크기로생성됨)\n",
        "d"
      ],
      "execution_count": null,
      "outputs": [
        {
          "output_type": "execute_result",
          "data": {
            "text/plain": [
              "array([[1., 0., 0.],\n",
              "       [0., 1., 0.],\n",
              "       [0., 0., 1.]])"
            ]
          },
          "metadata": {
            "tags": []
          },
          "execution_count": 16
        }
      ]
    },
    {
      "cell_type": "markdown",
      "metadata": {
        "id": "eN21k8GJF3Oe"
      },
      "source": [
        "## np.random - 난수발생기"
      ]
    },
    {
      "cell_type": "code",
      "metadata": {
        "id": "txCuMQlnVWPe",
        "outputId": "06a63a74-6472-4e83-bbb7-98d2f3646f13",
        "colab": {
          "base_uri": "https://localhost:8080/"
        }
      },
      "source": [
        "# random(배열의모양) \n",
        "# - 0~1까지 랜덤한 값들로 채워진 배열 생성\n",
        "e = np.random.random((2,2))\n",
        "e"
      ],
      "execution_count": null,
      "outputs": [
        {
          "output_type": "execute_result",
          "data": {
            "text/plain": [
              "array([[0.34129492, 0.22893161],\n",
              "       [0.60241345, 0.13142909]])"
            ]
          },
          "metadata": {
            "tags": []
          },
          "execution_count": 22
        }
      ]
    },
    {
      "cell_type": "code",
      "metadata": {
        "id": "dtAZrXjYVWPg",
        "outputId": "f04e49be-d787-451f-9606-95c7cadfc1bc",
        "colab": {
          "base_uri": "https://localhost:8080/"
        }
      },
      "source": [
        "# 가우시안 정규분포에 맞는 숫자배열 생성\n",
        "# randn(배열의모양)\n",
        "f = np.random.randn(30,20)\n",
        "f"
      ],
      "execution_count": null,
      "outputs": [
        {
          "output_type": "execute_result",
          "data": {
            "text/plain": [
              "array([[-6.83932077e-02,  4.20474097e-01,  1.07818968e+00,\n",
              "        -1.13385345e+00,  9.63615420e-02, -1.68253331e-01,\n",
              "         5.74867687e-02,  1.54338227e-01, -1.32144046e+00,\n",
              "        -5.68598137e-01,  1.01842266e+00, -6.10409285e-01,\n",
              "        -3.53982032e-01, -5.16465405e-01, -2.88377055e-01,\n",
              "         1.23414154e+00, -4.42037439e-01,  5.62800419e-01,\n",
              "         5.46485100e-01, -1.07466119e+00],\n",
              "       [-8.12510904e-01,  5.95313137e-02, -1.12414780e+00,\n",
              "        -1.10428187e-01,  4.39595468e-01, -8.68925014e-01,\n",
              "         1.88052645e-01, -8.66824892e-01, -3.49776582e-01,\n",
              "         1.88030028e+00, -3.05308147e-01, -6.73794861e-01,\n",
              "        -2.04233652e-01, -8.63174793e-01, -1.35171466e+00,\n",
              "        -7.20508571e-02,  1.62915615e+00, -7.51488413e-02,\n",
              "        -3.64931254e-01, -1.98891754e-01],\n",
              "       [ 1.49845356e+00,  1.59071969e-01, -1.29668372e-01,\n",
              "        -1.90996281e+00,  1.50540969e+00, -3.69306636e-01,\n",
              "        -7.13522096e-01, -5.06888020e-01, -3.53124321e-01,\n",
              "         1.58061966e-02,  1.90372780e-02,  3.51924867e-01,\n",
              "         8.06115998e-02,  8.12060972e-01, -4.06015562e-02,\n",
              "        -1.25743576e+00,  6.77043937e-01,  6.80810467e-01,\n",
              "        -3.27968617e-01, -1.20234226e+00],\n",
              "       [-4.12097079e-01, -2.46993698e-01, -9.53011567e-01,\n",
              "        -5.75122182e-03,  2.07280654e+00, -2.01980998e-01,\n",
              "         6.85971762e-01, -2.84889541e-01, -8.80234644e-01,\n",
              "         8.03294628e-01,  3.56238798e-01,  6.88038979e-01,\n",
              "        -8.51409098e-01,  2.30865223e-01, -1.82890541e+00,\n",
              "         1.48364525e-01, -7.15206099e-01, -9.25579967e-01,\n",
              "        -7.20049829e-01,  1.28988539e+00],\n",
              "       [ 2.59208075e-02,  1.20284414e-01, -4.14335187e-02,\n",
              "        -6.11529113e-01,  6.34428704e-01, -1.02582858e-01,\n",
              "        -2.01747536e+00, -8.82216808e-01, -1.13928490e-01,\n",
              "        -5.37941089e-01, -3.49941175e-02, -3.37005044e-01,\n",
              "        -1.15623679e-01,  1.20151484e+00, -2.13218760e+00,\n",
              "        -3.88529748e-01, -1.88947461e+00,  5.11301021e-01,\n",
              "         1.17158973e+00, -4.59703438e-01],\n",
              "       [ 1.25024038e-02,  4.75893081e-01,  4.76227238e-01,\n",
              "         1.64288809e-01, -1.01956325e+00, -2.08220547e+00,\n",
              "        -1.15862869e+00, -7.91958888e-01, -2.80462686e-01,\n",
              "        -1.01808677e+00,  1.20750955e-01, -4.74015495e-01,\n",
              "         4.02654673e-01,  4.03938391e-01,  2.26326703e-03,\n",
              "         1.75111529e-02,  4.85178826e-01, -9.01118954e-01,\n",
              "         2.47266957e-01, -7.84028352e-01],\n",
              "       [-3.79539464e-01, -6.46265296e-01, -7.90467326e-02,\n",
              "         1.04011899e+00,  1.57122883e+00, -7.74394264e-01,\n",
              "        -3.78090447e-02, -5.47400273e-01, -6.35132847e-01,\n",
              "        -1.02987374e+00, -1.02738493e+00, -6.82825120e-01,\n",
              "        -8.65653860e-01,  8.10879193e-01,  1.04026403e+00,\n",
              "        -5.55265406e-01, -4.03911648e-01, -3.36104271e-01,\n",
              "        -5.46176466e-01,  4.69402407e-01],\n",
              "       [-5.59971244e-01,  9.85235595e-01, -6.80563179e-01,\n",
              "        -1.71851109e+00,  7.28365352e-01,  1.39814932e+00,\n",
              "        -1.20734726e+00,  6.55392939e-01, -3.41083850e-01,\n",
              "         1.54325433e+00,  1.20567514e+00,  3.36354885e-01,\n",
              "         1.70866101e+00,  7.23418239e-01, -4.06619569e-03,\n",
              "         9.91631130e-01,  1.43494418e+00,  2.08292266e-01,\n",
              "         1.04420750e+00,  1.31998195e+00],\n",
              "       [-1.47057748e-01,  5.04490984e-01, -3.78733474e-01,\n",
              "        -1.75476218e+00,  7.35034629e-01, -4.95505420e-01,\n",
              "         5.79736798e-02,  8.23996275e-01,  1.19798501e+00,\n",
              "        -1.38165451e+00, -3.34766551e-01, -9.39990398e-03,\n",
              "        -1.40985538e+00, -1.70637114e+00,  2.14075895e-01,\n",
              "         1.14762189e+00,  1.16636868e+00, -4.67365659e-01,\n",
              "         1.56212739e+00, -3.19444670e-01],\n",
              "       [-1.15398543e+00,  2.79844541e-01, -4.81362841e-01,\n",
              "         6.02367100e-01,  5.51882219e-01,  5.54461512e-01,\n",
              "         3.06632413e-01,  3.01926228e+00,  1.14761157e+00,\n",
              "         3.44638054e-01, -5.93550226e-01,  1.11441405e+00,\n",
              "         5.13650354e-01, -6.69338039e-01,  3.15163188e-01,\n",
              "        -1.88126955e-01,  1.09406957e+00, -1.17926006e-01,\n",
              "         1.92747021e-01,  3.65378148e-01],\n",
              "       [ 7.19073286e-01,  4.14369281e-01, -7.54292425e-01,\n",
              "         4.34822710e-01, -9.64720029e-01,  9.08766179e-02,\n",
              "         5.58567457e-01,  3.45474909e-01, -2.76353167e-01,\n",
              "         9.21078221e-01, -1.49834355e+00,  5.66817844e-01,\n",
              "        -8.46755347e-01,  1.02613695e+00,  1.48336306e+00,\n",
              "         1.53040105e+00,  2.85517261e+00,  2.88703878e-01,\n",
              "         5.60223965e-01,  2.48630161e-01],\n",
              "       [-1.36128138e-01, -1.12153039e+00,  1.55348989e-01,\n",
              "        -3.99756840e-01, -1.37483477e+00,  1.94353722e-01,\n",
              "        -8.61402568e-01, -6.79421441e-01,  5.35701970e-01,\n",
              "        -2.37801597e-01, -1.84102622e+00,  4.48293682e-01,\n",
              "        -2.90536740e-01,  8.92597911e-01, -8.96202530e-01,\n",
              "         1.25593833e+00,  2.62051021e-01, -2.37944515e-01,\n",
              "         8.66335793e-01, -3.17891433e-01],\n",
              "       [-1.68536440e+00,  8.49604045e-01, -1.79048839e-01,\n",
              "         1.50052561e-01,  9.55582512e-01,  1.32760112e-01,\n",
              "         1.63048590e+00, -1.03698433e-02,  4.55834817e-01,\n",
              "         1.87576592e+00,  7.52745142e-01,  7.05652104e-01,\n",
              "        -4.32555841e-01,  4.50421097e-01, -4.33393388e-01,\n",
              "        -2.59361627e-01, -1.50486169e+00,  1.81736085e+00,\n",
              "         2.53052941e+00, -3.12266095e-01],\n",
              "       [-8.06951115e-01, -7.59650896e-02, -1.55839447e-01,\n",
              "        -5.24434942e-01, -8.23505056e-01, -1.40390991e+00,\n",
              "        -9.47524162e-01,  9.13109452e-01, -1.75927285e+00,\n",
              "         4.23462341e-01,  4.20866980e-01, -1.24266655e+00,\n",
              "        -1.96913116e+00,  1.23814542e-01, -1.90333524e+00,\n",
              "        -1.24072477e+00,  1.38360959e+00,  2.61262143e+00,\n",
              "        -5.14037995e-01, -2.28733300e-01],\n",
              "       [ 1.09660101e+00, -6.28425357e-01, -7.69825578e-02,\n",
              "         2.78088116e-01,  2.25460818e+00,  3.69370147e-01,\n",
              "        -3.35051941e-01,  9.59320373e-02,  8.39363178e-01,\n",
              "         8.69981701e-01,  6.61921575e-01, -1.16764121e+00,\n",
              "         5.37450052e-01,  7.04694532e-01,  1.54802748e+00,\n",
              "         5.47125088e-01, -3.24701251e-01,  1.43270053e+00,\n",
              "         1.64883781e+00, -1.02823106e+00],\n",
              "       [-1.34561377e+00, -1.33905971e+00,  5.23613897e-02,\n",
              "         2.24346276e+00, -2.18822446e-01,  1.12639810e+00,\n",
              "         1.81019156e+00,  1.01128593e+00, -1.58758990e+00,\n",
              "         9.92705233e-01,  1.81105374e+00, -3.90135084e-01,\n",
              "        -3.56732736e-01,  9.73565294e-01,  1.20582732e+00,\n",
              "         1.41320227e+00, -3.13263736e-01, -1.59389495e-01,\n",
              "        -6.98707489e-01, -1.25492903e+00],\n",
              "       [ 1.63514502e-01,  5.24775824e-01,  7.38394316e-01,\n",
              "         1.54006930e-01,  3.73789825e-01, -1.99099607e+00,\n",
              "        -1.79871835e-01,  7.81963220e-01,  2.52471755e-01,\n",
              "         6.88353100e-01, -5.69311990e-01, -4.11589338e-01,\n",
              "        -1.66171536e+00,  1.32404937e+00, -1.43101537e+00,\n",
              "         6.83113987e-01,  2.32660800e-01,  4.28370456e-01,\n",
              "         1.74228897e-01, -1.53276255e-01],\n",
              "       [-1.12788530e+00, -1.15339842e+00, -1.32100268e+00,\n",
              "        -7.14744444e-01, -1.50541372e+00, -9.69255505e-01,\n",
              "        -8.42519950e-02, -4.83419273e-01,  1.89395449e+00,\n",
              "        -1.57991689e+00, -1.09110107e-01, -1.26223131e-01,\n",
              "        -1.20857287e+00, -6.56836383e-01, -6.05129867e-02,\n",
              "         8.07685383e-02,  7.95530371e-01, -1.84619121e+00,\n",
              "        -8.60511939e-01,  1.05248439e+00],\n",
              "       [-7.46332806e-01, -4.84191605e-02,  3.23416066e-02,\n",
              "         4.44860656e-01,  1.42961271e+00,  1.62790419e-01,\n",
              "        -1.79789762e+00,  5.51657454e-02, -3.71251259e-02,\n",
              "         1.80092205e+00, -4.64344678e-01,  6.84609182e-01,\n",
              "         9.22962529e-01, -1.44343194e-01,  3.13838338e-01,\n",
              "         8.19556993e-02, -1.67843445e+00,  5.21461981e-01,\n",
              "         3.54441254e-01, -5.72611592e-01],\n",
              "       [-1.62860614e-01, -3.21348450e-01, -2.22337898e-01,\n",
              "         8.37840208e-02, -1.63118353e+00, -6.55014959e-02,\n",
              "        -1.77114609e-01,  6.59516911e-01, -5.44593115e-01,\n",
              "        -5.13497946e-01,  7.76184782e-01,  7.87952816e-01,\n",
              "        -9.38740711e-02,  1.99015955e+00,  8.93525732e-01,\n",
              "        -5.98322900e-01,  3.51996879e-01, -3.46972626e-01,\n",
              "         7.88024414e-01, -1.62885198e+00],\n",
              "       [ 2.54864922e-03, -5.18684947e-01, -1.28778770e+00,\n",
              "         1.37061424e-03,  8.20951273e-01, -1.54388594e+00,\n",
              "        -3.79290552e-01,  5.03985225e-01, -6.40714792e-01,\n",
              "        -1.73397497e+00, -2.13049261e-01, -2.19208331e-01,\n",
              "         4.02044212e-01,  9.75900539e-01,  3.09365292e-01,\n",
              "         4.71107284e-01,  5.39362757e-01,  9.94458456e-01,\n",
              "        -4.31288468e-01, -8.01316509e-02],\n",
              "       [-1.11800057e+00, -6.23614328e-01, -1.86770333e-02,\n",
              "         8.79178492e-01, -1.70372867e+00,  1.61237467e-02,\n",
              "        -4.14610785e-01,  3.13758067e-01,  1.63476436e-02,\n",
              "        -1.25731868e+00,  6.06830291e-01, -1.56460839e+00,\n",
              "        -1.31320984e+00, -7.44031865e-01, -5.33448180e-01,\n",
              "         9.30411499e-02, -1.86970566e-01,  9.74237532e-02,\n",
              "        -5.63486599e-01, -1.13295130e+00],\n",
              "       [-1.83413222e+00,  1.43214644e+00,  5.30556256e-01,\n",
              "        -6.08548403e-01,  1.71228275e+00, -1.14831623e+00,\n",
              "        -1.03590155e+00,  2.95719849e+00,  7.02202884e-01,\n",
              "         4.76900782e-01,  4.36232486e-01,  1.19435183e-01,\n",
              "         8.44644584e-01,  1.76799052e+00, -1.58488631e-01,\n",
              "         5.13498062e-01, -1.09488724e-01, -1.48846995e+00,\n",
              "         1.26421998e+00, -1.84126647e+00],\n",
              "       [ 4.18501733e-01, -2.54322502e-01, -2.92982749e-01,\n",
              "        -5.65310842e-01,  1.97402711e-01, -1.47736042e+00,\n",
              "         1.54917316e+00,  1.07856495e+00, -4.06557769e-02,\n",
              "        -1.49152173e+00, -2.46401712e-01, -2.80251697e-01,\n",
              "         7.90264775e-01,  4.99929034e-01,  1.00063897e+00,\n",
              "         1.27421351e+00, -1.12537793e+00, -5.06782632e-01,\n",
              "        -1.30804690e+00, -6.33607457e-01],\n",
              "       [-7.96944989e-01, -1.49754470e+00, -1.21804769e-01,\n",
              "         6.64314597e-01, -1.03349916e-02, -5.07100343e-01,\n",
              "         9.18616748e-01, -8.63403958e-01,  1.31948215e-01,\n",
              "        -1.19971743e+00,  2.15062550e-01,  3.19150283e-01,\n",
              "        -8.42010710e-01, -6.25363083e-02,  3.89870860e-01,\n",
              "        -1.64270200e+00, -4.91289604e-01, -1.73322901e+00,\n",
              "        -6.77503548e-01,  2.22859004e-01],\n",
              "       [-3.19111694e-02, -3.70964982e-01,  9.75397694e-01,\n",
              "        -9.05210849e-01,  1.17854777e+00, -1.56773082e+00,\n",
              "        -1.70368796e+00,  3.21110174e-01, -8.30695798e-01,\n",
              "        -9.39738602e-01,  2.69847333e+00,  1.58761160e+00,\n",
              "         8.90221339e-01,  4.55666173e-01,  5.07833878e-01,\n",
              "         1.12514372e+00,  8.12580727e-01, -6.46964321e-01,\n",
              "        -3.01107018e-01,  7.54004945e-01],\n",
              "       [ 1.25666999e+00,  4.46264013e-01,  2.23827416e-01,\n",
              "         7.92917743e-01, -3.95995504e-02,  6.09198109e-01,\n",
              "         1.34984495e-01,  1.99729219e-01, -1.13013552e-01,\n",
              "        -8.32352290e-01, -8.59452977e-01, -6.60836762e-01,\n",
              "         2.11627249e-01,  2.64164849e-01,  9.77699361e-01,\n",
              "        -3.99491198e-01, -8.99405184e-01,  2.40931359e-01,\n",
              "         5.54563663e-01,  1.47013762e-01],\n",
              "       [-5.24320646e-01, -5.69891675e-01,  1.25055284e+00,\n",
              "         1.09208756e-01,  1.43462977e-01,  5.03864125e-01,\n",
              "         4.79176937e-01,  2.02182080e+00, -5.13085172e-01,\n",
              "        -3.83722029e-01,  8.91015533e-02, -1.64508778e+00,\n",
              "         5.90965203e-01, -5.49779860e-01,  9.90736748e-01,\n",
              "         1.92088809e+00, -4.51955702e-01,  4.51737376e-01,\n",
              "         9.72116675e-01, -2.16818021e+00],\n",
              "       [ 4.96211501e-01, -2.20778005e+00, -7.78265394e-01,\n",
              "        -1.35228122e+00, -7.15114708e-01, -6.34839614e-01,\n",
              "        -8.68513127e-01, -1.73697772e+00, -2.46273079e-01,\n",
              "         1.42276148e+00,  8.55149614e-02,  2.28384933e-01,\n",
              "         1.90070568e+00, -9.91532969e-02, -2.75114460e-01,\n",
              "         2.49771568e-01,  4.65704849e-01, -4.75592412e-02,\n",
              "         9.86446662e-01,  1.57408066e+00],\n",
              "       [ 6.32673623e-01, -4.73012702e-01,  7.51201820e-01,\n",
              "        -1.13870268e+00,  4.30736319e-01, -4.93330574e-01,\n",
              "         1.15470796e+00, -1.88031469e-01,  1.70558668e+00,\n",
              "         7.20388579e-03,  1.59908364e+00, -8.02243777e-02,\n",
              "         6.92492269e-01, -6.18706593e-01,  1.25135789e+00,\n",
              "        -8.71213765e-01, -6.94988961e-01,  1.73256926e-01,\n",
              "        -3.65129448e-01, -4.11510605e-01]])"
            ]
          },
          "metadata": {
            "tags": []
          },
          "execution_count": 23
        }
      ]
    },
    {
      "cell_type": "code",
      "metadata": {
        "id": "auroR_kCVWPh",
        "outputId": "7655f84a-c60d-4787-8358-17e19585854c",
        "colab": {
          "base_uri": "https://localhost:8080/"
        }
      },
      "source": [
        "# randint(최소값, 최대값(미포함), 개수)\n",
        "\n",
        "# 1부터 45까지의 랜덤 정수 18개를 가진 배열 생성 후\n",
        "# reshape으로 3행 6열로 변경\n",
        "g = np.random.randint(1,46,18).reshape(3,-1)\n",
        "g"
      ],
      "execution_count": null,
      "outputs": [
        {
          "output_type": "execute_result",
          "data": {
            "text/plain": [
              "array([[21, 33, 30, 23, 29, 13],\n",
              "       [26, 28, 33, 29, 45, 34],\n",
              "       [36,  9, 44, 13, 19, 34]])"
            ]
          },
          "metadata": {
            "tags": []
          },
          "execution_count": 24
        }
      ]
    },
    {
      "cell_type": "markdown",
      "metadata": {
        "id": "Ffv0GTQKVWPk"
      },
      "source": [
        "### 인덱싱, 슬라이싱"
      ]
    },
    {
      "cell_type": "code",
      "metadata": {
        "id": "Qf8SIhQTVWPk",
        "outputId": "22a0268c-fbce-4b97-e5d1-03964a8acb82",
        "colab": {
          "base_uri": "https://localhost:8080/"
        }
      },
      "source": [
        "arr = np.array([[1,2,3,4],\n",
        "                [5,6,7,8],\n",
        "                [9,10,11,12]])\n",
        "arr, arr.shape"
      ],
      "execution_count": null,
      "outputs": [
        {
          "output_type": "execute_result",
          "data": {
            "text/plain": [
              "(array([[ 1,  2,  3,  4],\n",
              "        [ 5,  6,  7,  8],\n",
              "        [ 9, 10, 11, 12]]), (3, 4))"
            ]
          },
          "metadata": {
            "tags": []
          },
          "execution_count": 26
        }
      ]
    },
    {
      "cell_type": "code",
      "metadata": {
        "id": "F3N-EabVVWPm",
        "outputId": "2e101539-38f5-4e56-9cb2-a69e2b0da968",
        "colab": {
          "base_uri": "https://localhost:8080/"
        }
      },
      "source": [
        "# arr[행 슬라이싱, 열 슬라이싱]\n",
        "\n",
        "# 1번행, 모든 열\n",
        "arr[1,:]"
      ],
      "execution_count": null,
      "outputs": [
        {
          "output_type": "execute_result",
          "data": {
            "text/plain": [
              "array([5, 6, 7, 8])"
            ]
          },
          "metadata": {
            "tags": []
          },
          "execution_count": 27
        }
      ]
    },
    {
      "cell_type": "code",
      "metadata": {
        "id": "pWMY8HSuVWPn",
        "outputId": "d99b586a-e9a0-4763-8d8c-889f4397342a",
        "colab": {
          "base_uri": "https://localhost:8080/"
        }
      },
      "source": [
        "# 슬라이싱 - 차원 유지\n",
        "# 인덱싱 - 한차원 감소\n",
        "arr[1:2, :]"
      ],
      "execution_count": null,
      "outputs": [
        {
          "output_type": "execute_result",
          "data": {
            "text/plain": [
              "array([[5, 6, 7, 8]])"
            ]
          },
          "metadata": {
            "tags": []
          },
          "execution_count": 28
        }
      ]
    },
    {
      "cell_type": "code",
      "metadata": {
        "id": "yEs1gcbfVWPo",
        "outputId": "0562c265-bc57-4874-e1c8-8a40f7312402",
        "colab": {
          "base_uri": "https://localhost:8080/"
        }
      },
      "source": [
        "a[:, 1]"
      ],
      "execution_count": null,
      "outputs": [
        {
          "output_type": "execute_result",
          "data": {
            "text/plain": [
              "array([0., 0.])"
            ]
          },
          "metadata": {
            "tags": []
          },
          "execution_count": 29
        }
      ]
    },
    {
      "cell_type": "code",
      "metadata": {
        "id": "M_oGp4HcVWPq",
        "outputId": "a55c3a52-9aba-48b4-cf62-5254f3853c71",
        "colab": {
          "base_uri": "https://localhost:8080/"
        }
      },
      "source": [
        "a[:, 1:2]"
      ],
      "execution_count": null,
      "outputs": [
        {
          "output_type": "execute_result",
          "data": {
            "text/plain": [
              "array([[0.],\n",
              "       [0.]])"
            ]
          },
          "metadata": {
            "tags": []
          },
          "execution_count": 30
        }
      ]
    },
    {
      "cell_type": "markdown",
      "metadata": {
        "id": "IE459tqOVWPr"
      },
      "source": [
        "### fancy indexing"
      ]
    },
    {
      "cell_type": "code",
      "metadata": {
        "id": "_qmRwxl3VWPs",
        "outputId": "c5de5b4c-c4d7-48f3-d8a4-24de8bd87608",
        "colab": {
          "base_uri": "https://localhost:8080/"
        }
      },
      "source": [
        "arr = np.array([[1,2], [3,4], [5,6]])\n",
        "arr"
      ],
      "execution_count": null,
      "outputs": [
        {
          "output_type": "execute_result",
          "data": {
            "text/plain": [
              "array([[1, 2],\n",
              "       [3, 4],\n",
              "       [5, 6]])"
            ]
          },
          "metadata": {
            "tags": []
          },
          "execution_count": 31
        }
      ]
    },
    {
      "cell_type": "code",
      "metadata": {
        "id": "3srzUVwIVWPt",
        "outputId": "91f41d91-c6c6-4543-cded-89abafc7bb04",
        "colab": {
          "base_uri": "https://localhost:8080/"
        }
      },
      "source": [
        "# arr[ [index1, index2, ..] , [index1, index2, ..] ]\n",
        "arr[[0,1,2], [0,1,0]]\n",
        "arr[[0, 2], :]"
      ],
      "execution_count": null,
      "outputs": [
        {
          "output_type": "execute_result",
          "data": {
            "text/plain": [
              "array([[1, 2],\n",
              "       [5, 6]])"
            ]
          },
          "metadata": {
            "tags": []
          },
          "execution_count": 32
        }
      ]
    },
    {
      "cell_type": "markdown",
      "metadata": {
        "id": "BhKLgYKrVWPw"
      },
      "source": [
        "### boolean indexing(조건 인덱싱)"
      ]
    },
    {
      "cell_type": "code",
      "metadata": {
        "id": "6hYgqfLAVWPw",
        "outputId": "24bec33d-d825-49bf-8487-3b09cec7d365",
        "colab": {
          "base_uri": "https://localhost:8080/"
        }
      },
      "source": [
        "arr = np.arange(1,13).reshape(4,3)\n",
        "arr"
      ],
      "execution_count": null,
      "outputs": [
        {
          "output_type": "execute_result",
          "data": {
            "text/plain": [
              "array([[ 1,  2,  3],\n",
              "       [ 4,  5,  6],\n",
              "       [ 7,  8,  9],\n",
              "       [10, 11, 12]])"
            ]
          },
          "metadata": {
            "tags": []
          },
          "execution_count": 33
        }
      ]
    },
    {
      "cell_type": "code",
      "metadata": {
        "id": "y5aPLECSVWPy",
        "outputId": "6b151921-c14d-44f3-9072-e4224289faaa",
        "colab": {
          "base_uri": "https://localhost:8080/"
        }
      },
      "source": [
        "arr >= 5 # 조건설정) 배열의 값이 5 이상인지\n",
        "# 원본 구조를 유지하면서 조건이 만족되면 True\n",
        "# 불만족되면 False 값이 할당"
      ],
      "execution_count": null,
      "outputs": [
        {
          "output_type": "execute_result",
          "data": {
            "text/plain": [
              "array([[False, False, False],\n",
              "       [False,  True,  True],\n",
              "       [ True,  True,  True],\n",
              "       [ True,  True,  True]])"
            ]
          },
          "metadata": {
            "tags": []
          },
          "execution_count": 34
        }
      ]
    },
    {
      "cell_type": "code",
      "metadata": {
        "id": "BcMvnaXYVWPz",
        "outputId": "fb622e9b-08e0-4ea2-b07b-70cff4802dc7",
        "colab": {
          "base_uri": "https://localhost:8080/"
        }
      },
      "source": [
        "# 조건으로 생성한 boolean 배열을 \n",
        "# indexing에 그대로 사용하면\n",
        "# True위치의 데이터만 뽑아내고\n",
        "# False위치의 데이터는 버린다.\n",
        "arr[arr >= 5]"
      ],
      "execution_count": null,
      "outputs": [
        {
          "output_type": "execute_result",
          "data": {
            "text/plain": [
              "array([ 5,  6,  7,  8,  9, 10, 11, 12])"
            ]
          },
          "metadata": {
            "tags": []
          },
          "execution_count": 35
        }
      ]
    },
    {
      "cell_type": "code",
      "metadata": {
        "id": "W5KEJuzWVWP1",
        "outputId": "523c44b0-a4f0-47a2-c776-2b5fb9def32c",
        "colab": {
          "base_uri": "https://localhost:8080/"
        }
      },
      "source": [
        "arr[arr >= 10]"
      ],
      "execution_count": null,
      "outputs": [
        {
          "output_type": "execute_result",
          "data": {
            "text/plain": [
              "array([10, 11, 12])"
            ]
          },
          "metadata": {
            "tags": []
          },
          "execution_count": 36
        }
      ]
    },
    {
      "cell_type": "markdown",
      "metadata": {
        "id": "VCvHhYvpVWP3"
      },
      "source": [
        "### 배열의 연산"
      ]
    },
    {
      "cell_type": "code",
      "metadata": {
        "id": "ePAivOIyVWP3",
        "outputId": "68ef893c-0594-405f-c6a0-5bc6ab6e8f3d",
        "colab": {
          "base_uri": "https://localhost:8080/"
        }
      },
      "source": [
        "x = np.array([[1,2],[3,4]])\n",
        "y = np.array([[5,6],[7,8]])\n",
        "print(x)\n",
        "print(y)"
      ],
      "execution_count": null,
      "outputs": [
        {
          "output_type": "stream",
          "text": [
            "[[1 2]\n",
            " [3 4]]\n",
            "[[5 6]\n",
            " [7 8]]\n"
          ],
          "name": "stdout"
        }
      ]
    },
    {
      "cell_type": "code",
      "metadata": {
        "id": "1SAvYyKwVWP5",
        "outputId": "8205ecc6-a9f1-4938-e88f-bc9e7b019eef",
        "colab": {
          "base_uri": "https://localhost:8080/"
        }
      },
      "source": [
        "print(x + y)\n",
        "print(np.add(x, y))"
      ],
      "execution_count": null,
      "outputs": [
        {
          "output_type": "stream",
          "text": [
            "[[ 6  8]\n",
            " [10 12]]\n",
            "[[ 6  8]\n",
            " [10 12]]\n"
          ],
          "name": "stdout"
        }
      ]
    },
    {
      "cell_type": "code",
      "metadata": {
        "id": "fM3_FoJqVWP6",
        "outputId": "7b086bc7-955e-46b4-b606-355d6f4301e3"
      },
      "source": [
        "print(x - y)\n",
        "print(np.subtract(x, y))"
      ],
      "execution_count": null,
      "outputs": [
        {
          "output_type": "stream",
          "text": [
            "[[-4 -4]\n",
            " [-4 -4]]\n",
            "[[-4 -4]\n",
            " [-4 -4]]\n"
          ],
          "name": "stdout"
        }
      ]
    },
    {
      "cell_type": "code",
      "metadata": {
        "id": "KvlKXY-DVWP7",
        "outputId": "a0b3ff36-8074-464f-94f8-9202092e57b3"
      },
      "source": [
        "print(x * y)\n",
        "print(np.multiply(x, y))\n"
      ],
      "execution_count": null,
      "outputs": [
        {
          "output_type": "stream",
          "text": [
            "[[ 5 12]\n",
            " [21 32]]\n",
            "[[ 5 12]\n",
            " [21 32]]\n"
          ],
          "name": "stdout"
        }
      ]
    },
    {
      "cell_type": "code",
      "metadata": {
        "id": "2tO73HdIVWP9",
        "outputId": "d6fc9033-d4e0-4e5c-87ca-58e4bd2f2032"
      },
      "source": [
        "print(x / y)\n",
        "print(np.divide(x, y))"
      ],
      "execution_count": null,
      "outputs": [
        {
          "output_type": "stream",
          "text": [
            "[[0.2        0.33333333]\n",
            " [0.42857143 0.5       ]]\n",
            "[[0.2        0.33333333]\n",
            " [0.42857143 0.5       ]]\n"
          ],
          "name": "stdout"
        }
      ]
    },
    {
      "cell_type": "code",
      "metadata": {
        "id": "sdwOGoRDMrW8",
        "outputId": "d38fab5e-9c12-4f5b-f7d8-6a7c8de2a28d",
        "colab": {
          "base_uri": "https://localhost:8080/"
        }
      },
      "source": [
        "x + 1\n",
        "x * 2"
      ],
      "execution_count": null,
      "outputs": [
        {
          "output_type": "execute_result",
          "data": {
            "text/plain": [
              "array([[2, 4],\n",
              "       [6, 8]])"
            ]
          },
          "metadata": {
            "tags": []
          },
          "execution_count": 44
        }
      ]
    },
    {
      "cell_type": "code",
      "metadata": {
        "id": "VjmkrjyoVWP_",
        "outputId": "53d38960-7a09-402e-c5d1-e81cf615998f"
      },
      "source": [
        "# 제곱근 연산\n",
        "print(np.sqrt(x))"
      ],
      "execution_count": null,
      "outputs": [
        {
          "output_type": "stream",
          "text": [
            "[[1.         1.41421356]\n",
            " [1.73205081 2.        ]]\n"
          ],
          "name": "stdout"
        }
      ]
    },
    {
      "cell_type": "code",
      "metadata": {
        "id": "F_OGpEPmVWQA"
      },
      "source": [
        "v = np.array([9,10])\n",
        "w = np.array([11, 12])\n"
      ],
      "execution_count": null,
      "outputs": []
    },
    {
      "cell_type": "code",
      "metadata": {
        "id": "DBmpKDdxVWQC",
        "outputId": "51afa5b0-00d6-4c96-dea4-fe9e32f63acd",
        "colab": {
          "base_uri": "https://localhost:8080/"
        }
      },
      "source": [
        "# 내적 함수\n",
        "# 벡터-벡터, 행렬-벡터, 행렬-행렬\n",
        "print(v.dot(w))\n",
        "print(np.dot(v, w))"
      ],
      "execution_count": null,
      "outputs": [
        {
          "output_type": "stream",
          "text": [
            "219\n",
            "219\n"
          ],
          "name": "stdout"
        }
      ]
    },
    {
      "cell_type": "code",
      "metadata": {
        "id": "ZOiiKye_VWQD",
        "outputId": "ff71cd13-8840-45f9-bf85-1b2c976e2b8f",
        "colab": {
          "base_uri": "https://localhost:8080/"
        }
      },
      "source": [
        "print(x.dot(v))\n",
        "print(np.dot(x, v))"
      ],
      "execution_count": null,
      "outputs": [
        {
          "output_type": "stream",
          "text": [
            "[29 67]\n",
            "[29 67]\n"
          ],
          "name": "stdout"
        }
      ]
    },
    {
      "cell_type": "code",
      "metadata": {
        "id": "2iFzM9s-VWQF",
        "outputId": "d0b3c507-e001-43f9-bd56-f9bf485e14d5",
        "colab": {
          "base_uri": "https://localhost:8080/"
        }
      },
      "source": [
        "print(x.dot(y))\n",
        "print(np.dot(x, y))"
      ],
      "execution_count": null,
      "outputs": [
        {
          "output_type": "stream",
          "text": [
            "[[19 22]\n",
            " [43 50]]\n",
            "[[19 22]\n",
            " [43 50]]\n"
          ],
          "name": "stdout"
        }
      ]
    },
    {
      "cell_type": "markdown",
      "metadata": {
        "id": "uJHmmxtYVWQH"
      },
      "source": [
        "### 집계함수\n",
        "- axis : 0 => \"모든 행들을 연산\"\n",
        "- axis : 1 => \"모든 열들을 연산\""
      ]
    },
    {
      "cell_type": "code",
      "metadata": {
        "id": "0AX1J-7JNTUE",
        "outputId": "312e9f82-b3f9-4b9a-a838-8adffcf3b318",
        "colab": {
          "base_uri": "https://localhost:8080/"
        }
      },
      "source": [
        "x = np.array([[1,2],[3,4]])\n",
        "x"
      ],
      "execution_count": null,
      "outputs": [
        {
          "output_type": "execute_result",
          "data": {
            "text/plain": [
              "array([[1, 2],\n",
              "       [3, 4]])"
            ]
          },
          "metadata": {
            "tags": []
          },
          "execution_count": 49
        }
      ]
    },
    {
      "cell_type": "code",
      "metadata": {
        "id": "jEgz5Sz_VWQH",
        "outputId": "96a7a483-b9ed-4cc7-f173-a48115e82b98",
        "colab": {
          "base_uri": "https://localhost:8080/"
        }
      },
      "source": [
        "# np.집계함수(데이터, axis=0 or 1)\n",
        "# sum, mean, max, min, argmax(최대값의 index)\n",
        "\n",
        "# axis=0 모든 행들을 연산\n",
        "print(np.sum(x, axis=0))\n",
        "print(np.sum(x, axis=1))"
      ],
      "execution_count": null,
      "outputs": [
        {
          "output_type": "stream",
          "text": [
            "[4 6]\n",
            "[3 7]\n"
          ],
          "name": "stdout"
        }
      ]
    },
    {
      "cell_type": "markdown",
      "metadata": {
        "id": "XAOAll1fVWQI"
      },
      "source": [
        "### np.where\n",
        "#### 조건을 사용해서 값을 변환"
      ]
    },
    {
      "cell_type": "code",
      "metadata": {
        "id": "R1yRnks2VWQJ",
        "outputId": "89c17584-d0d5-455f-dce9-8f88a375abd7",
        "colab": {
          "base_uri": "https://localhost:8080/"
        }
      },
      "source": [
        "arr = np.random.randn(4,4)\n",
        "print(arr)"
      ],
      "execution_count": null,
      "outputs": [
        {
          "output_type": "stream",
          "text": [
            "[[ 2.63249063  0.33228478 -0.50431783 -0.02760121]\n",
            " [ 0.89407351  0.67787719 -0.01956629  0.81887778]\n",
            " [-1.07720175  0.57478519  0.73206225 -0.14267969]\n",
            " [-0.58480155  0.1884835   0.7543625   0.81984028]]\n"
          ],
          "name": "stdout"
        }
      ]
    },
    {
      "cell_type": "code",
      "metadata": {
        "id": "D8XR0nOCVWQK",
        "outputId": "6b1facf7-5dbf-4bee-9cc3-1aa192325762",
        "colab": {
          "base_uri": "https://localhost:8080/"
        }
      },
      "source": [
        "# np.where(조건, 참일때 변환값, 거짓일때 변환값)\n",
        "print(np.where(arr>0, 1, -1))"
      ],
      "execution_count": null,
      "outputs": [
        {
          "output_type": "stream",
          "text": [
            "[[ 1  1 -1 -1]\n",
            " [ 1  1 -1  1]\n",
            " [-1  1  1 -1]\n",
            " [-1  1  1  1]]\n"
          ],
          "name": "stdout"
        }
      ]
    },
    {
      "cell_type": "code",
      "metadata": {
        "id": "BmHEm__qVWQM",
        "outputId": "2051f72f-c69e-4d45-9e53-f484be700417",
        "colab": {
          "base_uri": "https://localhost:8080/"
        }
      },
      "source": [
        "# 0보다 크면 원본 유지, 크기 않으면 0으로 변환\n",
        "print(np.where(arr>0, arr, -1))"
      ],
      "execution_count": null,
      "outputs": [
        {
          "output_type": "stream",
          "text": [
            "[[ 2.63249063  0.33228478 -1.         -1.        ]\n",
            " [ 0.89407351  0.67787719 -1.          0.81887778]\n",
            " [-1.          0.57478519  0.73206225 -1.        ]\n",
            " [-1.          0.1884835   0.7543625   0.81984028]]\n"
          ],
          "name": "stdout"
        }
      ]
    },
    {
      "cell_type": "markdown",
      "metadata": {
        "id": "BMgxxtzUVWQN"
      },
      "source": [
        "### 속도 측정\n",
        "#### 데이터 생성속도"
      ]
    },
    {
      "cell_type": "code",
      "metadata": {
        "id": "EYRKHw5pVWQO"
      },
      "source": [
        "# python에서 제공하는 랜덤값 생성\n",
        "from random import normalvariate \n",
        "N = 1000"
      ],
      "execution_count": null,
      "outputs": []
    },
    {
      "cell_type": "code",
      "metadata": {
        "id": "8oSwIyjxVWQP",
        "outputId": "b31d766c-b795-4735-b285-19d7813014c2",
        "colab": {
          "base_uri": "https://localhost:8080/"
        }
      },
      "source": [
        "%timeit [normalvariate(0,1) for _ in range(N)]"
      ],
      "execution_count": null,
      "outputs": [
        {
          "output_type": "stream",
          "text": [
            "1000 loops, best of 3: 683 µs per loop\n"
          ],
          "name": "stdout"
        }
      ]
    },
    {
      "cell_type": "code",
      "metadata": {
        "id": "NbmY2nfEVWQR",
        "outputId": "d07bb917-c3f0-4a9a-aaa0-73fe29d33503",
        "colab": {
          "base_uri": "https://localhost:8080/"
        }
      },
      "source": [
        "%timeit np.random.normal(size=N)"
      ],
      "execution_count": null,
      "outputs": [
        {
          "output_type": "stream",
          "text": [
            "10000 loops, best of 3: 48 µs per loop\n"
          ],
          "name": "stdout"
        }
      ]
    },
    {
      "cell_type": "markdown",
      "metadata": {
        "id": "GZiE4BrPWmMF"
      },
      "source": [
        "#### 연산 속도"
      ]
    },
    {
      "cell_type": "code",
      "metadata": {
        "id": "ngOX8FYxWnle"
      },
      "source": [
        "def addList(list1, list2):\n",
        "  myList = []\n",
        "  \n",
        "  for e1, e2 in zip(list1, list2):\n",
        "    myList.append(e1+e2)\n",
        "\n",
        "  return myList"
      ],
      "execution_count": null,
      "outputs": []
    },
    {
      "cell_type": "code",
      "metadata": {
        "id": "65ZE4sY4W1lS",
        "outputId": "feee2d39-513d-4e4b-8e99-133fd28cd6c6",
        "colab": {
          "base_uri": "https://localhost:8080/"
        }
      },
      "source": [
        "%timeit addList(list(range(5000)),list(range(5000,10000)))"
      ],
      "execution_count": null,
      "outputs": [
        {
          "output_type": "stream",
          "text": [
            "1000 loops, best of 3: 795 µs per loop\n"
          ],
          "name": "stdout"
        }
      ]
    },
    {
      "cell_type": "code",
      "metadata": {
        "id": "P97WVQ5zW821",
        "outputId": "f164745e-0c61-4275-8da9-304f016061e9",
        "colab": {
          "base_uri": "https://localhost:8080/"
        }
      },
      "source": [
        "%timeit np.arange(5000)+np.arange(5000,10000)"
      ],
      "execution_count": null,
      "outputs": [
        {
          "output_type": "stream",
          "text": [
            "The slowest run took 24.24 times longer than the fastest. This could mean that an intermediate result is being cached.\n",
            "100000 loops, best of 3: 16.3 µs per loop\n"
          ],
          "name": "stdout"
        }
      ]
    }
  ]
}