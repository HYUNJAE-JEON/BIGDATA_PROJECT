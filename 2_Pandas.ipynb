{
  "nbformat": 4,
  "nbformat_minor": 0,
  "metadata": {
    "kernelspec": {
      "display_name": "Python 3",
      "language": "python",
      "name": "python3"
    },
    "language_info": {
      "codemirror_mode": {
        "name": "ipython",
        "version": 3
      },
      "file_extension": ".py",
      "mimetype": "text/x-python",
      "name": "python",
      "nbconvert_exporter": "python",
      "pygments_lexer": "ipython3",
      "version": "3.8.3"
    },
    "colab": {
      "name": "2. Pandas.ipynb",
      "provenance": [],
      "collapsed_sections": [
        "mL_Dv_RmNmhm",
        "h0wm6vkbNmhx",
        "qaYJZEY5Nmh_"
      ],
      "include_colab_link": true
    }
  },
  "cells": [
    {
      "cell_type": "markdown",
      "metadata": {
        "id": "view-in-github",
        "colab_type": "text"
      },
      "source": [
        "<a href=\"https://colab.research.google.com/github/HYUNJAE-JEON/HYUNJAE-Python-Exercise/blob/master/2_Pandas.ipynb\" target=\"_parent\"><img src=\"https://colab.research.google.com/assets/colab-badge.svg\" alt=\"Open In Colab\"/></a>"
      ]
    },
    {
      "cell_type": "markdown",
      "metadata": {
        "id": "_woRpV7AOwmb"
      },
      "source": [
        "## 필요한 파일들을 먼저 다운로드 받습니다.\n",
        "아래의 명령어들은 ubuntu(linux)에서 사용하는 명령어들입니다."
      ]
    },
    {
      "cell_type": "code",
      "metadata": {
        "id": "ZDPQEDcJOwfO",
        "outputId": "f316c910-23dd-44ed-94f6-fdf0c5ac12cd",
        "colab": {
          "base_uri": "https://localhost:8080/"
        }
      },
      "source": [
        "!wget --no-check-certificate 'https://docs.google.com/uc?export=download&id=1ynuYg99H5oQ8Thklsc9cKHnQq88HpAIS' -O '급여정보.csv'\n",
        "!wget --no-check-certificate 'https://docs.google.com/uc?export=download&id=1LO6qkchgSuAA-ZBdpjfYvmKWSHb-XLS1' -O '급여정보.xlsx'\n",
        "!wget --no-check-certificate 'https://docs.google.com/uc?export=download&id=16bWJxAuCAAvBGpg8NBIgA0pomK6n6o3y' -O '인적사항.csv'\n",
        "!wget --no-check-certificate 'https://docs.google.com/uc?export=download&id=14vHF0Skpg4pnWT0VYm7RzhD3vMdw2jnn' -O '인적사항.xlsx'"
      ],
      "execution_count": 26,
      "outputs": [
        {
          "output_type": "stream",
          "text": [
            "--2020-11-17 05:41:08--  https://docs.google.com/uc?export=download&id=1ynuYg99H5oQ8Thklsc9cKHnQq88HpAIS\n",
            "Resolving docs.google.com (docs.google.com)... 74.125.28.138, 74.125.28.101, 74.125.28.102, ...\n",
            "Connecting to docs.google.com (docs.google.com)|74.125.28.138|:443... connected.\n",
            "HTTP request sent, awaiting response... 302 Moved Temporarily\n",
            "Location: https://doc-0k-5k-docs.googleusercontent.com/docs/securesc/ha0ro937gcuc7l7deffksulhg5h7mbp1/78id9b7l4emfmf5pnlfqk4s3t8lkddks/1605591600000/00428902114429155006/*/1ynuYg99H5oQ8Thklsc9cKHnQq88HpAIS?e=download [following]\n",
            "Warning: wildcards not supported in HTTP.\n",
            "--2020-11-17 05:41:08--  https://doc-0k-5k-docs.googleusercontent.com/docs/securesc/ha0ro937gcuc7l7deffksulhg5h7mbp1/78id9b7l4emfmf5pnlfqk4s3t8lkddks/1605591600000/00428902114429155006/*/1ynuYg99H5oQ8Thklsc9cKHnQq88HpAIS?e=download\n",
            "Resolving doc-0k-5k-docs.googleusercontent.com (doc-0k-5k-docs.googleusercontent.com)... 74.125.142.132, 2607:f8b0:400e:c08::84\n",
            "Connecting to doc-0k-5k-docs.googleusercontent.com (doc-0k-5k-docs.googleusercontent.com)|74.125.142.132|:443... connected.\n",
            "HTTP request sent, awaiting response... 200 OK\n",
            "Length: 197 [text/csv]\n",
            "Saving to: ‘급여정보.csv’\n",
            "\n",
            "급여정보.csv        100%[===================>]     197  --.-KB/s    in 0s      \n",
            "\n",
            "2020-11-17 05:41:08 (6.31 MB/s) - ‘급여정보.csv’ saved [197/197]\n",
            "\n",
            "--2020-11-17 05:41:08--  https://docs.google.com/uc?export=download&id=1LO6qkchgSuAA-ZBdpjfYvmKWSHb-XLS1\n",
            "Resolving docs.google.com (docs.google.com)... 74.125.20.139, 74.125.20.113, 74.125.20.138, ...\n",
            "Connecting to docs.google.com (docs.google.com)|74.125.20.139|:443... connected.\n",
            "HTTP request sent, awaiting response... 302 Moved Temporarily\n",
            "Location: https://doc-0k-5k-docs.googleusercontent.com/docs/securesc/ha0ro937gcuc7l7deffksulhg5h7mbp1/n03vunp4t879ts6n4hv53qgnedbfrsjb/1605591600000/00428902114429155006/*/1LO6qkchgSuAA-ZBdpjfYvmKWSHb-XLS1?e=download [following]\n",
            "Warning: wildcards not supported in HTTP.\n",
            "--2020-11-17 05:41:09--  https://doc-0k-5k-docs.googleusercontent.com/docs/securesc/ha0ro937gcuc7l7deffksulhg5h7mbp1/n03vunp4t879ts6n4hv53qgnedbfrsjb/1605591600000/00428902114429155006/*/1LO6qkchgSuAA-ZBdpjfYvmKWSHb-XLS1?e=download\n",
            "Resolving doc-0k-5k-docs.googleusercontent.com (doc-0k-5k-docs.googleusercontent.com)... 74.125.142.132, 2607:f8b0:400e:c08::84\n",
            "Connecting to doc-0k-5k-docs.googleusercontent.com (doc-0k-5k-docs.googleusercontent.com)|74.125.142.132|:443... connected.\n",
            "HTTP request sent, awaiting response... 200 OK\n",
            "Length: 5673 (5.5K) [application/haansoftxlsx]\n",
            "Saving to: ‘급여정보.xlsx’\n",
            "\n",
            "급여정보.xlsx       100%[===================>]   5.54K  --.-KB/s    in 0s      \n",
            "\n",
            "2020-11-17 05:41:09 (49.3 MB/s) - ‘급여정보.xlsx’ saved [5673/5673]\n",
            "\n",
            "--2020-11-17 05:41:09--  https://docs.google.com/uc?export=download&id=16bWJxAuCAAvBGpg8NBIgA0pomK6n6o3y\n",
            "Resolving docs.google.com (docs.google.com)... 74.125.195.139, 74.125.195.138, 74.125.195.100, ...\n",
            "Connecting to docs.google.com (docs.google.com)|74.125.195.139|:443... connected.\n",
            "HTTP request sent, awaiting response... 302 Moved Temporarily\n",
            "Location: https://doc-0o-5k-docs.googleusercontent.com/docs/securesc/ha0ro937gcuc7l7deffksulhg5h7mbp1/fgnok61fj8md6vo1ec5ggf1ia3a0td1i/1605591600000/00428902114429155006/*/16bWJxAuCAAvBGpg8NBIgA0pomK6n6o3y?e=download [following]\n",
            "Warning: wildcards not supported in HTTP.\n",
            "--2020-11-17 05:41:09--  https://doc-0o-5k-docs.googleusercontent.com/docs/securesc/ha0ro937gcuc7l7deffksulhg5h7mbp1/fgnok61fj8md6vo1ec5ggf1ia3a0td1i/1605591600000/00428902114429155006/*/16bWJxAuCAAvBGpg8NBIgA0pomK6n6o3y?e=download\n",
            "Resolving doc-0o-5k-docs.googleusercontent.com (doc-0o-5k-docs.googleusercontent.com)... 74.125.142.132, 2607:f8b0:400e:c08::84\n",
            "Connecting to doc-0o-5k-docs.googleusercontent.com (doc-0o-5k-docs.googleusercontent.com)|74.125.142.132|:443... connected.\n",
            "HTTP request sent, awaiting response... 200 OK\n",
            "Length: 183 [text/csv]\n",
            "Saving to: ‘인적사항.csv’\n",
            "\n",
            "인적사항.csv        100%[===================>]     183  --.-KB/s    in 0s      \n",
            "\n",
            "2020-11-17 05:41:09 (6.14 MB/s) - ‘인적사항.csv’ saved [183/183]\n",
            "\n",
            "--2020-11-17 05:41:09--  https://docs.google.com/uc?export=download&id=14vHF0Skpg4pnWT0VYm7RzhD3vMdw2jnn\n",
            "Resolving docs.google.com (docs.google.com)... 74.125.20.113, 74.125.20.139, 74.125.20.101, ...\n",
            "Connecting to docs.google.com (docs.google.com)|74.125.20.113|:443... connected.\n",
            "HTTP request sent, awaiting response... 302 Moved Temporarily\n",
            "Location: https://doc-08-5k-docs.googleusercontent.com/docs/securesc/ha0ro937gcuc7l7deffksulhg5h7mbp1/67bhc9le5jqvqnp27qt0cbisl40nuk1u/1605591600000/00428902114429155006/*/14vHF0Skpg4pnWT0VYm7RzhD3vMdw2jnn?e=download [following]\n",
            "Warning: wildcards not supported in HTTP.\n",
            "--2020-11-17 05:41:10--  https://doc-08-5k-docs.googleusercontent.com/docs/securesc/ha0ro937gcuc7l7deffksulhg5h7mbp1/67bhc9le5jqvqnp27qt0cbisl40nuk1u/1605591600000/00428902114429155006/*/14vHF0Skpg4pnWT0VYm7RzhD3vMdw2jnn?e=download\n",
            "Resolving doc-08-5k-docs.googleusercontent.com (doc-08-5k-docs.googleusercontent.com)... 74.125.142.132, 2607:f8b0:400e:c08::84\n",
            "Connecting to doc-08-5k-docs.googleusercontent.com (doc-08-5k-docs.googleusercontent.com)|74.125.142.132|:443... connected.\n",
            "HTTP request sent, awaiting response... 200 OK\n",
            "Length: 5670 (5.5K) [application/haansoftxlsx]\n",
            "Saving to: ‘인적사항.xlsx’\n",
            "\n",
            "인적사항.xlsx       100%[===================>]   5.54K  --.-KB/s    in 0s      \n",
            "\n",
            "2020-11-17 05:41:10 (45.4 MB/s) - ‘인적사항.xlsx’ saved [5670/5670]\n",
            "\n"
          ],
          "name": "stdout"
        }
      ]
    },
    {
      "cell_type": "markdown",
      "metadata": {
        "id": "0GrJ2dJZO-JW"
      },
      "source": [
        "### 다운로드받은 파일들을 확인해보세요."
      ]
    },
    {
      "cell_type": "code",
      "metadata": {
        "id": "irQ8lZVtNmgk"
      },
      "source": [
        "import pandas as pd\n",
        "# pd.Series\n",
        "# pd.DataFrame\n",
        "import numpy as np\n",
        "# pandas 내부에서 Series, DataFrame 두 클래스를 따로 불러온다.\n",
        "from pandas import Series, DataFrame\n",
        "# Series"
      ],
      "execution_count": 27,
      "outputs": []
    },
    {
      "cell_type": "markdown",
      "metadata": {
        "id": "O3zM7kvRNmgo"
      },
      "source": [
        "## Series\n",
        "- 1차원 데이터 구조\n",
        "- numpy의 배열구조를 사용"
      ]
    },
    {
      "cell_type": "code",
      "metadata": {
        "id": "xcTN1RorNmgo",
        "outputId": "29c79565-a38c-4510-80dc-d26fe45e3ffb",
        "colab": {
          "base_uri": "https://localhost:8080/"
        }
      },
      "source": [
        "# 시리즈 생성 후 출력\n",
        "ser1 = Series([4,5,3,-6])\n",
        "ser1"
      ],
      "execution_count": 28,
      "outputs": [
        {
          "output_type": "execute_result",
          "data": {
            "text/plain": [
              "0    4\n",
              "1    5\n",
              "2    3\n",
              "3   -6\n",
              "dtype: int64"
            ]
          },
          "metadata": {
            "tags": []
          },
          "execution_count": 28
        }
      ]
    },
    {
      "cell_type": "code",
      "metadata": {
        "id": "HSXYleZSNmgr",
        "outputId": "62c9bbce-44e1-4613-95a6-1b93b9862694",
        "colab": {
          "base_uri": "https://localhost:8080/"
        }
      },
      "source": [
        "ser2 = Series([4,5,3,-6], index=['a','b','c','d'])\n",
        "ser2"
      ],
      "execution_count": 29,
      "outputs": [
        {
          "output_type": "execute_result",
          "data": {
            "text/plain": [
              "a    4\n",
              "b    5\n",
              "c    3\n",
              "d   -6\n",
              "dtype: int64"
            ]
          },
          "metadata": {
            "tags": []
          },
          "execution_count": 29
        }
      ]
    },
    {
      "cell_type": "code",
      "metadata": {
        "id": "-fZqcXDvNmgt",
        "outputId": "1d2003e6-9eb3-4663-8059-fb3f6196bf83",
        "colab": {
          "base_uri": "https://localhost:8080/"
        }
      },
      "source": [
        "# 숫자인덱스 슬라이싱 - 마지막값 미포함\n",
        "# 라벨 기반 슬라이싱 - 마지막값을 포함\n",
        "ser2['b'], ser2['b':'d']\n",
        "ser2[1:4]\n",
        "ser2['b':'c']"
      ],
      "execution_count": 30,
      "outputs": [
        {
          "output_type": "execute_result",
          "data": {
            "text/plain": [
              "b    5\n",
              "c    3\n",
              "dtype: int64"
            ]
          },
          "metadata": {
            "tags": []
          },
          "execution_count": 30
        }
      ]
    },
    {
      "cell_type": "code",
      "metadata": {
        "id": "iU-nLxeySDaC",
        "outputId": "6080af57-39bb-4ce6-b689-648e4f5fb2ef",
        "colab": {
          "base_uri": "https://localhost:8080/"
        }
      },
      "source": [
        "ser2>3"
      ],
      "execution_count": 31,
      "outputs": [
        {
          "output_type": "execute_result",
          "data": {
            "text/plain": [
              "a     True\n",
              "b     True\n",
              "c    False\n",
              "d    False\n",
              "dtype: bool"
            ]
          },
          "metadata": {
            "tags": []
          },
          "execution_count": 31
        }
      ]
    },
    {
      "cell_type": "code",
      "metadata": {
        "id": "CJf25GiDNmgv",
        "outputId": "64d1c6b2-8970-4874-a9de-dbcdc1c6e28f",
        "colab": {
          "base_uri": "https://localhost:8080/"
        }
      },
      "source": [
        "# boolean indexing - 조건 인덱싱\n",
        "ser2[ser2>3]"
      ],
      "execution_count": 32,
      "outputs": [
        {
          "output_type": "execute_result",
          "data": {
            "text/plain": [
              "a    4\n",
              "b    5\n",
              "dtype: int64"
            ]
          },
          "metadata": {
            "tags": []
          },
          "execution_count": 32
        }
      ]
    },
    {
      "cell_type": "code",
      "metadata": {
        "id": "BKnxp_CYNmgx",
        "outputId": "c2d7687d-9ec4-4125-a1f3-be4c6afbf163",
        "colab": {
          "base_uri": "https://localhost:8080/"
        }
      },
      "source": [
        "ser3 = Series(np.random.randint(1,10,10))\n",
        "ser3"
      ],
      "execution_count": 33,
      "outputs": [
        {
          "output_type": "execute_result",
          "data": {
            "text/plain": [
              "0    5\n",
              "1    7\n",
              "2    5\n",
              "3    6\n",
              "4    3\n",
              "5    4\n",
              "6    3\n",
              "7    7\n",
              "8    2\n",
              "9    2\n",
              "dtype: int64"
            ]
          },
          "metadata": {
            "tags": []
          },
          "execution_count": 33
        }
      ]
    },
    {
      "cell_type": "code",
      "metadata": {
        "id": "2sbs9_zgNmgz",
        "outputId": "3c3d73ef-bbe6-44c6-b617-fc1d276014d3",
        "colab": {
          "base_uri": "https://localhost:8080/"
        }
      },
      "source": [
        "# 시리즈의 고유값들의 개수 count\n",
        "ser3.value_counts()"
      ],
      "execution_count": 34,
      "outputs": [
        {
          "output_type": "execute_result",
          "data": {
            "text/plain": [
              "7    2\n",
              "5    2\n",
              "3    2\n",
              "2    2\n",
              "6    1\n",
              "4    1\n",
              "dtype: int64"
            ]
          },
          "metadata": {
            "tags": []
          },
          "execution_count": 34
        }
      ]
    },
    {
      "cell_type": "markdown",
      "metadata": {
        "id": "8zqh1PxCNmg1"
      },
      "source": [
        "## DataFrame\n",
        "- Pandas의 2차원 데이터 구조\n",
        "\n",
        "### 생성법\n",
        "1. 딕셔너리 형태의 데이터를 사용\n",
        "2. 그냥 2차원 배열 형태의 데이터를 사용\n",
        "3. 2차원 데이터 파일을 읽어옴"
      ]
    },
    {
      "cell_type": "code",
      "metadata": {
        "id": "HUEHBaauNmg2",
        "outputId": "73b853ba-ff6a-4e2d-8918-e16596797e3a",
        "colab": {
          "base_uri": "https://localhost:8080/"
        }
      },
      "source": [
        "data = {\n",
        "    'name':['홍길동','김철수','김영희'],\n",
        "    'score':[90,70,80],\n",
        "    'age':[25,30,32]\n",
        "}\n",
        "data['name']"
      ],
      "execution_count": 35,
      "outputs": [
        {
          "output_type": "execute_result",
          "data": {
            "text/plain": [
              "['홍길동', '김철수', '김영희']"
            ]
          },
          "metadata": {
            "tags": []
          },
          "execution_count": 35
        }
      ]
    },
    {
      "cell_type": "code",
      "metadata": {
        "id": "IeviP16qNmg5",
        "outputId": "cb828266-5e71-4f74-da3b-53214da9d0f4",
        "colab": {
          "base_uri": "https://localhost:8080/",
          "height": 135
        }
      },
      "source": [
        "df = DataFrame(data)\n",
        "df"
      ],
      "execution_count": 36,
      "outputs": [
        {
          "output_type": "execute_result",
          "data": {
            "text/html": [
              "<div>\n",
              "<style scoped>\n",
              "    .dataframe tbody tr th:only-of-type {\n",
              "        vertical-align: middle;\n",
              "    }\n",
              "\n",
              "    .dataframe tbody tr th {\n",
              "        vertical-align: top;\n",
              "    }\n",
              "\n",
              "    .dataframe thead th {\n",
              "        text-align: right;\n",
              "    }\n",
              "</style>\n",
              "<table border=\"1\" class=\"dataframe\">\n",
              "  <thead>\n",
              "    <tr style=\"text-align: right;\">\n",
              "      <th></th>\n",
              "      <th>name</th>\n",
              "      <th>score</th>\n",
              "      <th>age</th>\n",
              "    </tr>\n",
              "  </thead>\n",
              "  <tbody>\n",
              "    <tr>\n",
              "      <th>0</th>\n",
              "      <td>홍길동</td>\n",
              "      <td>90</td>\n",
              "      <td>25</td>\n",
              "    </tr>\n",
              "    <tr>\n",
              "      <th>1</th>\n",
              "      <td>김철수</td>\n",
              "      <td>70</td>\n",
              "      <td>30</td>\n",
              "    </tr>\n",
              "    <tr>\n",
              "      <th>2</th>\n",
              "      <td>김영희</td>\n",
              "      <td>80</td>\n",
              "      <td>32</td>\n",
              "    </tr>\n",
              "  </tbody>\n",
              "</table>\n",
              "</div>"
            ],
            "text/plain": [
              "  name  score  age\n",
              "0  홍길동     90   25\n",
              "1  김철수     70   30\n",
              "2  김영희     80   32"
            ]
          },
          "metadata": {
            "tags": []
          },
          "execution_count": 36
        }
      ]
    },
    {
      "cell_type": "code",
      "metadata": {
        "id": "aWuTmFmqNmg8",
        "outputId": "3d4c1f65-8b30-46d7-f8e6-45c240a922b6",
        "colab": {
          "base_uri": "https://localhost:8080/",
          "height": 135
        }
      },
      "source": [
        "df = DataFrame(data,\n",
        "            columns=['name','age','score'], # 열 라벨\n",
        "            index=['a','b','c']) # 행 라벨\n",
        "df"
      ],
      "execution_count": 37,
      "outputs": [
        {
          "output_type": "execute_result",
          "data": {
            "text/html": [
              "<div>\n",
              "<style scoped>\n",
              "    .dataframe tbody tr th:only-of-type {\n",
              "        vertical-align: middle;\n",
              "    }\n",
              "\n",
              "    .dataframe tbody tr th {\n",
              "        vertical-align: top;\n",
              "    }\n",
              "\n",
              "    .dataframe thead th {\n",
              "        text-align: right;\n",
              "    }\n",
              "</style>\n",
              "<table border=\"1\" class=\"dataframe\">\n",
              "  <thead>\n",
              "    <tr style=\"text-align: right;\">\n",
              "      <th></th>\n",
              "      <th>name</th>\n",
              "      <th>age</th>\n",
              "      <th>score</th>\n",
              "    </tr>\n",
              "  </thead>\n",
              "  <tbody>\n",
              "    <tr>\n",
              "      <th>a</th>\n",
              "      <td>홍길동</td>\n",
              "      <td>25</td>\n",
              "      <td>90</td>\n",
              "    </tr>\n",
              "    <tr>\n",
              "      <th>b</th>\n",
              "      <td>김철수</td>\n",
              "      <td>30</td>\n",
              "      <td>70</td>\n",
              "    </tr>\n",
              "    <tr>\n",
              "      <th>c</th>\n",
              "      <td>김영희</td>\n",
              "      <td>32</td>\n",
              "      <td>80</td>\n",
              "    </tr>\n",
              "  </tbody>\n",
              "</table>\n",
              "</div>"
            ],
            "text/plain": [
              "  name  age  score\n",
              "a  홍길동   25     90\n",
              "b  김철수   30     70\n",
              "c  김영희   32     80"
            ]
          },
          "metadata": {
            "tags": []
          },
          "execution_count": 37
        }
      ]
    },
    {
      "cell_type": "code",
      "metadata": {
        "id": "xD95jjDRNmg-",
        "outputId": "67d6945d-7756-4fad-aa99-dcd9bb398082",
        "colab": {
          "base_uri": "https://localhost:8080/",
          "height": 106
        }
      },
      "source": [
        "df2 = DataFrame([[1,2,3],\n",
        "                 [4,5,6]],\n",
        "               columns=['one','two','three'],\n",
        "               index=pd.date_range('20200721',periods=2)) \n",
        "               # 2020년7월21일부터 2일간 날짜목록\n",
        "df2"
      ],
      "execution_count": 38,
      "outputs": [
        {
          "output_type": "execute_result",
          "data": {
            "text/html": [
              "<div>\n",
              "<style scoped>\n",
              "    .dataframe tbody tr th:only-of-type {\n",
              "        vertical-align: middle;\n",
              "    }\n",
              "\n",
              "    .dataframe tbody tr th {\n",
              "        vertical-align: top;\n",
              "    }\n",
              "\n",
              "    .dataframe thead th {\n",
              "        text-align: right;\n",
              "    }\n",
              "</style>\n",
              "<table border=\"1\" class=\"dataframe\">\n",
              "  <thead>\n",
              "    <tr style=\"text-align: right;\">\n",
              "      <th></th>\n",
              "      <th>one</th>\n",
              "      <th>two</th>\n",
              "      <th>three</th>\n",
              "    </tr>\n",
              "  </thead>\n",
              "  <tbody>\n",
              "    <tr>\n",
              "      <th>2020-07-21</th>\n",
              "      <td>1</td>\n",
              "      <td>2</td>\n",
              "      <td>3</td>\n",
              "    </tr>\n",
              "    <tr>\n",
              "      <th>2020-07-22</th>\n",
              "      <td>4</td>\n",
              "      <td>5</td>\n",
              "      <td>6</td>\n",
              "    </tr>\n",
              "  </tbody>\n",
              "</table>\n",
              "</div>"
            ],
            "text/plain": [
              "            one  two  three\n",
              "2020-07-21    1    2      3\n",
              "2020-07-22    4    5      6"
            ]
          },
          "metadata": {
            "tags": []
          },
          "execution_count": 38
        }
      ]
    },
    {
      "cell_type": "code",
      "metadata": {
        "id": "GYCzETJuNmhA",
        "outputId": "5f11c0e4-3efa-404a-8160-13ade2b418b4",
        "colab": {
          "base_uri": "https://localhost:8080/"
        }
      },
      "source": [
        "pd.date_range('20200721',periods=6, freq='3d')"
      ],
      "execution_count": 39,
      "outputs": [
        {
          "output_type": "execute_result",
          "data": {
            "text/plain": [
              "DatetimeIndex(['2020-07-21', '2020-07-24', '2020-07-27', '2020-07-30',\n",
              "               '2020-08-02', '2020-08-05'],\n",
              "              dtype='datetime64[ns]', freq='3D')"
            ]
          },
          "metadata": {
            "tags": []
          },
          "execution_count": 39
        }
      ]
    },
    {
      "cell_type": "markdown",
      "metadata": {
        "id": "GvnjUW0mUgRt"
      },
      "source": [
        "## 파일 읽어오는 방법\n",
        "- pd.read_확장자명(파일이름)\n",
        "  - csv\n",
        "  - excel\n",
        "  - json"
      ]
    },
    {
      "cell_type": "code",
      "metadata": {
        "id": "Ltv53yyeNmhB",
        "outputId": "6225b47b-2143-42d5-8e23-da0f20bca219",
        "colab": {
          "base_uri": "https://localhost:8080/",
          "height": 311
        }
      },
      "source": [
        "df3 = pd.read_csv('인적사항.csv', encoding='cp949')\n",
        "df3"
      ],
      "execution_count": 40,
      "outputs": [
        {
          "output_type": "execute_result",
          "data": {
            "text/html": [
              "<div>\n",
              "<style scoped>\n",
              "    .dataframe tbody tr th:only-of-type {\n",
              "        vertical-align: middle;\n",
              "    }\n",
              "\n",
              "    .dataframe tbody tr th {\n",
              "        vertical-align: top;\n",
              "    }\n",
              "\n",
              "    .dataframe thead th {\n",
              "        text-align: right;\n",
              "    }\n",
              "</style>\n",
              "<table border=\"1\" class=\"dataframe\">\n",
              "  <thead>\n",
              "    <tr style=\"text-align: right;\">\n",
              "      <th></th>\n",
              "      <th>성별</th>\n",
              "      <th>출생지</th>\n",
              "      <th>키</th>\n",
              "      <th>자산</th>\n",
              "    </tr>\n",
              "  </thead>\n",
              "  <tbody>\n",
              "    <tr>\n",
              "      <th>0</th>\n",
              "      <td>남</td>\n",
              "      <td>서울</td>\n",
              "      <td>180</td>\n",
              "      <td>1000</td>\n",
              "    </tr>\n",
              "    <tr>\n",
              "      <th>1</th>\n",
              "      <td>여</td>\n",
              "      <td>인천</td>\n",
              "      <td>170</td>\n",
              "      <td>2000</td>\n",
              "    </tr>\n",
              "    <tr>\n",
              "      <th>2</th>\n",
              "      <td>남</td>\n",
              "      <td>부산</td>\n",
              "      <td>165</td>\n",
              "      <td>3000</td>\n",
              "    </tr>\n",
              "    <tr>\n",
              "      <th>3</th>\n",
              "      <td>남</td>\n",
              "      <td>서울</td>\n",
              "      <td>175</td>\n",
              "      <td>2000</td>\n",
              "    </tr>\n",
              "    <tr>\n",
              "      <th>4</th>\n",
              "      <td>여</td>\n",
              "      <td>인천</td>\n",
              "      <td>160</td>\n",
              "      <td>2500</td>\n",
              "    </tr>\n",
              "    <tr>\n",
              "      <th>5</th>\n",
              "      <td>남</td>\n",
              "      <td>대구</td>\n",
              "      <td>173</td>\n",
              "      <td>3200</td>\n",
              "    </tr>\n",
              "    <tr>\n",
              "      <th>6</th>\n",
              "      <td>여</td>\n",
              "      <td>부산</td>\n",
              "      <td>170</td>\n",
              "      <td>4000</td>\n",
              "    </tr>\n",
              "    <tr>\n",
              "      <th>7</th>\n",
              "      <td>남</td>\n",
              "      <td>서울</td>\n",
              "      <td>178</td>\n",
              "      <td>3500</td>\n",
              "    </tr>\n",
              "    <tr>\n",
              "      <th>8</th>\n",
              "      <td>여</td>\n",
              "      <td>서울</td>\n",
              "      <td>164</td>\n",
              "      <td>3000</td>\n",
              "    </tr>\n",
              "  </tbody>\n",
              "</table>\n",
              "</div>"
            ],
            "text/plain": [
              "  성별 출생지    키    자산\n",
              "0  남  서울  180  1000\n",
              "1  여  인천  170  2000\n",
              "2  남  부산  165  3000\n",
              "3  남  서울  175  2000\n",
              "4  여  인천  160  2500\n",
              "5  남  대구  173  3200\n",
              "6  여  부산  170  4000\n",
              "7  남  서울  178  3500\n",
              "8  여  서울  164  3000"
            ]
          },
          "metadata": {
            "tags": []
          },
          "execution_count": 40
        }
      ]
    },
    {
      "cell_type": "code",
      "metadata": {
        "id": "qkkOsOzfNmhD",
        "outputId": "e9ba7d48-4242-4d60-bdec-349052269f7c",
        "colab": {
          "base_uri": "https://localhost:8080/",
          "height": 311
        }
      },
      "source": [
        "df3 = pd.read_excel('인적사항.xlsx')\n",
        "df3"
      ],
      "execution_count": 41,
      "outputs": [
        {
          "output_type": "execute_result",
          "data": {
            "text/html": [
              "<div>\n",
              "<style scoped>\n",
              "    .dataframe tbody tr th:only-of-type {\n",
              "        vertical-align: middle;\n",
              "    }\n",
              "\n",
              "    .dataframe tbody tr th {\n",
              "        vertical-align: top;\n",
              "    }\n",
              "\n",
              "    .dataframe thead th {\n",
              "        text-align: right;\n",
              "    }\n",
              "</style>\n",
              "<table border=\"1\" class=\"dataframe\">\n",
              "  <thead>\n",
              "    <tr style=\"text-align: right;\">\n",
              "      <th></th>\n",
              "      <th>성별</th>\n",
              "      <th>출생지</th>\n",
              "      <th>키</th>\n",
              "      <th>자산</th>\n",
              "    </tr>\n",
              "  </thead>\n",
              "  <tbody>\n",
              "    <tr>\n",
              "      <th>0</th>\n",
              "      <td>남</td>\n",
              "      <td>서울</td>\n",
              "      <td>180</td>\n",
              "      <td>1000</td>\n",
              "    </tr>\n",
              "    <tr>\n",
              "      <th>1</th>\n",
              "      <td>여</td>\n",
              "      <td>인천</td>\n",
              "      <td>170</td>\n",
              "      <td>2000</td>\n",
              "    </tr>\n",
              "    <tr>\n",
              "      <th>2</th>\n",
              "      <td>남</td>\n",
              "      <td>부산</td>\n",
              "      <td>165</td>\n",
              "      <td>3000</td>\n",
              "    </tr>\n",
              "    <tr>\n",
              "      <th>3</th>\n",
              "      <td>남</td>\n",
              "      <td>서울</td>\n",
              "      <td>175</td>\n",
              "      <td>2000</td>\n",
              "    </tr>\n",
              "    <tr>\n",
              "      <th>4</th>\n",
              "      <td>여</td>\n",
              "      <td>인천</td>\n",
              "      <td>160</td>\n",
              "      <td>2500</td>\n",
              "    </tr>\n",
              "    <tr>\n",
              "      <th>5</th>\n",
              "      <td>남</td>\n",
              "      <td>대구</td>\n",
              "      <td>173</td>\n",
              "      <td>3200</td>\n",
              "    </tr>\n",
              "    <tr>\n",
              "      <th>6</th>\n",
              "      <td>여</td>\n",
              "      <td>부산</td>\n",
              "      <td>170</td>\n",
              "      <td>4000</td>\n",
              "    </tr>\n",
              "    <tr>\n",
              "      <th>7</th>\n",
              "      <td>남</td>\n",
              "      <td>서울</td>\n",
              "      <td>178</td>\n",
              "      <td>3500</td>\n",
              "    </tr>\n",
              "    <tr>\n",
              "      <th>8</th>\n",
              "      <td>여</td>\n",
              "      <td>서울</td>\n",
              "      <td>164</td>\n",
              "      <td>3000</td>\n",
              "    </tr>\n",
              "  </tbody>\n",
              "</table>\n",
              "</div>"
            ],
            "text/plain": [
              "  성별 출생지    키    자산\n",
              "0  남  서울  180  1000\n",
              "1  여  인천  170  2000\n",
              "2  남  부산  165  3000\n",
              "3  남  서울  175  2000\n",
              "4  여  인천  160  2500\n",
              "5  남  대구  173  3200\n",
              "6  여  부산  170  4000\n",
              "7  남  서울  178  3500\n",
              "8  여  서울  164  3000"
            ]
          },
          "metadata": {
            "tags": []
          },
          "execution_count": 41
        }
      ]
    },
    {
      "cell_type": "code",
      "metadata": {
        "id": "c8xbId6nNmhF",
        "outputId": "2f983a8f-acc4-42c3-f2f4-ae903bc5fb23",
        "colab": {
          "base_uri": "https://localhost:8080/"
        }
      },
      "source": [
        "df3['성별']"
      ],
      "execution_count": 42,
      "outputs": [
        {
          "output_type": "execute_result",
          "data": {
            "text/plain": [
              "0    남\n",
              "1    여\n",
              "2    남\n",
              "3    남\n",
              "4    여\n",
              "5    남\n",
              "6    여\n",
              "7    남\n",
              "8    여\n",
              "Name: 성별, dtype: object"
            ]
          },
          "metadata": {
            "tags": []
          },
          "execution_count": 42
        }
      ]
    },
    {
      "cell_type": "code",
      "metadata": {
        "id": "bknb_MyUNmhH",
        "outputId": "01a5cbc0-e71f-4c24-c21a-1872d8067d2b",
        "colab": {
          "base_uri": "https://localhost:8080/",
          "height": 311
        }
      },
      "source": [
        "# Fancy Indexing으로 원하는 컬럼들 추출.\n",
        "df3[['성별','출생지','키']]"
      ],
      "execution_count": 43,
      "outputs": [
        {
          "output_type": "execute_result",
          "data": {
            "text/html": [
              "<div>\n",
              "<style scoped>\n",
              "    .dataframe tbody tr th:only-of-type {\n",
              "        vertical-align: middle;\n",
              "    }\n",
              "\n",
              "    .dataframe tbody tr th {\n",
              "        vertical-align: top;\n",
              "    }\n",
              "\n",
              "    .dataframe thead th {\n",
              "        text-align: right;\n",
              "    }\n",
              "</style>\n",
              "<table border=\"1\" class=\"dataframe\">\n",
              "  <thead>\n",
              "    <tr style=\"text-align: right;\">\n",
              "      <th></th>\n",
              "      <th>성별</th>\n",
              "      <th>출생지</th>\n",
              "      <th>키</th>\n",
              "    </tr>\n",
              "  </thead>\n",
              "  <tbody>\n",
              "    <tr>\n",
              "      <th>0</th>\n",
              "      <td>남</td>\n",
              "      <td>서울</td>\n",
              "      <td>180</td>\n",
              "    </tr>\n",
              "    <tr>\n",
              "      <th>1</th>\n",
              "      <td>여</td>\n",
              "      <td>인천</td>\n",
              "      <td>170</td>\n",
              "    </tr>\n",
              "    <tr>\n",
              "      <th>2</th>\n",
              "      <td>남</td>\n",
              "      <td>부산</td>\n",
              "      <td>165</td>\n",
              "    </tr>\n",
              "    <tr>\n",
              "      <th>3</th>\n",
              "      <td>남</td>\n",
              "      <td>서울</td>\n",
              "      <td>175</td>\n",
              "    </tr>\n",
              "    <tr>\n",
              "      <th>4</th>\n",
              "      <td>여</td>\n",
              "      <td>인천</td>\n",
              "      <td>160</td>\n",
              "    </tr>\n",
              "    <tr>\n",
              "      <th>5</th>\n",
              "      <td>남</td>\n",
              "      <td>대구</td>\n",
              "      <td>173</td>\n",
              "    </tr>\n",
              "    <tr>\n",
              "      <th>6</th>\n",
              "      <td>여</td>\n",
              "      <td>부산</td>\n",
              "      <td>170</td>\n",
              "    </tr>\n",
              "    <tr>\n",
              "      <th>7</th>\n",
              "      <td>남</td>\n",
              "      <td>서울</td>\n",
              "      <td>178</td>\n",
              "    </tr>\n",
              "    <tr>\n",
              "      <th>8</th>\n",
              "      <td>여</td>\n",
              "      <td>서울</td>\n",
              "      <td>164</td>\n",
              "    </tr>\n",
              "  </tbody>\n",
              "</table>\n",
              "</div>"
            ],
            "text/plain": [
              "  성별 출생지    키\n",
              "0  남  서울  180\n",
              "1  여  인천  170\n",
              "2  남  부산  165\n",
              "3  남  서울  175\n",
              "4  여  인천  160\n",
              "5  남  대구  173\n",
              "6  여  부산  170\n",
              "7  남  서울  178\n",
              "8  여  서울  164"
            ]
          },
          "metadata": {
            "tags": []
          },
          "execution_count": 43
        }
      ]
    },
    {
      "cell_type": "code",
      "metadata": {
        "id": "zI5JNHzYNmhJ",
        "outputId": "c59c680f-dd17-4542-c691-f96df499d366",
        "colab": {
          "base_uri": "https://localhost:8080/"
        }
      },
      "source": [
        "# 특정 컬럼의 데이터 분포 확인\n",
        "df3['성별'].value_counts()"
      ],
      "execution_count": 44,
      "outputs": [
        {
          "output_type": "execute_result",
          "data": {
            "text/plain": [
              "남    5\n",
              "여    4\n",
              "Name: 성별, dtype: int64"
            ]
          },
          "metadata": {
            "tags": []
          },
          "execution_count": 44
        }
      ]
    },
    {
      "cell_type": "code",
      "metadata": {
        "id": "kn_pUvwZNmhK",
        "outputId": "002d3512-17c7-48f5-f737-04da6957c754",
        "colab": {
          "base_uri": "https://localhost:8080/",
          "height": 106
        }
      },
      "source": [
        "# df.head(n) - 상위 n개의 행만 출력\n",
        "df3.head(2)"
      ],
      "execution_count": 45,
      "outputs": [
        {
          "output_type": "execute_result",
          "data": {
            "text/html": [
              "<div>\n",
              "<style scoped>\n",
              "    .dataframe tbody tr th:only-of-type {\n",
              "        vertical-align: middle;\n",
              "    }\n",
              "\n",
              "    .dataframe tbody tr th {\n",
              "        vertical-align: top;\n",
              "    }\n",
              "\n",
              "    .dataframe thead th {\n",
              "        text-align: right;\n",
              "    }\n",
              "</style>\n",
              "<table border=\"1\" class=\"dataframe\">\n",
              "  <thead>\n",
              "    <tr style=\"text-align: right;\">\n",
              "      <th></th>\n",
              "      <th>성별</th>\n",
              "      <th>출생지</th>\n",
              "      <th>키</th>\n",
              "      <th>자산</th>\n",
              "    </tr>\n",
              "  </thead>\n",
              "  <tbody>\n",
              "    <tr>\n",
              "      <th>0</th>\n",
              "      <td>남</td>\n",
              "      <td>서울</td>\n",
              "      <td>180</td>\n",
              "      <td>1000</td>\n",
              "    </tr>\n",
              "    <tr>\n",
              "      <th>1</th>\n",
              "      <td>여</td>\n",
              "      <td>인천</td>\n",
              "      <td>170</td>\n",
              "      <td>2000</td>\n",
              "    </tr>\n",
              "  </tbody>\n",
              "</table>\n",
              "</div>"
            ],
            "text/plain": [
              "  성별 출생지    키    자산\n",
              "0  남  서울  180  1000\n",
              "1  여  인천  170  2000"
            ]
          },
          "metadata": {
            "tags": []
          },
          "execution_count": 45
        }
      ]
    },
    {
      "cell_type": "code",
      "metadata": {
        "id": "REO0kHRCNmhM",
        "outputId": "bb117e37-6deb-4187-89d0-cf6c76df4099",
        "colab": {
          "base_uri": "https://localhost:8080/",
          "height": 135
        }
      },
      "source": [
        "# df.tail(n) - 하위 n개의 행만 출력\n",
        "df3.tail(3)"
      ],
      "execution_count": 46,
      "outputs": [
        {
          "output_type": "execute_result",
          "data": {
            "text/html": [
              "<div>\n",
              "<style scoped>\n",
              "    .dataframe tbody tr th:only-of-type {\n",
              "        vertical-align: middle;\n",
              "    }\n",
              "\n",
              "    .dataframe tbody tr th {\n",
              "        vertical-align: top;\n",
              "    }\n",
              "\n",
              "    .dataframe thead th {\n",
              "        text-align: right;\n",
              "    }\n",
              "</style>\n",
              "<table border=\"1\" class=\"dataframe\">\n",
              "  <thead>\n",
              "    <tr style=\"text-align: right;\">\n",
              "      <th></th>\n",
              "      <th>성별</th>\n",
              "      <th>출생지</th>\n",
              "      <th>키</th>\n",
              "      <th>자산</th>\n",
              "    </tr>\n",
              "  </thead>\n",
              "  <tbody>\n",
              "    <tr>\n",
              "      <th>6</th>\n",
              "      <td>여</td>\n",
              "      <td>부산</td>\n",
              "      <td>170</td>\n",
              "      <td>4000</td>\n",
              "    </tr>\n",
              "    <tr>\n",
              "      <th>7</th>\n",
              "      <td>남</td>\n",
              "      <td>서울</td>\n",
              "      <td>178</td>\n",
              "      <td>3500</td>\n",
              "    </tr>\n",
              "    <tr>\n",
              "      <th>8</th>\n",
              "      <td>여</td>\n",
              "      <td>서울</td>\n",
              "      <td>164</td>\n",
              "      <td>3000</td>\n",
              "    </tr>\n",
              "  </tbody>\n",
              "</table>\n",
              "</div>"
            ],
            "text/plain": [
              "  성별 출생지    키    자산\n",
              "6  여  부산  170  4000\n",
              "7  남  서울  178  3500\n",
              "8  여  서울  164  3000"
            ]
          },
          "metadata": {
            "tags": []
          },
          "execution_count": 46
        }
      ]
    },
    {
      "cell_type": "code",
      "metadata": {
        "id": "ghzuTxhYNmhN",
        "outputId": "62f93906-fffb-47e1-b530-c70a7fd0221f",
        "colab": {
          "base_uri": "https://localhost:8080/"
        }
      },
      "source": [
        "df3.shape # 2차원 데이터프레임의 행, 열 개수"
      ],
      "execution_count": 47,
      "outputs": [
        {
          "output_type": "execute_result",
          "data": {
            "text/plain": [
              "(9, 4)"
            ]
          },
          "metadata": {
            "tags": []
          },
          "execution_count": 47
        }
      ]
    },
    {
      "cell_type": "code",
      "metadata": {
        "id": "z-_6h1qeNmhP",
        "outputId": "46ca84c9-e02f-4139-95fa-8db0172ab9c8",
        "colab": {
          "base_uri": "https://localhost:8080/"
        }
      },
      "source": [
        "df3.columns"
      ],
      "execution_count": 48,
      "outputs": [
        {
          "output_type": "execute_result",
          "data": {
            "text/plain": [
              "Index(['성별', '출생지', '키', '자산'], dtype='object')"
            ]
          },
          "metadata": {
            "tags": []
          },
          "execution_count": 48
        }
      ]
    },
    {
      "cell_type": "code",
      "metadata": {
        "id": "F0ZmRUCBNmhR",
        "outputId": "a8a331fc-9a27-4398-df94-fa5c824eb66f",
        "colab": {
          "base_uri": "https://localhost:8080/"
        }
      },
      "source": [
        "df3.index"
      ],
      "execution_count": 49,
      "outputs": [
        {
          "output_type": "execute_result",
          "data": {
            "text/plain": [
              "RangeIndex(start=0, stop=9, step=1)"
            ]
          },
          "metadata": {
            "tags": []
          },
          "execution_count": 49
        }
      ]
    },
    {
      "cell_type": "code",
      "metadata": {
        "id": "YYPks5-vNmhS",
        "outputId": "cba3e74c-abb6-4317-9fe8-75d6a7482564",
        "colab": {
          "base_uri": "https://localhost:8080/"
        }
      },
      "source": [
        "df3.values, type(df3.values)"
      ],
      "execution_count": 50,
      "outputs": [
        {
          "output_type": "execute_result",
          "data": {
            "text/plain": [
              "(array([['남', '서울', 180, 1000],\n",
              "        ['여', '인천', 170, 2000],\n",
              "        ['남', '부산', 165, 3000],\n",
              "        ['남', '서울', 175, 2000],\n",
              "        ['여', '인천', 160, 2500],\n",
              "        ['남', '대구', 173, 3200],\n",
              "        ['여', '부산', 170, 4000],\n",
              "        ['남', '서울', 178, 3500],\n",
              "        ['여', '서울', 164, 3000]], dtype=object), numpy.ndarray)"
            ]
          },
          "metadata": {
            "tags": []
          },
          "execution_count": 50
        }
      ]
    },
    {
      "cell_type": "code",
      "metadata": {
        "id": "MijoZhoeNmhU",
        "outputId": "198e6e7b-6643-4f2b-ebfe-9ca7fbd173d2",
        "colab": {
          "base_uri": "https://localhost:8080/",
          "height": 282
        }
      },
      "source": [
        "# 컬럼별로 통계량 출력(숫자타입 컬럼만)\n",
        "df3.describe()"
      ],
      "execution_count": 51,
      "outputs": [
        {
          "output_type": "execute_result",
          "data": {
            "text/html": [
              "<div>\n",
              "<style scoped>\n",
              "    .dataframe tbody tr th:only-of-type {\n",
              "        vertical-align: middle;\n",
              "    }\n",
              "\n",
              "    .dataframe tbody tr th {\n",
              "        vertical-align: top;\n",
              "    }\n",
              "\n",
              "    .dataframe thead th {\n",
              "        text-align: right;\n",
              "    }\n",
              "</style>\n",
              "<table border=\"1\" class=\"dataframe\">\n",
              "  <thead>\n",
              "    <tr style=\"text-align: right;\">\n",
              "      <th></th>\n",
              "      <th>키</th>\n",
              "      <th>자산</th>\n",
              "    </tr>\n",
              "  </thead>\n",
              "  <tbody>\n",
              "    <tr>\n",
              "      <th>count</th>\n",
              "      <td>9.000000</td>\n",
              "      <td>9.000000</td>\n",
              "    </tr>\n",
              "    <tr>\n",
              "      <th>mean</th>\n",
              "      <td>170.555556</td>\n",
              "      <td>2688.888889</td>\n",
              "    </tr>\n",
              "    <tr>\n",
              "      <th>std</th>\n",
              "      <td>6.672914</td>\n",
              "      <td>913.023062</td>\n",
              "    </tr>\n",
              "    <tr>\n",
              "      <th>min</th>\n",
              "      <td>160.000000</td>\n",
              "      <td>1000.000000</td>\n",
              "    </tr>\n",
              "    <tr>\n",
              "      <th>25%</th>\n",
              "      <td>165.000000</td>\n",
              "      <td>2000.000000</td>\n",
              "    </tr>\n",
              "    <tr>\n",
              "      <th>50%</th>\n",
              "      <td>170.000000</td>\n",
              "      <td>3000.000000</td>\n",
              "    </tr>\n",
              "    <tr>\n",
              "      <th>75%</th>\n",
              "      <td>175.000000</td>\n",
              "      <td>3200.000000</td>\n",
              "    </tr>\n",
              "    <tr>\n",
              "      <th>max</th>\n",
              "      <td>180.000000</td>\n",
              "      <td>4000.000000</td>\n",
              "    </tr>\n",
              "  </tbody>\n",
              "</table>\n",
              "</div>"
            ],
            "text/plain": [
              "                키           자산\n",
              "count    9.000000     9.000000\n",
              "mean   170.555556  2688.888889\n",
              "std      6.672914   913.023062\n",
              "min    160.000000  1000.000000\n",
              "25%    165.000000  2000.000000\n",
              "50%    170.000000  3000.000000\n",
              "75%    175.000000  3200.000000\n",
              "max    180.000000  4000.000000"
            ]
          },
          "metadata": {
            "tags": []
          },
          "execution_count": 51
        }
      ]
    },
    {
      "cell_type": "code",
      "metadata": {
        "id": "7E34OQ1ONmhW",
        "outputId": "f7b668f2-95ec-4667-ea10-1f62cf30ef8d",
        "colab": {
          "base_uri": "https://localhost:8080/"
        }
      },
      "source": [
        "df3.info()"
      ],
      "execution_count": 52,
      "outputs": [
        {
          "output_type": "stream",
          "text": [
            "<class 'pandas.core.frame.DataFrame'>\n",
            "RangeIndex: 9 entries, 0 to 8\n",
            "Data columns (total 4 columns):\n",
            " #   Column  Non-Null Count  Dtype \n",
            "---  ------  --------------  ----- \n",
            " 0   성별      9 non-null      object\n",
            " 1   출생지     9 non-null      object\n",
            " 2   키       9 non-null      int64 \n",
            " 3   자산      9 non-null      int64 \n",
            "dtypes: int64(2), object(2)\n",
            "memory usage: 416.0+ bytes\n"
          ],
          "name": "stdout"
        }
      ]
    },
    {
      "cell_type": "code",
      "metadata": {
        "id": "CQqiwM1XNmhX",
        "outputId": "bacc6ff9-7b64-43a9-bea1-e93eaa7ae2c4",
        "colab": {
          "base_uri": "https://localhost:8080/",
          "height": 164
        }
      },
      "source": [
        "df3.T"
      ],
      "execution_count": 53,
      "outputs": [
        {
          "output_type": "execute_result",
          "data": {
            "text/html": [
              "<div>\n",
              "<style scoped>\n",
              "    .dataframe tbody tr th:only-of-type {\n",
              "        vertical-align: middle;\n",
              "    }\n",
              "\n",
              "    .dataframe tbody tr th {\n",
              "        vertical-align: top;\n",
              "    }\n",
              "\n",
              "    .dataframe thead th {\n",
              "        text-align: right;\n",
              "    }\n",
              "</style>\n",
              "<table border=\"1\" class=\"dataframe\">\n",
              "  <thead>\n",
              "    <tr style=\"text-align: right;\">\n",
              "      <th></th>\n",
              "      <th>0</th>\n",
              "      <th>1</th>\n",
              "      <th>2</th>\n",
              "      <th>3</th>\n",
              "      <th>4</th>\n",
              "      <th>5</th>\n",
              "      <th>6</th>\n",
              "      <th>7</th>\n",
              "      <th>8</th>\n",
              "    </tr>\n",
              "  </thead>\n",
              "  <tbody>\n",
              "    <tr>\n",
              "      <th>성별</th>\n",
              "      <td>남</td>\n",
              "      <td>여</td>\n",
              "      <td>남</td>\n",
              "      <td>남</td>\n",
              "      <td>여</td>\n",
              "      <td>남</td>\n",
              "      <td>여</td>\n",
              "      <td>남</td>\n",
              "      <td>여</td>\n",
              "    </tr>\n",
              "    <tr>\n",
              "      <th>출생지</th>\n",
              "      <td>서울</td>\n",
              "      <td>인천</td>\n",
              "      <td>부산</td>\n",
              "      <td>서울</td>\n",
              "      <td>인천</td>\n",
              "      <td>대구</td>\n",
              "      <td>부산</td>\n",
              "      <td>서울</td>\n",
              "      <td>서울</td>\n",
              "    </tr>\n",
              "    <tr>\n",
              "      <th>키</th>\n",
              "      <td>180</td>\n",
              "      <td>170</td>\n",
              "      <td>165</td>\n",
              "      <td>175</td>\n",
              "      <td>160</td>\n",
              "      <td>173</td>\n",
              "      <td>170</td>\n",
              "      <td>178</td>\n",
              "      <td>164</td>\n",
              "    </tr>\n",
              "    <tr>\n",
              "      <th>자산</th>\n",
              "      <td>1000</td>\n",
              "      <td>2000</td>\n",
              "      <td>3000</td>\n",
              "      <td>2000</td>\n",
              "      <td>2500</td>\n",
              "      <td>3200</td>\n",
              "      <td>4000</td>\n",
              "      <td>3500</td>\n",
              "      <td>3000</td>\n",
              "    </tr>\n",
              "  </tbody>\n",
              "</table>\n",
              "</div>"
            ],
            "text/plain": [
              "        0     1     2     3     4     5     6     7     8\n",
              "성별      남     여     남     남     여     남     여     남     여\n",
              "출생지    서울    인천    부산    서울    인천    대구    부산    서울    서울\n",
              "키     180   170   165   175   160   173   170   178   164\n",
              "자산   1000  2000  3000  2000  2500  3200  4000  3500  3000"
            ]
          },
          "metadata": {
            "tags": []
          },
          "execution_count": 53
        }
      ]
    },
    {
      "cell_type": "code",
      "metadata": {
        "id": "8uzFPTcANmha",
        "outputId": "b813009a-e8e9-4728-930f-07999225359e",
        "colab": {
          "base_uri": "https://localhost:8080/",
          "height": 311
        }
      },
      "source": [
        "df3.sort_values(by='키')"
      ],
      "execution_count": 54,
      "outputs": [
        {
          "output_type": "execute_result",
          "data": {
            "text/html": [
              "<div>\n",
              "<style scoped>\n",
              "    .dataframe tbody tr th:only-of-type {\n",
              "        vertical-align: middle;\n",
              "    }\n",
              "\n",
              "    .dataframe tbody tr th {\n",
              "        vertical-align: top;\n",
              "    }\n",
              "\n",
              "    .dataframe thead th {\n",
              "        text-align: right;\n",
              "    }\n",
              "</style>\n",
              "<table border=\"1\" class=\"dataframe\">\n",
              "  <thead>\n",
              "    <tr style=\"text-align: right;\">\n",
              "      <th></th>\n",
              "      <th>성별</th>\n",
              "      <th>출생지</th>\n",
              "      <th>키</th>\n",
              "      <th>자산</th>\n",
              "    </tr>\n",
              "  </thead>\n",
              "  <tbody>\n",
              "    <tr>\n",
              "      <th>4</th>\n",
              "      <td>여</td>\n",
              "      <td>인천</td>\n",
              "      <td>160</td>\n",
              "      <td>2500</td>\n",
              "    </tr>\n",
              "    <tr>\n",
              "      <th>8</th>\n",
              "      <td>여</td>\n",
              "      <td>서울</td>\n",
              "      <td>164</td>\n",
              "      <td>3000</td>\n",
              "    </tr>\n",
              "    <tr>\n",
              "      <th>2</th>\n",
              "      <td>남</td>\n",
              "      <td>부산</td>\n",
              "      <td>165</td>\n",
              "      <td>3000</td>\n",
              "    </tr>\n",
              "    <tr>\n",
              "      <th>1</th>\n",
              "      <td>여</td>\n",
              "      <td>인천</td>\n",
              "      <td>170</td>\n",
              "      <td>2000</td>\n",
              "    </tr>\n",
              "    <tr>\n",
              "      <th>6</th>\n",
              "      <td>여</td>\n",
              "      <td>부산</td>\n",
              "      <td>170</td>\n",
              "      <td>4000</td>\n",
              "    </tr>\n",
              "    <tr>\n",
              "      <th>5</th>\n",
              "      <td>남</td>\n",
              "      <td>대구</td>\n",
              "      <td>173</td>\n",
              "      <td>3200</td>\n",
              "    </tr>\n",
              "    <tr>\n",
              "      <th>3</th>\n",
              "      <td>남</td>\n",
              "      <td>서울</td>\n",
              "      <td>175</td>\n",
              "      <td>2000</td>\n",
              "    </tr>\n",
              "    <tr>\n",
              "      <th>7</th>\n",
              "      <td>남</td>\n",
              "      <td>서울</td>\n",
              "      <td>178</td>\n",
              "      <td>3500</td>\n",
              "    </tr>\n",
              "    <tr>\n",
              "      <th>0</th>\n",
              "      <td>남</td>\n",
              "      <td>서울</td>\n",
              "      <td>180</td>\n",
              "      <td>1000</td>\n",
              "    </tr>\n",
              "  </tbody>\n",
              "</table>\n",
              "</div>"
            ],
            "text/plain": [
              "  성별 출생지    키    자산\n",
              "4  여  인천  160  2500\n",
              "8  여  서울  164  3000\n",
              "2  남  부산  165  3000\n",
              "1  여  인천  170  2000\n",
              "6  여  부산  170  4000\n",
              "5  남  대구  173  3200\n",
              "3  남  서울  175  2000\n",
              "7  남  서울  178  3500\n",
              "0  남  서울  180  1000"
            ]
          },
          "metadata": {
            "tags": []
          },
          "execution_count": 54
        }
      ]
    },
    {
      "cell_type": "code",
      "metadata": {
        "id": "9HlrRdy9Nmhd",
        "outputId": "84e45ba3-77dc-4a72-e56c-299c34abaa40",
        "colab": {
          "base_uri": "https://localhost:8080/",
          "height": 311
        }
      },
      "source": [
        "df3"
      ],
      "execution_count": 55,
      "outputs": [
        {
          "output_type": "execute_result",
          "data": {
            "text/html": [
              "<div>\n",
              "<style scoped>\n",
              "    .dataframe tbody tr th:only-of-type {\n",
              "        vertical-align: middle;\n",
              "    }\n",
              "\n",
              "    .dataframe tbody tr th {\n",
              "        vertical-align: top;\n",
              "    }\n",
              "\n",
              "    .dataframe thead th {\n",
              "        text-align: right;\n",
              "    }\n",
              "</style>\n",
              "<table border=\"1\" class=\"dataframe\">\n",
              "  <thead>\n",
              "    <tr style=\"text-align: right;\">\n",
              "      <th></th>\n",
              "      <th>성별</th>\n",
              "      <th>출생지</th>\n",
              "      <th>키</th>\n",
              "      <th>자산</th>\n",
              "    </tr>\n",
              "  </thead>\n",
              "  <tbody>\n",
              "    <tr>\n",
              "      <th>0</th>\n",
              "      <td>남</td>\n",
              "      <td>서울</td>\n",
              "      <td>180</td>\n",
              "      <td>1000</td>\n",
              "    </tr>\n",
              "    <tr>\n",
              "      <th>1</th>\n",
              "      <td>여</td>\n",
              "      <td>인천</td>\n",
              "      <td>170</td>\n",
              "      <td>2000</td>\n",
              "    </tr>\n",
              "    <tr>\n",
              "      <th>2</th>\n",
              "      <td>남</td>\n",
              "      <td>부산</td>\n",
              "      <td>165</td>\n",
              "      <td>3000</td>\n",
              "    </tr>\n",
              "    <tr>\n",
              "      <th>3</th>\n",
              "      <td>남</td>\n",
              "      <td>서울</td>\n",
              "      <td>175</td>\n",
              "      <td>2000</td>\n",
              "    </tr>\n",
              "    <tr>\n",
              "      <th>4</th>\n",
              "      <td>여</td>\n",
              "      <td>인천</td>\n",
              "      <td>160</td>\n",
              "      <td>2500</td>\n",
              "    </tr>\n",
              "    <tr>\n",
              "      <th>5</th>\n",
              "      <td>남</td>\n",
              "      <td>대구</td>\n",
              "      <td>173</td>\n",
              "      <td>3200</td>\n",
              "    </tr>\n",
              "    <tr>\n",
              "      <th>6</th>\n",
              "      <td>여</td>\n",
              "      <td>부산</td>\n",
              "      <td>170</td>\n",
              "      <td>4000</td>\n",
              "    </tr>\n",
              "    <tr>\n",
              "      <th>7</th>\n",
              "      <td>남</td>\n",
              "      <td>서울</td>\n",
              "      <td>178</td>\n",
              "      <td>3500</td>\n",
              "    </tr>\n",
              "    <tr>\n",
              "      <th>8</th>\n",
              "      <td>여</td>\n",
              "      <td>서울</td>\n",
              "      <td>164</td>\n",
              "      <td>3000</td>\n",
              "    </tr>\n",
              "  </tbody>\n",
              "</table>\n",
              "</div>"
            ],
            "text/plain": [
              "  성별 출생지    키    자산\n",
              "0  남  서울  180  1000\n",
              "1  여  인천  170  2000\n",
              "2  남  부산  165  3000\n",
              "3  남  서울  175  2000\n",
              "4  여  인천  160  2500\n",
              "5  남  대구  173  3200\n",
              "6  여  부산  170  4000\n",
              "7  남  서울  178  3500\n",
              "8  여  서울  164  3000"
            ]
          },
          "metadata": {
            "tags": []
          },
          "execution_count": 55
        }
      ]
    },
    {
      "cell_type": "code",
      "metadata": {
        "id": "u-wcprHpNmhf",
        "outputId": "fd5e05fa-0455-4028-d8b6-16826c88b5bf",
        "colab": {
          "base_uri": "https://localhost:8080/",
          "height": 311
        }
      },
      "source": [
        "df3.sort_values(by='키',\n",
        "               inplace=True)\n",
        "df3"
      ],
      "execution_count": 56,
      "outputs": [
        {
          "output_type": "execute_result",
          "data": {
            "text/html": [
              "<div>\n",
              "<style scoped>\n",
              "    .dataframe tbody tr th:only-of-type {\n",
              "        vertical-align: middle;\n",
              "    }\n",
              "\n",
              "    .dataframe tbody tr th {\n",
              "        vertical-align: top;\n",
              "    }\n",
              "\n",
              "    .dataframe thead th {\n",
              "        text-align: right;\n",
              "    }\n",
              "</style>\n",
              "<table border=\"1\" class=\"dataframe\">\n",
              "  <thead>\n",
              "    <tr style=\"text-align: right;\">\n",
              "      <th></th>\n",
              "      <th>성별</th>\n",
              "      <th>출생지</th>\n",
              "      <th>키</th>\n",
              "      <th>자산</th>\n",
              "    </tr>\n",
              "  </thead>\n",
              "  <tbody>\n",
              "    <tr>\n",
              "      <th>4</th>\n",
              "      <td>여</td>\n",
              "      <td>인천</td>\n",
              "      <td>160</td>\n",
              "      <td>2500</td>\n",
              "    </tr>\n",
              "    <tr>\n",
              "      <th>8</th>\n",
              "      <td>여</td>\n",
              "      <td>서울</td>\n",
              "      <td>164</td>\n",
              "      <td>3000</td>\n",
              "    </tr>\n",
              "    <tr>\n",
              "      <th>2</th>\n",
              "      <td>남</td>\n",
              "      <td>부산</td>\n",
              "      <td>165</td>\n",
              "      <td>3000</td>\n",
              "    </tr>\n",
              "    <tr>\n",
              "      <th>1</th>\n",
              "      <td>여</td>\n",
              "      <td>인천</td>\n",
              "      <td>170</td>\n",
              "      <td>2000</td>\n",
              "    </tr>\n",
              "    <tr>\n",
              "      <th>6</th>\n",
              "      <td>여</td>\n",
              "      <td>부산</td>\n",
              "      <td>170</td>\n",
              "      <td>4000</td>\n",
              "    </tr>\n",
              "    <tr>\n",
              "      <th>5</th>\n",
              "      <td>남</td>\n",
              "      <td>대구</td>\n",
              "      <td>173</td>\n",
              "      <td>3200</td>\n",
              "    </tr>\n",
              "    <tr>\n",
              "      <th>3</th>\n",
              "      <td>남</td>\n",
              "      <td>서울</td>\n",
              "      <td>175</td>\n",
              "      <td>2000</td>\n",
              "    </tr>\n",
              "    <tr>\n",
              "      <th>7</th>\n",
              "      <td>남</td>\n",
              "      <td>서울</td>\n",
              "      <td>178</td>\n",
              "      <td>3500</td>\n",
              "    </tr>\n",
              "    <tr>\n",
              "      <th>0</th>\n",
              "      <td>남</td>\n",
              "      <td>서울</td>\n",
              "      <td>180</td>\n",
              "      <td>1000</td>\n",
              "    </tr>\n",
              "  </tbody>\n",
              "</table>\n",
              "</div>"
            ],
            "text/plain": [
              "  성별 출생지    키    자산\n",
              "4  여  인천  160  2500\n",
              "8  여  서울  164  3000\n",
              "2  남  부산  165  3000\n",
              "1  여  인천  170  2000\n",
              "6  여  부산  170  4000\n",
              "5  남  대구  173  3200\n",
              "3  남  서울  175  2000\n",
              "7  남  서울  178  3500\n",
              "0  남  서울  180  1000"
            ]
          },
          "metadata": {
            "tags": []
          },
          "execution_count": 56
        }
      ]
    },
    {
      "cell_type": "code",
      "metadata": {
        "id": "B6HodKPdNmhh",
        "outputId": "ca28ff0f-8220-42e1-bbb5-86f15bfbf80d",
        "colab": {
          "base_uri": "https://localhost:8080/",
          "height": 311
        }
      },
      "source": [
        "df3.sort_values(by='키',\n",
        "                ascending=False,\n",
        "               inplace=True)\n",
        "df3"
      ],
      "execution_count": 57,
      "outputs": [
        {
          "output_type": "execute_result",
          "data": {
            "text/html": [
              "<div>\n",
              "<style scoped>\n",
              "    .dataframe tbody tr th:only-of-type {\n",
              "        vertical-align: middle;\n",
              "    }\n",
              "\n",
              "    .dataframe tbody tr th {\n",
              "        vertical-align: top;\n",
              "    }\n",
              "\n",
              "    .dataframe thead th {\n",
              "        text-align: right;\n",
              "    }\n",
              "</style>\n",
              "<table border=\"1\" class=\"dataframe\">\n",
              "  <thead>\n",
              "    <tr style=\"text-align: right;\">\n",
              "      <th></th>\n",
              "      <th>성별</th>\n",
              "      <th>출생지</th>\n",
              "      <th>키</th>\n",
              "      <th>자산</th>\n",
              "    </tr>\n",
              "  </thead>\n",
              "  <tbody>\n",
              "    <tr>\n",
              "      <th>0</th>\n",
              "      <td>남</td>\n",
              "      <td>서울</td>\n",
              "      <td>180</td>\n",
              "      <td>1000</td>\n",
              "    </tr>\n",
              "    <tr>\n",
              "      <th>7</th>\n",
              "      <td>남</td>\n",
              "      <td>서울</td>\n",
              "      <td>178</td>\n",
              "      <td>3500</td>\n",
              "    </tr>\n",
              "    <tr>\n",
              "      <th>3</th>\n",
              "      <td>남</td>\n",
              "      <td>서울</td>\n",
              "      <td>175</td>\n",
              "      <td>2000</td>\n",
              "    </tr>\n",
              "    <tr>\n",
              "      <th>5</th>\n",
              "      <td>남</td>\n",
              "      <td>대구</td>\n",
              "      <td>173</td>\n",
              "      <td>3200</td>\n",
              "    </tr>\n",
              "    <tr>\n",
              "      <th>1</th>\n",
              "      <td>여</td>\n",
              "      <td>인천</td>\n",
              "      <td>170</td>\n",
              "      <td>2000</td>\n",
              "    </tr>\n",
              "    <tr>\n",
              "      <th>6</th>\n",
              "      <td>여</td>\n",
              "      <td>부산</td>\n",
              "      <td>170</td>\n",
              "      <td>4000</td>\n",
              "    </tr>\n",
              "    <tr>\n",
              "      <th>2</th>\n",
              "      <td>남</td>\n",
              "      <td>부산</td>\n",
              "      <td>165</td>\n",
              "      <td>3000</td>\n",
              "    </tr>\n",
              "    <tr>\n",
              "      <th>8</th>\n",
              "      <td>여</td>\n",
              "      <td>서울</td>\n",
              "      <td>164</td>\n",
              "      <td>3000</td>\n",
              "    </tr>\n",
              "    <tr>\n",
              "      <th>4</th>\n",
              "      <td>여</td>\n",
              "      <td>인천</td>\n",
              "      <td>160</td>\n",
              "      <td>2500</td>\n",
              "    </tr>\n",
              "  </tbody>\n",
              "</table>\n",
              "</div>"
            ],
            "text/plain": [
              "  성별 출생지    키    자산\n",
              "0  남  서울  180  1000\n",
              "7  남  서울  178  3500\n",
              "3  남  서울  175  2000\n",
              "5  남  대구  173  3200\n",
              "1  여  인천  170  2000\n",
              "6  여  부산  170  4000\n",
              "2  남  부산  165  3000\n",
              "8  여  서울  164  3000\n",
              "4  여  인천  160  2500"
            ]
          },
          "metadata": {
            "tags": []
          },
          "execution_count": 57
        }
      ]
    },
    {
      "cell_type": "code",
      "metadata": {
        "id": "y4T7DIM7Nmhi",
        "outputId": "c7a61ff9-aece-403b-9b94-5babc496622a",
        "colab": {
          "base_uri": "https://localhost:8080/",
          "height": 311
        }
      },
      "source": [
        "df3.sort_values(by=['출생지','키'],\n",
        "                ascending=[True,False],\n",
        "               inplace=True)\n",
        "df3"
      ],
      "execution_count": 58,
      "outputs": [
        {
          "output_type": "execute_result",
          "data": {
            "text/html": [
              "<div>\n",
              "<style scoped>\n",
              "    .dataframe tbody tr th:only-of-type {\n",
              "        vertical-align: middle;\n",
              "    }\n",
              "\n",
              "    .dataframe tbody tr th {\n",
              "        vertical-align: top;\n",
              "    }\n",
              "\n",
              "    .dataframe thead th {\n",
              "        text-align: right;\n",
              "    }\n",
              "</style>\n",
              "<table border=\"1\" class=\"dataframe\">\n",
              "  <thead>\n",
              "    <tr style=\"text-align: right;\">\n",
              "      <th></th>\n",
              "      <th>성별</th>\n",
              "      <th>출생지</th>\n",
              "      <th>키</th>\n",
              "      <th>자산</th>\n",
              "    </tr>\n",
              "  </thead>\n",
              "  <tbody>\n",
              "    <tr>\n",
              "      <th>5</th>\n",
              "      <td>남</td>\n",
              "      <td>대구</td>\n",
              "      <td>173</td>\n",
              "      <td>3200</td>\n",
              "    </tr>\n",
              "    <tr>\n",
              "      <th>6</th>\n",
              "      <td>여</td>\n",
              "      <td>부산</td>\n",
              "      <td>170</td>\n",
              "      <td>4000</td>\n",
              "    </tr>\n",
              "    <tr>\n",
              "      <th>2</th>\n",
              "      <td>남</td>\n",
              "      <td>부산</td>\n",
              "      <td>165</td>\n",
              "      <td>3000</td>\n",
              "    </tr>\n",
              "    <tr>\n",
              "      <th>0</th>\n",
              "      <td>남</td>\n",
              "      <td>서울</td>\n",
              "      <td>180</td>\n",
              "      <td>1000</td>\n",
              "    </tr>\n",
              "    <tr>\n",
              "      <th>7</th>\n",
              "      <td>남</td>\n",
              "      <td>서울</td>\n",
              "      <td>178</td>\n",
              "      <td>3500</td>\n",
              "    </tr>\n",
              "    <tr>\n",
              "      <th>3</th>\n",
              "      <td>남</td>\n",
              "      <td>서울</td>\n",
              "      <td>175</td>\n",
              "      <td>2000</td>\n",
              "    </tr>\n",
              "    <tr>\n",
              "      <th>8</th>\n",
              "      <td>여</td>\n",
              "      <td>서울</td>\n",
              "      <td>164</td>\n",
              "      <td>3000</td>\n",
              "    </tr>\n",
              "    <tr>\n",
              "      <th>1</th>\n",
              "      <td>여</td>\n",
              "      <td>인천</td>\n",
              "      <td>170</td>\n",
              "      <td>2000</td>\n",
              "    </tr>\n",
              "    <tr>\n",
              "      <th>4</th>\n",
              "      <td>여</td>\n",
              "      <td>인천</td>\n",
              "      <td>160</td>\n",
              "      <td>2500</td>\n",
              "    </tr>\n",
              "  </tbody>\n",
              "</table>\n",
              "</div>"
            ],
            "text/plain": [
              "  성별 출생지    키    자산\n",
              "5  남  대구  173  3200\n",
              "6  여  부산  170  4000\n",
              "2  남  부산  165  3000\n",
              "0  남  서울  180  1000\n",
              "7  남  서울  178  3500\n",
              "3  남  서울  175  2000\n",
              "8  여  서울  164  3000\n",
              "1  여  인천  170  2000\n",
              "4  여  인천  160  2500"
            ]
          },
          "metadata": {
            "tags": []
          },
          "execution_count": 58
        }
      ]
    },
    {
      "cell_type": "code",
      "metadata": {
        "id": "rJoB1YQ3Nmhl",
        "outputId": "3eca1221-38a5-4cda-ad36-1e178bb8bc0b",
        "colab": {
          "base_uri": "https://localhost:8080/",
          "height": 340
        }
      },
      "source": [
        "df4 = pd.read_csv('급여정보.csv', encoding='cp949')\n",
        "df4"
      ],
      "execution_count": 80,
      "outputs": [
        {
          "output_type": "execute_result",
          "data": {
            "text/html": [
              "<div>\n",
              "<style scoped>\n",
              "    .dataframe tbody tr th:only-of-type {\n",
              "        vertical-align: middle;\n",
              "    }\n",
              "\n",
              "    .dataframe tbody tr th {\n",
              "        vertical-align: top;\n",
              "    }\n",
              "\n",
              "    .dataframe thead th {\n",
              "        text-align: right;\n",
              "    }\n",
              "</style>\n",
              "<table border=\"1\" class=\"dataframe\">\n",
              "  <thead>\n",
              "    <tr style=\"text-align: right;\">\n",
              "      <th></th>\n",
              "      <th>사원번호</th>\n",
              "      <th>1월 급여</th>\n",
              "      <th>2월 급여</th>\n",
              "      <th>3월 급여</th>\n",
              "    </tr>\n",
              "  </thead>\n",
              "  <tbody>\n",
              "    <tr>\n",
              "      <th>0</th>\n",
              "      <td>11</td>\n",
              "      <td>328</td>\n",
              "      <td>333</td>\n",
              "      <td>348</td>\n",
              "    </tr>\n",
              "    <tr>\n",
              "      <th>1</th>\n",
              "      <td>12</td>\n",
              "      <td>336</td>\n",
              "      <td>329</td>\n",
              "      <td>392</td>\n",
              "    </tr>\n",
              "    <tr>\n",
              "      <th>2</th>\n",
              "      <td>13</td>\n",
              "      <td>317</td>\n",
              "      <td>365</td>\n",
              "      <td>394</td>\n",
              "    </tr>\n",
              "    <tr>\n",
              "      <th>3</th>\n",
              "      <td>14</td>\n",
              "      <td>389</td>\n",
              "      <td>373</td>\n",
              "      <td>312</td>\n",
              "    </tr>\n",
              "    <tr>\n",
              "      <th>4</th>\n",
              "      <td>15</td>\n",
              "      <td>325</td>\n",
              "      <td>329</td>\n",
              "      <td>342</td>\n",
              "    </tr>\n",
              "    <tr>\n",
              "      <th>5</th>\n",
              "      <td>16</td>\n",
              "      <td>311</td>\n",
              "      <td>316</td>\n",
              "      <td>328</td>\n",
              "    </tr>\n",
              "    <tr>\n",
              "      <th>6</th>\n",
              "      <td>17</td>\n",
              "      <td>349</td>\n",
              "      <td>385</td>\n",
              "      <td>391</td>\n",
              "    </tr>\n",
              "    <tr>\n",
              "      <th>7</th>\n",
              "      <td>18</td>\n",
              "      <td>325</td>\n",
              "      <td>377</td>\n",
              "      <td>395</td>\n",
              "    </tr>\n",
              "    <tr>\n",
              "      <th>8</th>\n",
              "      <td>19</td>\n",
              "      <td>330</td>\n",
              "      <td>364</td>\n",
              "      <td>395</td>\n",
              "    </tr>\n",
              "    <tr>\n",
              "      <th>9</th>\n",
              "      <td>20</td>\n",
              "      <td>353</td>\n",
              "      <td>396</td>\n",
              "      <td>316</td>\n",
              "    </tr>\n",
              "  </tbody>\n",
              "</table>\n",
              "</div>"
            ],
            "text/plain": [
              "   사원번호  1월 급여  2월 급여  3월 급여\n",
              "0    11    328    333    348\n",
              "1    12    336    329    392\n",
              "2    13    317    365    394\n",
              "3    14    389    373    312\n",
              "4    15    325    329    342\n",
              "5    16    311    316    328\n",
              "6    17    349    385    391\n",
              "7    18    325    377    395\n",
              "8    19    330    364    395\n",
              "9    20    353    396    316"
            ]
          },
          "metadata": {
            "tags": []
          },
          "execution_count": 80
        }
      ]
    },
    {
      "cell_type": "markdown",
      "metadata": {
        "id": "mL_Dv_RmNmhm"
      },
      "source": [
        "## 데이터 프레임 조회 방법\n",
        "\n",
        "### 1. loc 인덱서\n",
        "- 직접 지정한 인덱스 기반으로 인덱싱, 슬라이싱\n",
        "\n",
        "### 2. iloc 인덱서\n",
        "- 숫자인덱스로 인덱싱, 슬라이싱\n",
        "- iloc는 마지막 행은 포함하지 않는다."
      ]
    },
    {
      "cell_type": "code",
      "metadata": {
        "id": "XsE6FupdNmhn",
        "outputId": "52b69c08-842b-497a-930b-e32c900d8910",
        "colab": {
          "base_uri": "https://localhost:8080/",
          "height": 164
        }
      },
      "source": [
        "df4.loc[0:3,'1월 급여':'2월 급여']"
      ],
      "execution_count": 60,
      "outputs": [
        {
          "output_type": "execute_result",
          "data": {
            "text/html": [
              "<div>\n",
              "<style scoped>\n",
              "    .dataframe tbody tr th:only-of-type {\n",
              "        vertical-align: middle;\n",
              "    }\n",
              "\n",
              "    .dataframe tbody tr th {\n",
              "        vertical-align: top;\n",
              "    }\n",
              "\n",
              "    .dataframe thead th {\n",
              "        text-align: right;\n",
              "    }\n",
              "</style>\n",
              "<table border=\"1\" class=\"dataframe\">\n",
              "  <thead>\n",
              "    <tr style=\"text-align: right;\">\n",
              "      <th></th>\n",
              "      <th>1월 급여</th>\n",
              "      <th>2월 급여</th>\n",
              "    </tr>\n",
              "  </thead>\n",
              "  <tbody>\n",
              "    <tr>\n",
              "      <th>0</th>\n",
              "      <td>328</td>\n",
              "      <td>333</td>\n",
              "    </tr>\n",
              "    <tr>\n",
              "      <th>1</th>\n",
              "      <td>336</td>\n",
              "      <td>329</td>\n",
              "    </tr>\n",
              "    <tr>\n",
              "      <th>2</th>\n",
              "      <td>317</td>\n",
              "      <td>365</td>\n",
              "    </tr>\n",
              "    <tr>\n",
              "      <th>3</th>\n",
              "      <td>389</td>\n",
              "      <td>373</td>\n",
              "    </tr>\n",
              "  </tbody>\n",
              "</table>\n",
              "</div>"
            ],
            "text/plain": [
              "   1월 급여  2월 급여\n",
              "0    328    333\n",
              "1    336    329\n",
              "2    317    365\n",
              "3    389    373"
            ]
          },
          "metadata": {
            "tags": []
          },
          "execution_count": 60
        }
      ]
    },
    {
      "cell_type": "code",
      "metadata": {
        "id": "K5vt_ZyWNmho",
        "outputId": "8f3eb127-5d2a-4832-a766-f2f92a4fc2eb",
        "colab": {
          "base_uri": "https://localhost:8080/",
          "height": 106
        }
      },
      "source": [
        "df4.loc[[1,3],:]"
      ],
      "execution_count": 61,
      "outputs": [
        {
          "output_type": "execute_result",
          "data": {
            "text/html": [
              "<div>\n",
              "<style scoped>\n",
              "    .dataframe tbody tr th:only-of-type {\n",
              "        vertical-align: middle;\n",
              "    }\n",
              "\n",
              "    .dataframe tbody tr th {\n",
              "        vertical-align: top;\n",
              "    }\n",
              "\n",
              "    .dataframe thead th {\n",
              "        text-align: right;\n",
              "    }\n",
              "</style>\n",
              "<table border=\"1\" class=\"dataframe\">\n",
              "  <thead>\n",
              "    <tr style=\"text-align: right;\">\n",
              "      <th></th>\n",
              "      <th>사원번호</th>\n",
              "      <th>1월 급여</th>\n",
              "      <th>2월 급여</th>\n",
              "      <th>3월 급여</th>\n",
              "    </tr>\n",
              "  </thead>\n",
              "  <tbody>\n",
              "    <tr>\n",
              "      <th>1</th>\n",
              "      <td>12</td>\n",
              "      <td>336</td>\n",
              "      <td>329</td>\n",
              "      <td>392</td>\n",
              "    </tr>\n",
              "    <tr>\n",
              "      <th>3</th>\n",
              "      <td>14</td>\n",
              "      <td>389</td>\n",
              "      <td>373</td>\n",
              "      <td>312</td>\n",
              "    </tr>\n",
              "  </tbody>\n",
              "</table>\n",
              "</div>"
            ],
            "text/plain": [
              "   사원번호  1월 급여  2월 급여  3월 급여\n",
              "1    12    336    329    392\n",
              "3    14    389    373    312"
            ]
          },
          "metadata": {
            "tags": []
          },
          "execution_count": 61
        }
      ]
    },
    {
      "cell_type": "code",
      "metadata": {
        "id": "IPodgQgINmhq",
        "outputId": "487bafb1-8a7a-4538-d069-8bb683586a4a",
        "colab": {
          "base_uri": "https://localhost:8080/",
          "height": 106
        }
      },
      "source": [
        "df4.iloc[[1,2],[0,2]]"
      ],
      "execution_count": 62,
      "outputs": [
        {
          "output_type": "execute_result",
          "data": {
            "text/html": [
              "<div>\n",
              "<style scoped>\n",
              "    .dataframe tbody tr th:only-of-type {\n",
              "        vertical-align: middle;\n",
              "    }\n",
              "\n",
              "    .dataframe tbody tr th {\n",
              "        vertical-align: top;\n",
              "    }\n",
              "\n",
              "    .dataframe thead th {\n",
              "        text-align: right;\n",
              "    }\n",
              "</style>\n",
              "<table border=\"1\" class=\"dataframe\">\n",
              "  <thead>\n",
              "    <tr style=\"text-align: right;\">\n",
              "      <th></th>\n",
              "      <th>사원번호</th>\n",
              "      <th>2월 급여</th>\n",
              "    </tr>\n",
              "  </thead>\n",
              "  <tbody>\n",
              "    <tr>\n",
              "      <th>1</th>\n",
              "      <td>12</td>\n",
              "      <td>329</td>\n",
              "    </tr>\n",
              "    <tr>\n",
              "      <th>2</th>\n",
              "      <td>13</td>\n",
              "      <td>365</td>\n",
              "    </tr>\n",
              "  </tbody>\n",
              "</table>\n",
              "</div>"
            ],
            "text/plain": [
              "   사원번호  2월 급여\n",
              "1    12    329\n",
              "2    13    365"
            ]
          },
          "metadata": {
            "tags": []
          },
          "execution_count": 62
        }
      ]
    },
    {
      "cell_type": "code",
      "metadata": {
        "id": "xZHu1skqNmhs",
        "outputId": "e9252ab8-df3f-4d28-b0aa-932f2425e2ba",
        "colab": {
          "base_uri": "https://localhost:8080/",
          "height": 340
        }
      },
      "source": [
        "df4['1분기 급여 평균'] = df4[['1월 급여',\n",
        "                       '2월 급여',\n",
        "                       '3월 급여']].mean(axis=1)\n",
        "df4['1분기 급여 합계'] = df4[['1월 급여',\n",
        "                       '2월 급여',\n",
        "                       '3월 급여']].sum(axis=1)\n",
        "df4"
      ],
      "execution_count": 82,
      "outputs": [
        {
          "output_type": "execute_result",
          "data": {
            "text/html": [
              "<div>\n",
              "<style scoped>\n",
              "    .dataframe tbody tr th:only-of-type {\n",
              "        vertical-align: middle;\n",
              "    }\n",
              "\n",
              "    .dataframe tbody tr th {\n",
              "        vertical-align: top;\n",
              "    }\n",
              "\n",
              "    .dataframe thead th {\n",
              "        text-align: right;\n",
              "    }\n",
              "</style>\n",
              "<table border=\"1\" class=\"dataframe\">\n",
              "  <thead>\n",
              "    <tr style=\"text-align: right;\">\n",
              "      <th></th>\n",
              "      <th>사원번호</th>\n",
              "      <th>1월 급여</th>\n",
              "      <th>2월 급여</th>\n",
              "      <th>3월 급여</th>\n",
              "      <th>1분기 급여 평균</th>\n",
              "      <th>1분기 급여 합계</th>\n",
              "    </tr>\n",
              "  </thead>\n",
              "  <tbody>\n",
              "    <tr>\n",
              "      <th>0</th>\n",
              "      <td>11</td>\n",
              "      <td>328</td>\n",
              "      <td>333</td>\n",
              "      <td>348</td>\n",
              "      <td>336.333333</td>\n",
              "      <td>1009</td>\n",
              "    </tr>\n",
              "    <tr>\n",
              "      <th>1</th>\n",
              "      <td>12</td>\n",
              "      <td>336</td>\n",
              "      <td>329</td>\n",
              "      <td>392</td>\n",
              "      <td>352.333333</td>\n",
              "      <td>1057</td>\n",
              "    </tr>\n",
              "    <tr>\n",
              "      <th>2</th>\n",
              "      <td>13</td>\n",
              "      <td>317</td>\n",
              "      <td>365</td>\n",
              "      <td>394</td>\n",
              "      <td>358.666667</td>\n",
              "      <td>1076</td>\n",
              "    </tr>\n",
              "    <tr>\n",
              "      <th>3</th>\n",
              "      <td>14</td>\n",
              "      <td>389</td>\n",
              "      <td>373</td>\n",
              "      <td>312</td>\n",
              "      <td>358.000000</td>\n",
              "      <td>1074</td>\n",
              "    </tr>\n",
              "    <tr>\n",
              "      <th>4</th>\n",
              "      <td>15</td>\n",
              "      <td>325</td>\n",
              "      <td>329</td>\n",
              "      <td>342</td>\n",
              "      <td>332.000000</td>\n",
              "      <td>996</td>\n",
              "    </tr>\n",
              "    <tr>\n",
              "      <th>5</th>\n",
              "      <td>16</td>\n",
              "      <td>311</td>\n",
              "      <td>316</td>\n",
              "      <td>328</td>\n",
              "      <td>318.333333</td>\n",
              "      <td>955</td>\n",
              "    </tr>\n",
              "    <tr>\n",
              "      <th>6</th>\n",
              "      <td>17</td>\n",
              "      <td>349</td>\n",
              "      <td>385</td>\n",
              "      <td>391</td>\n",
              "      <td>375.000000</td>\n",
              "      <td>1125</td>\n",
              "    </tr>\n",
              "    <tr>\n",
              "      <th>7</th>\n",
              "      <td>18</td>\n",
              "      <td>325</td>\n",
              "      <td>377</td>\n",
              "      <td>395</td>\n",
              "      <td>365.666667</td>\n",
              "      <td>1097</td>\n",
              "    </tr>\n",
              "    <tr>\n",
              "      <th>8</th>\n",
              "      <td>19</td>\n",
              "      <td>330</td>\n",
              "      <td>364</td>\n",
              "      <td>395</td>\n",
              "      <td>363.000000</td>\n",
              "      <td>1089</td>\n",
              "    </tr>\n",
              "    <tr>\n",
              "      <th>9</th>\n",
              "      <td>20</td>\n",
              "      <td>353</td>\n",
              "      <td>396</td>\n",
              "      <td>316</td>\n",
              "      <td>355.000000</td>\n",
              "      <td>1065</td>\n",
              "    </tr>\n",
              "  </tbody>\n",
              "</table>\n",
              "</div>"
            ],
            "text/plain": [
              "   사원번호  1월 급여  2월 급여  3월 급여   1분기 급여 평균  1분기 급여 합계\n",
              "0    11    328    333    348  336.333333       1009\n",
              "1    12    336    329    392  352.333333       1057\n",
              "2    13    317    365    394  358.666667       1076\n",
              "3    14    389    373    312  358.000000       1074\n",
              "4    15    325    329    342  332.000000        996\n",
              "5    16    311    316    328  318.333333        955\n",
              "6    17    349    385    391  375.000000       1125\n",
              "7    18    325    377    395  365.666667       1097\n",
              "8    19    330    364    395  363.000000       1089\n",
              "9    20    353    396    316  355.000000       1065"
            ]
          },
          "metadata": {
            "tags": []
          },
          "execution_count": 82
        }
      ]
    },
    {
      "cell_type": "code",
      "metadata": {
        "id": "Wj6Fep50Nmht",
        "outputId": "f09f9f40-acc0-4b0d-e40f-f193df67f15e",
        "colab": {
          "base_uri": "https://localhost:8080/",
          "height": 370
        }
      },
      "source": [
        "df4.set_index('사원번호', inplace=True)\n",
        "df4"
      ],
      "execution_count": 64,
      "outputs": [
        {
          "output_type": "execute_result",
          "data": {
            "text/html": [
              "<div>\n",
              "<style scoped>\n",
              "    .dataframe tbody tr th:only-of-type {\n",
              "        vertical-align: middle;\n",
              "    }\n",
              "\n",
              "    .dataframe tbody tr th {\n",
              "        vertical-align: top;\n",
              "    }\n",
              "\n",
              "    .dataframe thead th {\n",
              "        text-align: right;\n",
              "    }\n",
              "</style>\n",
              "<table border=\"1\" class=\"dataframe\">\n",
              "  <thead>\n",
              "    <tr style=\"text-align: right;\">\n",
              "      <th></th>\n",
              "      <th>1월 급여</th>\n",
              "      <th>2월 급여</th>\n",
              "      <th>3월 급여</th>\n",
              "      <th>1분기 급여 평균</th>\n",
              "      <th>1분기 급여 합계</th>\n",
              "    </tr>\n",
              "    <tr>\n",
              "      <th>사원번호</th>\n",
              "      <th></th>\n",
              "      <th></th>\n",
              "      <th></th>\n",
              "      <th></th>\n",
              "      <th></th>\n",
              "    </tr>\n",
              "  </thead>\n",
              "  <tbody>\n",
              "    <tr>\n",
              "      <th>11</th>\n",
              "      <td>328</td>\n",
              "      <td>333</td>\n",
              "      <td>348</td>\n",
              "      <td>336.333333</td>\n",
              "      <td>1009</td>\n",
              "    </tr>\n",
              "    <tr>\n",
              "      <th>12</th>\n",
              "      <td>336</td>\n",
              "      <td>329</td>\n",
              "      <td>392</td>\n",
              "      <td>352.333333</td>\n",
              "      <td>1057</td>\n",
              "    </tr>\n",
              "    <tr>\n",
              "      <th>13</th>\n",
              "      <td>317</td>\n",
              "      <td>365</td>\n",
              "      <td>394</td>\n",
              "      <td>358.666667</td>\n",
              "      <td>1076</td>\n",
              "    </tr>\n",
              "    <tr>\n",
              "      <th>14</th>\n",
              "      <td>389</td>\n",
              "      <td>373</td>\n",
              "      <td>312</td>\n",
              "      <td>358.000000</td>\n",
              "      <td>1074</td>\n",
              "    </tr>\n",
              "    <tr>\n",
              "      <th>15</th>\n",
              "      <td>325</td>\n",
              "      <td>329</td>\n",
              "      <td>342</td>\n",
              "      <td>332.000000</td>\n",
              "      <td>996</td>\n",
              "    </tr>\n",
              "    <tr>\n",
              "      <th>16</th>\n",
              "      <td>311</td>\n",
              "      <td>316</td>\n",
              "      <td>328</td>\n",
              "      <td>318.333333</td>\n",
              "      <td>955</td>\n",
              "    </tr>\n",
              "    <tr>\n",
              "      <th>17</th>\n",
              "      <td>349</td>\n",
              "      <td>385</td>\n",
              "      <td>391</td>\n",
              "      <td>375.000000</td>\n",
              "      <td>1125</td>\n",
              "    </tr>\n",
              "    <tr>\n",
              "      <th>18</th>\n",
              "      <td>325</td>\n",
              "      <td>377</td>\n",
              "      <td>395</td>\n",
              "      <td>365.666667</td>\n",
              "      <td>1097</td>\n",
              "    </tr>\n",
              "    <tr>\n",
              "      <th>19</th>\n",
              "      <td>330</td>\n",
              "      <td>364</td>\n",
              "      <td>395</td>\n",
              "      <td>363.000000</td>\n",
              "      <td>1089</td>\n",
              "    </tr>\n",
              "    <tr>\n",
              "      <th>20</th>\n",
              "      <td>353</td>\n",
              "      <td>396</td>\n",
              "      <td>316</td>\n",
              "      <td>355.000000</td>\n",
              "      <td>1065</td>\n",
              "    </tr>\n",
              "  </tbody>\n",
              "</table>\n",
              "</div>"
            ],
            "text/plain": [
              "      1월 급여  2월 급여  3월 급여   1분기 급여 평균  1분기 급여 합계\n",
              "사원번호                                            \n",
              "11      328    333    348  336.333333       1009\n",
              "12      336    329    392  352.333333       1057\n",
              "13      317    365    394  358.666667       1076\n",
              "14      389    373    312  358.000000       1074\n",
              "15      325    329    342  332.000000        996\n",
              "16      311    316    328  318.333333        955\n",
              "17      349    385    391  375.000000       1125\n",
              "18      325    377    395  365.666667       1097\n",
              "19      330    364    395  363.000000       1089\n",
              "20      353    396    316  355.000000       1065"
            ]
          },
          "metadata": {
            "tags": []
          },
          "execution_count": 64
        }
      ]
    },
    {
      "cell_type": "code",
      "metadata": {
        "id": "zKUAdVpcNmhv"
      },
      "source": [
        "df4.to_csv('급여정보2.csv',encoding='cp949')"
      ],
      "execution_count": 84,
      "outputs": []
    },
    {
      "cell_type": "markdown",
      "metadata": {
        "id": "h0wm6vkbNmhx"
      },
      "source": [
        "## 데이터 병합\n",
        "\n",
        "### 1. merge\n",
        "- 두개의 데이터를 특정 컬럼 기준으로 합친다.\n",
        "- DB에서 join 기능과 매우 유사\n",
        "\n",
        "### 2. concat\n",
        "- 한 데이터 뒤에 다른 데이터를 붙여버린다."
      ]
    },
    {
      "cell_type": "code",
      "metadata": {
        "id": "46nxcA0bNmhx",
        "outputId": "b4a311d2-301e-4c6a-9ef9-37da0da1cb47",
        "colab": {
          "base_uri": "https://localhost:8080/",
          "height": 194
        }
      },
      "source": [
        "df1 = DataFrame({\n",
        "    'ID':np.arange(101,106),\n",
        "    '이름':['둘리','도우너','또치',\n",
        "          '길동','희동']\n",
        "})\n",
        "df1"
      ],
      "execution_count": 66,
      "outputs": [
        {
          "output_type": "execute_result",
          "data": {
            "text/html": [
              "<div>\n",
              "<style scoped>\n",
              "    .dataframe tbody tr th:only-of-type {\n",
              "        vertical-align: middle;\n",
              "    }\n",
              "\n",
              "    .dataframe tbody tr th {\n",
              "        vertical-align: top;\n",
              "    }\n",
              "\n",
              "    .dataframe thead th {\n",
              "        text-align: right;\n",
              "    }\n",
              "</style>\n",
              "<table border=\"1\" class=\"dataframe\">\n",
              "  <thead>\n",
              "    <tr style=\"text-align: right;\">\n",
              "      <th></th>\n",
              "      <th>ID</th>\n",
              "      <th>이름</th>\n",
              "    </tr>\n",
              "  </thead>\n",
              "  <tbody>\n",
              "    <tr>\n",
              "      <th>0</th>\n",
              "      <td>101</td>\n",
              "      <td>둘리</td>\n",
              "    </tr>\n",
              "    <tr>\n",
              "      <th>1</th>\n",
              "      <td>102</td>\n",
              "      <td>도우너</td>\n",
              "    </tr>\n",
              "    <tr>\n",
              "      <th>2</th>\n",
              "      <td>103</td>\n",
              "      <td>또치</td>\n",
              "    </tr>\n",
              "    <tr>\n",
              "      <th>3</th>\n",
              "      <td>104</td>\n",
              "      <td>길동</td>\n",
              "    </tr>\n",
              "    <tr>\n",
              "      <th>4</th>\n",
              "      <td>105</td>\n",
              "      <td>희동</td>\n",
              "    </tr>\n",
              "  </tbody>\n",
              "</table>\n",
              "</div>"
            ],
            "text/plain": [
              "    ID   이름\n",
              "0  101   둘리\n",
              "1  102  도우너\n",
              "2  103   또치\n",
              "3  104   길동\n",
              "4  105   희동"
            ]
          },
          "metadata": {
            "tags": []
          },
          "execution_count": 66
        }
      ]
    },
    {
      "cell_type": "code",
      "metadata": {
        "id": "Y5pPxFaSNmhy",
        "outputId": "3109f677-09ea-4e6f-e1e1-e9df7c42e474",
        "colab": {
          "base_uri": "https://localhost:8080/",
          "height": 135
        }
      },
      "source": [
        "df2 = DataFrame({\n",
        "    '아이디':[101,105,104],\n",
        "    '예금':[1000,2000,1500]\n",
        "})\n",
        "df2"
      ],
      "execution_count": 67,
      "outputs": [
        {
          "output_type": "execute_result",
          "data": {
            "text/html": [
              "<div>\n",
              "<style scoped>\n",
              "    .dataframe tbody tr th:only-of-type {\n",
              "        vertical-align: middle;\n",
              "    }\n",
              "\n",
              "    .dataframe tbody tr th {\n",
              "        vertical-align: top;\n",
              "    }\n",
              "\n",
              "    .dataframe thead th {\n",
              "        text-align: right;\n",
              "    }\n",
              "</style>\n",
              "<table border=\"1\" class=\"dataframe\">\n",
              "  <thead>\n",
              "    <tr style=\"text-align: right;\">\n",
              "      <th></th>\n",
              "      <th>아이디</th>\n",
              "      <th>예금</th>\n",
              "    </tr>\n",
              "  </thead>\n",
              "  <tbody>\n",
              "    <tr>\n",
              "      <th>0</th>\n",
              "      <td>101</td>\n",
              "      <td>1000</td>\n",
              "    </tr>\n",
              "    <tr>\n",
              "      <th>1</th>\n",
              "      <td>105</td>\n",
              "      <td>2000</td>\n",
              "    </tr>\n",
              "    <tr>\n",
              "      <th>2</th>\n",
              "      <td>104</td>\n",
              "      <td>1500</td>\n",
              "    </tr>\n",
              "  </tbody>\n",
              "</table>\n",
              "</div>"
            ],
            "text/plain": [
              "   아이디    예금\n",
              "0  101  1000\n",
              "1  105  2000\n",
              "2  104  1500"
            ]
          },
          "metadata": {
            "tags": []
          },
          "execution_count": 67
        }
      ]
    },
    {
      "cell_type": "code",
      "metadata": {
        "id": "9pGyk5RtNmh0",
        "outputId": "816bea18-a36c-45b0-8afb-f6bd8bc64d17",
        "colab": {
          "base_uri": "https://localhost:8080/",
          "height": 194
        }
      },
      "source": [
        "df_merge = pd.merge(df1,df2, left_on='ID',\n",
        "         right_on='아이디',\n",
        "        how='outer')\n",
        "df_merge"
      ],
      "execution_count": 68,
      "outputs": [
        {
          "output_type": "execute_result",
          "data": {
            "text/html": [
              "<div>\n",
              "<style scoped>\n",
              "    .dataframe tbody tr th:only-of-type {\n",
              "        vertical-align: middle;\n",
              "    }\n",
              "\n",
              "    .dataframe tbody tr th {\n",
              "        vertical-align: top;\n",
              "    }\n",
              "\n",
              "    .dataframe thead th {\n",
              "        text-align: right;\n",
              "    }\n",
              "</style>\n",
              "<table border=\"1\" class=\"dataframe\">\n",
              "  <thead>\n",
              "    <tr style=\"text-align: right;\">\n",
              "      <th></th>\n",
              "      <th>ID</th>\n",
              "      <th>이름</th>\n",
              "      <th>아이디</th>\n",
              "      <th>예금</th>\n",
              "    </tr>\n",
              "  </thead>\n",
              "  <tbody>\n",
              "    <tr>\n",
              "      <th>0</th>\n",
              "      <td>101</td>\n",
              "      <td>둘리</td>\n",
              "      <td>101.0</td>\n",
              "      <td>1000.0</td>\n",
              "    </tr>\n",
              "    <tr>\n",
              "      <th>1</th>\n",
              "      <td>102</td>\n",
              "      <td>도우너</td>\n",
              "      <td>NaN</td>\n",
              "      <td>NaN</td>\n",
              "    </tr>\n",
              "    <tr>\n",
              "      <th>2</th>\n",
              "      <td>103</td>\n",
              "      <td>또치</td>\n",
              "      <td>NaN</td>\n",
              "      <td>NaN</td>\n",
              "    </tr>\n",
              "    <tr>\n",
              "      <th>3</th>\n",
              "      <td>104</td>\n",
              "      <td>길동</td>\n",
              "      <td>104.0</td>\n",
              "      <td>1500.0</td>\n",
              "    </tr>\n",
              "    <tr>\n",
              "      <th>4</th>\n",
              "      <td>105</td>\n",
              "      <td>희동</td>\n",
              "      <td>105.0</td>\n",
              "      <td>2000.0</td>\n",
              "    </tr>\n",
              "  </tbody>\n",
              "</table>\n",
              "</div>"
            ],
            "text/plain": [
              "    ID   이름    아이디      예금\n",
              "0  101   둘리  101.0  1000.0\n",
              "1  102  도우너    NaN     NaN\n",
              "2  103   또치    NaN     NaN\n",
              "3  104   길동  104.0  1500.0\n",
              "4  105   희동  105.0  2000.0"
            ]
          },
          "metadata": {
            "tags": []
          },
          "execution_count": 68
        }
      ]
    },
    {
      "cell_type": "code",
      "metadata": {
        "id": "ul6d1LpyNmh3",
        "outputId": "bcdbc4d2-eb35-4ef4-f09b-61ea3884f681",
        "colab": {
          "base_uri": "https://localhost:8080/",
          "height": 194
        }
      },
      "source": [
        "df_merge.drop('아이디', axis=1, inplace=True)\n",
        "df_merge"
      ],
      "execution_count": 69,
      "outputs": [
        {
          "output_type": "execute_result",
          "data": {
            "text/html": [
              "<div>\n",
              "<style scoped>\n",
              "    .dataframe tbody tr th:only-of-type {\n",
              "        vertical-align: middle;\n",
              "    }\n",
              "\n",
              "    .dataframe tbody tr th {\n",
              "        vertical-align: top;\n",
              "    }\n",
              "\n",
              "    .dataframe thead th {\n",
              "        text-align: right;\n",
              "    }\n",
              "</style>\n",
              "<table border=\"1\" class=\"dataframe\">\n",
              "  <thead>\n",
              "    <tr style=\"text-align: right;\">\n",
              "      <th></th>\n",
              "      <th>ID</th>\n",
              "      <th>이름</th>\n",
              "      <th>예금</th>\n",
              "    </tr>\n",
              "  </thead>\n",
              "  <tbody>\n",
              "    <tr>\n",
              "      <th>0</th>\n",
              "      <td>101</td>\n",
              "      <td>둘리</td>\n",
              "      <td>1000.0</td>\n",
              "    </tr>\n",
              "    <tr>\n",
              "      <th>1</th>\n",
              "      <td>102</td>\n",
              "      <td>도우너</td>\n",
              "      <td>NaN</td>\n",
              "    </tr>\n",
              "    <tr>\n",
              "      <th>2</th>\n",
              "      <td>103</td>\n",
              "      <td>또치</td>\n",
              "      <td>NaN</td>\n",
              "    </tr>\n",
              "    <tr>\n",
              "      <th>3</th>\n",
              "      <td>104</td>\n",
              "      <td>길동</td>\n",
              "      <td>1500.0</td>\n",
              "    </tr>\n",
              "    <tr>\n",
              "      <th>4</th>\n",
              "      <td>105</td>\n",
              "      <td>희동</td>\n",
              "      <td>2000.0</td>\n",
              "    </tr>\n",
              "  </tbody>\n",
              "</table>\n",
              "</div>"
            ],
            "text/plain": [
              "    ID   이름      예금\n",
              "0  101   둘리  1000.0\n",
              "1  102  도우너     NaN\n",
              "2  103   또치     NaN\n",
              "3  104   길동  1500.0\n",
              "4  105   희동  2000.0"
            ]
          },
          "metadata": {
            "tags": []
          },
          "execution_count": 69
        }
      ]
    },
    {
      "cell_type": "code",
      "metadata": {
        "id": "or4AaApUNmh5",
        "outputId": "733f0a21-6c50-44b2-a915-c50756e22694",
        "colab": {
          "base_uri": "https://localhost:8080/",
          "height": 135
        }
      },
      "source": [
        "df2.rename(columns={\n",
        "    '아이디':'ID'\n",
        "}, inplace=True)\n",
        "df2"
      ],
      "execution_count": 70,
      "outputs": [
        {
          "output_type": "execute_result",
          "data": {
            "text/html": [
              "<div>\n",
              "<style scoped>\n",
              "    .dataframe tbody tr th:only-of-type {\n",
              "        vertical-align: middle;\n",
              "    }\n",
              "\n",
              "    .dataframe tbody tr th {\n",
              "        vertical-align: top;\n",
              "    }\n",
              "\n",
              "    .dataframe thead th {\n",
              "        text-align: right;\n",
              "    }\n",
              "</style>\n",
              "<table border=\"1\" class=\"dataframe\">\n",
              "  <thead>\n",
              "    <tr style=\"text-align: right;\">\n",
              "      <th></th>\n",
              "      <th>ID</th>\n",
              "      <th>예금</th>\n",
              "    </tr>\n",
              "  </thead>\n",
              "  <tbody>\n",
              "    <tr>\n",
              "      <th>0</th>\n",
              "      <td>101</td>\n",
              "      <td>1000</td>\n",
              "    </tr>\n",
              "    <tr>\n",
              "      <th>1</th>\n",
              "      <td>105</td>\n",
              "      <td>2000</td>\n",
              "    </tr>\n",
              "    <tr>\n",
              "      <th>2</th>\n",
              "      <td>104</td>\n",
              "      <td>1500</td>\n",
              "    </tr>\n",
              "  </tbody>\n",
              "</table>\n",
              "</div>"
            ],
            "text/plain": [
              "    ID    예금\n",
              "0  101  1000\n",
              "1  105  2000\n",
              "2  104  1500"
            ]
          },
          "metadata": {
            "tags": []
          },
          "execution_count": 70
        }
      ]
    },
    {
      "cell_type": "code",
      "metadata": {
        "id": "P37IghPxNmh6",
        "outputId": "3b54ff5d-9695-48a1-ac96-cef56fdf454f",
        "colab": {
          "base_uri": "https://localhost:8080/",
          "height": 135
        }
      },
      "source": [
        "pd.merge(df1,df2,on='ID')"
      ],
      "execution_count": 71,
      "outputs": [
        {
          "output_type": "execute_result",
          "data": {
            "text/html": [
              "<div>\n",
              "<style scoped>\n",
              "    .dataframe tbody tr th:only-of-type {\n",
              "        vertical-align: middle;\n",
              "    }\n",
              "\n",
              "    .dataframe tbody tr th {\n",
              "        vertical-align: top;\n",
              "    }\n",
              "\n",
              "    .dataframe thead th {\n",
              "        text-align: right;\n",
              "    }\n",
              "</style>\n",
              "<table border=\"1\" class=\"dataframe\">\n",
              "  <thead>\n",
              "    <tr style=\"text-align: right;\">\n",
              "      <th></th>\n",
              "      <th>ID</th>\n",
              "      <th>이름</th>\n",
              "      <th>예금</th>\n",
              "    </tr>\n",
              "  </thead>\n",
              "  <tbody>\n",
              "    <tr>\n",
              "      <th>0</th>\n",
              "      <td>101</td>\n",
              "      <td>둘리</td>\n",
              "      <td>1000</td>\n",
              "    </tr>\n",
              "    <tr>\n",
              "      <th>1</th>\n",
              "      <td>104</td>\n",
              "      <td>길동</td>\n",
              "      <td>1500</td>\n",
              "    </tr>\n",
              "    <tr>\n",
              "      <th>2</th>\n",
              "      <td>105</td>\n",
              "      <td>희동</td>\n",
              "      <td>2000</td>\n",
              "    </tr>\n",
              "  </tbody>\n",
              "</table>\n",
              "</div>"
            ],
            "text/plain": [
              "    ID  이름    예금\n",
              "0  101  둘리  1000\n",
              "1  104  길동  1500\n",
              "2  105  희동  2000"
            ]
          },
          "metadata": {
            "tags": []
          },
          "execution_count": 71
        }
      ]
    },
    {
      "cell_type": "code",
      "metadata": {
        "id": "1K0PdjU6Nmh9",
        "outputId": "7fa0855b-33b8-449f-c36a-bceadf2b40c6",
        "colab": {
          "base_uri": "https://localhost:8080/",
          "height": 194
        }
      },
      "source": [
        "pd.concat([df1,df2], axis=1)"
      ],
      "execution_count": 72,
      "outputs": [
        {
          "output_type": "execute_result",
          "data": {
            "text/html": [
              "<div>\n",
              "<style scoped>\n",
              "    .dataframe tbody tr th:only-of-type {\n",
              "        vertical-align: middle;\n",
              "    }\n",
              "\n",
              "    .dataframe tbody tr th {\n",
              "        vertical-align: top;\n",
              "    }\n",
              "\n",
              "    .dataframe thead th {\n",
              "        text-align: right;\n",
              "    }\n",
              "</style>\n",
              "<table border=\"1\" class=\"dataframe\">\n",
              "  <thead>\n",
              "    <tr style=\"text-align: right;\">\n",
              "      <th></th>\n",
              "      <th>ID</th>\n",
              "      <th>이름</th>\n",
              "      <th>ID</th>\n",
              "      <th>예금</th>\n",
              "    </tr>\n",
              "  </thead>\n",
              "  <tbody>\n",
              "    <tr>\n",
              "      <th>0</th>\n",
              "      <td>101</td>\n",
              "      <td>둘리</td>\n",
              "      <td>101.0</td>\n",
              "      <td>1000.0</td>\n",
              "    </tr>\n",
              "    <tr>\n",
              "      <th>1</th>\n",
              "      <td>102</td>\n",
              "      <td>도우너</td>\n",
              "      <td>105.0</td>\n",
              "      <td>2000.0</td>\n",
              "    </tr>\n",
              "    <tr>\n",
              "      <th>2</th>\n",
              "      <td>103</td>\n",
              "      <td>또치</td>\n",
              "      <td>104.0</td>\n",
              "      <td>1500.0</td>\n",
              "    </tr>\n",
              "    <tr>\n",
              "      <th>3</th>\n",
              "      <td>104</td>\n",
              "      <td>길동</td>\n",
              "      <td>NaN</td>\n",
              "      <td>NaN</td>\n",
              "    </tr>\n",
              "    <tr>\n",
              "      <th>4</th>\n",
              "      <td>105</td>\n",
              "      <td>희동</td>\n",
              "      <td>NaN</td>\n",
              "      <td>NaN</td>\n",
              "    </tr>\n",
              "  </tbody>\n",
              "</table>\n",
              "</div>"
            ],
            "text/plain": [
              "    ID   이름     ID      예금\n",
              "0  101   둘리  101.0  1000.0\n",
              "1  102  도우너  105.0  2000.0\n",
              "2  103   또치  104.0  1500.0\n",
              "3  104   길동    NaN     NaN\n",
              "4  105   희동    NaN     NaN"
            ]
          },
          "metadata": {
            "tags": []
          },
          "execution_count": 72
        }
      ]
    },
    {
      "cell_type": "markdown",
      "metadata": {
        "id": "qaYJZEY5Nmh_"
      },
      "source": [
        "## 그룹핑, 그룹연산\n",
        "\n",
        "### 1. groupby\n",
        "\n",
        "### 2. pivot_table"
      ]
    },
    {
      "cell_type": "code",
      "metadata": {
        "id": "3rIsIe2zNmiA",
        "outputId": "1efb1e59-e907-4e97-a3e9-e5d7bf2e6e28",
        "colab": {
          "base_uri": "https://localhost:8080/",
          "height": 0
        }
      },
      "source": [
        "# df3.sort_index(inplace=True)\n",
        "df3.groupby('성별').sum()"
      ],
      "execution_count": 73,
      "outputs": [
        {
          "output_type": "execute_result",
          "data": {
            "text/html": [
              "<div>\n",
              "<style scoped>\n",
              "    .dataframe tbody tr th:only-of-type {\n",
              "        vertical-align: middle;\n",
              "    }\n",
              "\n",
              "    .dataframe tbody tr th {\n",
              "        vertical-align: top;\n",
              "    }\n",
              "\n",
              "    .dataframe thead th {\n",
              "        text-align: right;\n",
              "    }\n",
              "</style>\n",
              "<table border=\"1\" class=\"dataframe\">\n",
              "  <thead>\n",
              "    <tr style=\"text-align: right;\">\n",
              "      <th></th>\n",
              "      <th>키</th>\n",
              "      <th>자산</th>\n",
              "    </tr>\n",
              "    <tr>\n",
              "      <th>성별</th>\n",
              "      <th></th>\n",
              "      <th></th>\n",
              "    </tr>\n",
              "  </thead>\n",
              "  <tbody>\n",
              "    <tr>\n",
              "      <th>남</th>\n",
              "      <td>871</td>\n",
              "      <td>12700</td>\n",
              "    </tr>\n",
              "    <tr>\n",
              "      <th>여</th>\n",
              "      <td>664</td>\n",
              "      <td>11500</td>\n",
              "    </tr>\n",
              "  </tbody>\n",
              "</table>\n",
              "</div>"
            ],
            "text/plain": [
              "      키     자산\n",
              "성별            \n",
              "남   871  12700\n",
              "여   664  11500"
            ]
          },
          "metadata": {
            "tags": []
          },
          "execution_count": 73
        }
      ]
    },
    {
      "cell_type": "code",
      "metadata": {
        "id": "gC68L1mzNmiC",
        "outputId": "95c4058a-bbbe-4f71-9ffc-ff173b31deec",
        "colab": {
          "base_uri": "https://localhost:8080/",
          "height": 0
        }
      },
      "source": [
        "df3.groupby(['성별','출생지']).agg('sum')"
      ],
      "execution_count": 74,
      "outputs": [
        {
          "output_type": "execute_result",
          "data": {
            "text/html": [
              "<div>\n",
              "<style scoped>\n",
              "    .dataframe tbody tr th:only-of-type {\n",
              "        vertical-align: middle;\n",
              "    }\n",
              "\n",
              "    .dataframe tbody tr th {\n",
              "        vertical-align: top;\n",
              "    }\n",
              "\n",
              "    .dataframe thead th {\n",
              "        text-align: right;\n",
              "    }\n",
              "</style>\n",
              "<table border=\"1\" class=\"dataframe\">\n",
              "  <thead>\n",
              "    <tr style=\"text-align: right;\">\n",
              "      <th></th>\n",
              "      <th></th>\n",
              "      <th>키</th>\n",
              "      <th>자산</th>\n",
              "    </tr>\n",
              "    <tr>\n",
              "      <th>성별</th>\n",
              "      <th>출생지</th>\n",
              "      <th></th>\n",
              "      <th></th>\n",
              "    </tr>\n",
              "  </thead>\n",
              "  <tbody>\n",
              "    <tr>\n",
              "      <th rowspan=\"3\" valign=\"top\">남</th>\n",
              "      <th>대구</th>\n",
              "      <td>173</td>\n",
              "      <td>3200</td>\n",
              "    </tr>\n",
              "    <tr>\n",
              "      <th>부산</th>\n",
              "      <td>165</td>\n",
              "      <td>3000</td>\n",
              "    </tr>\n",
              "    <tr>\n",
              "      <th>서울</th>\n",
              "      <td>533</td>\n",
              "      <td>6500</td>\n",
              "    </tr>\n",
              "    <tr>\n",
              "      <th rowspan=\"3\" valign=\"top\">여</th>\n",
              "      <th>부산</th>\n",
              "      <td>170</td>\n",
              "      <td>4000</td>\n",
              "    </tr>\n",
              "    <tr>\n",
              "      <th>서울</th>\n",
              "      <td>164</td>\n",
              "      <td>3000</td>\n",
              "    </tr>\n",
              "    <tr>\n",
              "      <th>인천</th>\n",
              "      <td>330</td>\n",
              "      <td>4500</td>\n",
              "    </tr>\n",
              "  </tbody>\n",
              "</table>\n",
              "</div>"
            ],
            "text/plain": [
              "          키    자산\n",
              "성별 출생지           \n",
              "남  대구   173  3200\n",
              "   부산   165  3000\n",
              "   서울   533  6500\n",
              "여  부산   170  4000\n",
              "   서울   164  3000\n",
              "   인천   330  4500"
            ]
          },
          "metadata": {
            "tags": []
          },
          "execution_count": 74
        }
      ]
    },
    {
      "cell_type": "code",
      "metadata": {
        "id": "bdRX08ZdNmiE",
        "outputId": "b435c4ea-bbc1-4b17-a7c5-1f7a149797c9",
        "colab": {
          "base_uri": "https://localhost:8080/",
          "height": 0
        }
      },
      "source": [
        "df3.groupby(['성별','출생지']).agg(['sum','mean'])"
      ],
      "execution_count": 75,
      "outputs": [
        {
          "output_type": "execute_result",
          "data": {
            "text/html": [
              "<div>\n",
              "<style scoped>\n",
              "    .dataframe tbody tr th:only-of-type {\n",
              "        vertical-align: middle;\n",
              "    }\n",
              "\n",
              "    .dataframe tbody tr th {\n",
              "        vertical-align: top;\n",
              "    }\n",
              "\n",
              "    .dataframe thead tr th {\n",
              "        text-align: left;\n",
              "    }\n",
              "\n",
              "    .dataframe thead tr:last-of-type th {\n",
              "        text-align: right;\n",
              "    }\n",
              "</style>\n",
              "<table border=\"1\" class=\"dataframe\">\n",
              "  <thead>\n",
              "    <tr>\n",
              "      <th></th>\n",
              "      <th></th>\n",
              "      <th colspan=\"2\" halign=\"left\">키</th>\n",
              "      <th colspan=\"2\" halign=\"left\">자산</th>\n",
              "    </tr>\n",
              "    <tr>\n",
              "      <th></th>\n",
              "      <th></th>\n",
              "      <th>sum</th>\n",
              "      <th>mean</th>\n",
              "      <th>sum</th>\n",
              "      <th>mean</th>\n",
              "    </tr>\n",
              "    <tr>\n",
              "      <th>성별</th>\n",
              "      <th>출생지</th>\n",
              "      <th></th>\n",
              "      <th></th>\n",
              "      <th></th>\n",
              "      <th></th>\n",
              "    </tr>\n",
              "  </thead>\n",
              "  <tbody>\n",
              "    <tr>\n",
              "      <th rowspan=\"3\" valign=\"top\">남</th>\n",
              "      <th>대구</th>\n",
              "      <td>173</td>\n",
              "      <td>173.000000</td>\n",
              "      <td>3200</td>\n",
              "      <td>3200.000000</td>\n",
              "    </tr>\n",
              "    <tr>\n",
              "      <th>부산</th>\n",
              "      <td>165</td>\n",
              "      <td>165.000000</td>\n",
              "      <td>3000</td>\n",
              "      <td>3000.000000</td>\n",
              "    </tr>\n",
              "    <tr>\n",
              "      <th>서울</th>\n",
              "      <td>533</td>\n",
              "      <td>177.666667</td>\n",
              "      <td>6500</td>\n",
              "      <td>2166.666667</td>\n",
              "    </tr>\n",
              "    <tr>\n",
              "      <th rowspan=\"3\" valign=\"top\">여</th>\n",
              "      <th>부산</th>\n",
              "      <td>170</td>\n",
              "      <td>170.000000</td>\n",
              "      <td>4000</td>\n",
              "      <td>4000.000000</td>\n",
              "    </tr>\n",
              "    <tr>\n",
              "      <th>서울</th>\n",
              "      <td>164</td>\n",
              "      <td>164.000000</td>\n",
              "      <td>3000</td>\n",
              "      <td>3000.000000</td>\n",
              "    </tr>\n",
              "    <tr>\n",
              "      <th>인천</th>\n",
              "      <td>330</td>\n",
              "      <td>165.000000</td>\n",
              "      <td>4500</td>\n",
              "      <td>2250.000000</td>\n",
              "    </tr>\n",
              "  </tbody>\n",
              "</table>\n",
              "</div>"
            ],
            "text/plain": [
              "          키                자산             \n",
              "        sum        mean   sum         mean\n",
              "성별 출생지                                    \n",
              "남  대구   173  173.000000  3200  3200.000000\n",
              "   부산   165  165.000000  3000  3000.000000\n",
              "   서울   533  177.666667  6500  2166.666667\n",
              "여  부산   170  170.000000  4000  4000.000000\n",
              "   서울   164  164.000000  3000  3000.000000\n",
              "   인천   330  165.000000  4500  2250.000000"
            ]
          },
          "metadata": {
            "tags": []
          },
          "execution_count": 75
        }
      ]
    },
    {
      "cell_type": "code",
      "metadata": {
        "id": "Kyo5lGBHNmiF",
        "outputId": "2fe684d7-151f-403e-d757-440640574d87",
        "colab": {
          "base_uri": "https://localhost:8080/",
          "height": 0
        }
      },
      "source": [
        "df3.pivot_table(values='자산',\n",
        "                index='성별',\n",
        "                aggfunc='mean'\n",
        "               )"
      ],
      "execution_count": 76,
      "outputs": [
        {
          "output_type": "execute_result",
          "data": {
            "text/html": [
              "<div>\n",
              "<style scoped>\n",
              "    .dataframe tbody tr th:only-of-type {\n",
              "        vertical-align: middle;\n",
              "    }\n",
              "\n",
              "    .dataframe tbody tr th {\n",
              "        vertical-align: top;\n",
              "    }\n",
              "\n",
              "    .dataframe thead th {\n",
              "        text-align: right;\n",
              "    }\n",
              "</style>\n",
              "<table border=\"1\" class=\"dataframe\">\n",
              "  <thead>\n",
              "    <tr style=\"text-align: right;\">\n",
              "      <th></th>\n",
              "      <th>자산</th>\n",
              "    </tr>\n",
              "    <tr>\n",
              "      <th>성별</th>\n",
              "      <th></th>\n",
              "    </tr>\n",
              "  </thead>\n",
              "  <tbody>\n",
              "    <tr>\n",
              "      <th>남</th>\n",
              "      <td>2540</td>\n",
              "    </tr>\n",
              "    <tr>\n",
              "      <th>여</th>\n",
              "      <td>2875</td>\n",
              "    </tr>\n",
              "  </tbody>\n",
              "</table>\n",
              "</div>"
            ],
            "text/plain": [
              "      자산\n",
              "성별      \n",
              "남   2540\n",
              "여   2875"
            ]
          },
          "metadata": {
            "tags": []
          },
          "execution_count": 76
        }
      ]
    },
    {
      "cell_type": "code",
      "metadata": {
        "id": "Kyr3jXBUNmiH",
        "outputId": "203990cb-e443-4865-a66b-30b15e5e90e5",
        "colab": {
          "base_uri": "https://localhost:8080/",
          "height": 0
        }
      },
      "source": [
        "df3.pivot_table(values=['키','자산'],\n",
        "                index='성별',\n",
        "                aggfunc='mean'\n",
        "               )"
      ],
      "execution_count": 77,
      "outputs": [
        {
          "output_type": "execute_result",
          "data": {
            "text/html": [
              "<div>\n",
              "<style scoped>\n",
              "    .dataframe tbody tr th:only-of-type {\n",
              "        vertical-align: middle;\n",
              "    }\n",
              "\n",
              "    .dataframe tbody tr th {\n",
              "        vertical-align: top;\n",
              "    }\n",
              "\n",
              "    .dataframe thead th {\n",
              "        text-align: right;\n",
              "    }\n",
              "</style>\n",
              "<table border=\"1\" class=\"dataframe\">\n",
              "  <thead>\n",
              "    <tr style=\"text-align: right;\">\n",
              "      <th></th>\n",
              "      <th>자산</th>\n",
              "      <th>키</th>\n",
              "    </tr>\n",
              "    <tr>\n",
              "      <th>성별</th>\n",
              "      <th></th>\n",
              "      <th></th>\n",
              "    </tr>\n",
              "  </thead>\n",
              "  <tbody>\n",
              "    <tr>\n",
              "      <th>남</th>\n",
              "      <td>2540</td>\n",
              "      <td>174.2</td>\n",
              "    </tr>\n",
              "    <tr>\n",
              "      <th>여</th>\n",
              "      <td>2875</td>\n",
              "      <td>166.0</td>\n",
              "    </tr>\n",
              "  </tbody>\n",
              "</table>\n",
              "</div>"
            ],
            "text/plain": [
              "      자산      키\n",
              "성별             \n",
              "남   2540  174.2\n",
              "여   2875  166.0"
            ]
          },
          "metadata": {
            "tags": []
          },
          "execution_count": 77
        }
      ]
    },
    {
      "cell_type": "code",
      "metadata": {
        "id": "TnaDHRhkNmiK",
        "outputId": "9df8a3a2-fa87-4793-a324-2c9277ff9900",
        "colab": {
          "base_uri": "https://localhost:8080/",
          "height": 0
        }
      },
      "source": [
        "df3.pivot_table(values=['키','자산'],\n",
        "                index='성별',\n",
        "                aggfunc=['sum','mean']\n",
        "               )"
      ],
      "execution_count": 78,
      "outputs": [
        {
          "output_type": "execute_result",
          "data": {
            "text/html": [
              "<div>\n",
              "<style scoped>\n",
              "    .dataframe tbody tr th:only-of-type {\n",
              "        vertical-align: middle;\n",
              "    }\n",
              "\n",
              "    .dataframe tbody tr th {\n",
              "        vertical-align: top;\n",
              "    }\n",
              "\n",
              "    .dataframe thead tr th {\n",
              "        text-align: left;\n",
              "    }\n",
              "\n",
              "    .dataframe thead tr:last-of-type th {\n",
              "        text-align: right;\n",
              "    }\n",
              "</style>\n",
              "<table border=\"1\" class=\"dataframe\">\n",
              "  <thead>\n",
              "    <tr>\n",
              "      <th></th>\n",
              "      <th colspan=\"2\" halign=\"left\">sum</th>\n",
              "      <th colspan=\"2\" halign=\"left\">mean</th>\n",
              "    </tr>\n",
              "    <tr>\n",
              "      <th></th>\n",
              "      <th>자산</th>\n",
              "      <th>키</th>\n",
              "      <th>자산</th>\n",
              "      <th>키</th>\n",
              "    </tr>\n",
              "    <tr>\n",
              "      <th>성별</th>\n",
              "      <th></th>\n",
              "      <th></th>\n",
              "      <th></th>\n",
              "      <th></th>\n",
              "    </tr>\n",
              "  </thead>\n",
              "  <tbody>\n",
              "    <tr>\n",
              "      <th>남</th>\n",
              "      <td>12700</td>\n",
              "      <td>871</td>\n",
              "      <td>2540</td>\n",
              "      <td>174.2</td>\n",
              "    </tr>\n",
              "    <tr>\n",
              "      <th>여</th>\n",
              "      <td>11500</td>\n",
              "      <td>664</td>\n",
              "      <td>2875</td>\n",
              "      <td>166.0</td>\n",
              "    </tr>\n",
              "  </tbody>\n",
              "</table>\n",
              "</div>"
            ],
            "text/plain": [
              "      sum       mean       \n",
              "       자산    키    자산      키\n",
              "성별                         \n",
              "남   12700  871  2540  174.2\n",
              "여   11500  664  2875  166.0"
            ]
          },
          "metadata": {
            "tags": []
          },
          "execution_count": 78
        }
      ]
    },
    {
      "cell_type": "code",
      "metadata": {
        "id": "AG0osf5fNmiM",
        "outputId": "228a3d4a-67ab-4a69-e92d-b7b3584196a3",
        "colab": {
          "base_uri": "https://localhost:8080/",
          "height": 0
        }
      },
      "source": [
        "df3.pivot_table(values=['키','자산'],\n",
        "                index=['성별','출생지'],\n",
        "                aggfunc=['sum','mean']\n",
        "               )"
      ],
      "execution_count": 79,
      "outputs": [
        {
          "output_type": "execute_result",
          "data": {
            "text/html": [
              "<div>\n",
              "<style scoped>\n",
              "    .dataframe tbody tr th:only-of-type {\n",
              "        vertical-align: middle;\n",
              "    }\n",
              "\n",
              "    .dataframe tbody tr th {\n",
              "        vertical-align: top;\n",
              "    }\n",
              "\n",
              "    .dataframe thead tr th {\n",
              "        text-align: left;\n",
              "    }\n",
              "\n",
              "    .dataframe thead tr:last-of-type th {\n",
              "        text-align: right;\n",
              "    }\n",
              "</style>\n",
              "<table border=\"1\" class=\"dataframe\">\n",
              "  <thead>\n",
              "    <tr>\n",
              "      <th></th>\n",
              "      <th></th>\n",
              "      <th colspan=\"2\" halign=\"left\">sum</th>\n",
              "      <th colspan=\"2\" halign=\"left\">mean</th>\n",
              "    </tr>\n",
              "    <tr>\n",
              "      <th></th>\n",
              "      <th></th>\n",
              "      <th>자산</th>\n",
              "      <th>키</th>\n",
              "      <th>자산</th>\n",
              "      <th>키</th>\n",
              "    </tr>\n",
              "    <tr>\n",
              "      <th>성별</th>\n",
              "      <th>출생지</th>\n",
              "      <th></th>\n",
              "      <th></th>\n",
              "      <th></th>\n",
              "      <th></th>\n",
              "    </tr>\n",
              "  </thead>\n",
              "  <tbody>\n",
              "    <tr>\n",
              "      <th rowspan=\"3\" valign=\"top\">남</th>\n",
              "      <th>대구</th>\n",
              "      <td>3200</td>\n",
              "      <td>173</td>\n",
              "      <td>3200.000000</td>\n",
              "      <td>173.000000</td>\n",
              "    </tr>\n",
              "    <tr>\n",
              "      <th>부산</th>\n",
              "      <td>3000</td>\n",
              "      <td>165</td>\n",
              "      <td>3000.000000</td>\n",
              "      <td>165.000000</td>\n",
              "    </tr>\n",
              "    <tr>\n",
              "      <th>서울</th>\n",
              "      <td>6500</td>\n",
              "      <td>533</td>\n",
              "      <td>2166.666667</td>\n",
              "      <td>177.666667</td>\n",
              "    </tr>\n",
              "    <tr>\n",
              "      <th rowspan=\"3\" valign=\"top\">여</th>\n",
              "      <th>부산</th>\n",
              "      <td>4000</td>\n",
              "      <td>170</td>\n",
              "      <td>4000.000000</td>\n",
              "      <td>170.000000</td>\n",
              "    </tr>\n",
              "    <tr>\n",
              "      <th>서울</th>\n",
              "      <td>3000</td>\n",
              "      <td>164</td>\n",
              "      <td>3000.000000</td>\n",
              "      <td>164.000000</td>\n",
              "    </tr>\n",
              "    <tr>\n",
              "      <th>인천</th>\n",
              "      <td>4500</td>\n",
              "      <td>330</td>\n",
              "      <td>2250.000000</td>\n",
              "      <td>165.000000</td>\n",
              "    </tr>\n",
              "  </tbody>\n",
              "</table>\n",
              "</div>"
            ],
            "text/plain": [
              "         sum              mean            \n",
              "          자산    키           자산           키\n",
              "성별 출생지                                    \n",
              "남  대구   3200  173  3200.000000  173.000000\n",
              "   부산   3000  165  3000.000000  165.000000\n",
              "   서울   6500  533  2166.666667  177.666667\n",
              "여  부산   4000  170  4000.000000  170.000000\n",
              "   서울   3000  164  3000.000000  164.000000\n",
              "   인천   4500  330  2250.000000  165.000000"
            ]
          },
          "metadata": {
            "tags": []
          },
          "execution_count": 79
        }
      ]
    }
  ]
}